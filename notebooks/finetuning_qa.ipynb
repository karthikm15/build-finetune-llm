{
  "nbformat": 4,
  "nbformat_minor": 0,
  "metadata": {
    "colab": {
      "provenance": []
    },
    "kernelspec": {
      "name": "python3",
      "display_name": "Python 3"
    },
    "language_info": {
      "name": "python"
    },
    "widgets": {
      "application/vnd.jupyter.widget-state+json": {
        "cf5fd8c67f5e496badd450c881ef67cd": {
          "model_module": "@jupyter-widgets/controls",
          "model_name": "VBoxModel",
          "model_module_version": "1.5.0",
          "state": {
            "_dom_classes": [],
            "_model_module": "@jupyter-widgets/controls",
            "_model_module_version": "1.5.0",
            "_model_name": "VBoxModel",
            "_view_count": null,
            "_view_module": "@jupyter-widgets/controls",
            "_view_module_version": "1.5.0",
            "_view_name": "VBoxView",
            "box_style": "",
            "children": [
              "IPY_MODEL_34b17971dae246809f40ebe63ee13f3c",
              "IPY_MODEL_095271e629cb4174a5dfc69c710fab49"
            ],
            "layout": "IPY_MODEL_26afebf6b3ab4f889e5d13d47bfb359e"
          }
        },
        "34b17971dae246809f40ebe63ee13f3c": {
          "model_module": "@jupyter-widgets/controls",
          "model_name": "LabelModel",
          "model_module_version": "1.5.0",
          "state": {
            "_dom_classes": [],
            "_model_module": "@jupyter-widgets/controls",
            "_model_module_version": "1.5.0",
            "_model_name": "LabelModel",
            "_view_count": null,
            "_view_module": "@jupyter-widgets/controls",
            "_view_module_version": "1.5.0",
            "_view_name": "LabelView",
            "description": "",
            "description_tooltip": null,
            "layout": "IPY_MODEL_58efe0f7106c4b73b798345da2d9a459",
            "placeholder": "​",
            "style": "IPY_MODEL_63f9db88222d46ae8d0d740d7306634b",
            "value": "0.510 MB of 0.510 MB uploaded\r"
          }
        },
        "095271e629cb4174a5dfc69c710fab49": {
          "model_module": "@jupyter-widgets/controls",
          "model_name": "FloatProgressModel",
          "model_module_version": "1.5.0",
          "state": {
            "_dom_classes": [],
            "_model_module": "@jupyter-widgets/controls",
            "_model_module_version": "1.5.0",
            "_model_name": "FloatProgressModel",
            "_view_count": null,
            "_view_module": "@jupyter-widgets/controls",
            "_view_module_version": "1.5.0",
            "_view_name": "ProgressView",
            "bar_style": "",
            "description": "",
            "description_tooltip": null,
            "layout": "IPY_MODEL_37ece247e86b4e0b95a4a96ff0717c58",
            "max": 1,
            "min": 0,
            "orientation": "horizontal",
            "style": "IPY_MODEL_7dc40d7153df4a9bae0c0c172be39ca8",
            "value": 1
          }
        },
        "26afebf6b3ab4f889e5d13d47bfb359e": {
          "model_module": "@jupyter-widgets/base",
          "model_name": "LayoutModel",
          "model_module_version": "1.2.0",
          "state": {
            "_model_module": "@jupyter-widgets/base",
            "_model_module_version": "1.2.0",
            "_model_name": "LayoutModel",
            "_view_count": null,
            "_view_module": "@jupyter-widgets/base",
            "_view_module_version": "1.2.0",
            "_view_name": "LayoutView",
            "align_content": null,
            "align_items": null,
            "align_self": null,
            "border": null,
            "bottom": null,
            "display": null,
            "flex": null,
            "flex_flow": null,
            "grid_area": null,
            "grid_auto_columns": null,
            "grid_auto_flow": null,
            "grid_auto_rows": null,
            "grid_column": null,
            "grid_gap": null,
            "grid_row": null,
            "grid_template_areas": null,
            "grid_template_columns": null,
            "grid_template_rows": null,
            "height": null,
            "justify_content": null,
            "justify_items": null,
            "left": null,
            "margin": null,
            "max_height": null,
            "max_width": null,
            "min_height": null,
            "min_width": null,
            "object_fit": null,
            "object_position": null,
            "order": null,
            "overflow": null,
            "overflow_x": null,
            "overflow_y": null,
            "padding": null,
            "right": null,
            "top": null,
            "visibility": null,
            "width": null
          }
        },
        "58efe0f7106c4b73b798345da2d9a459": {
          "model_module": "@jupyter-widgets/base",
          "model_name": "LayoutModel",
          "model_module_version": "1.2.0",
          "state": {
            "_model_module": "@jupyter-widgets/base",
            "_model_module_version": "1.2.0",
            "_model_name": "LayoutModel",
            "_view_count": null,
            "_view_module": "@jupyter-widgets/base",
            "_view_module_version": "1.2.0",
            "_view_name": "LayoutView",
            "align_content": null,
            "align_items": null,
            "align_self": null,
            "border": null,
            "bottom": null,
            "display": null,
            "flex": null,
            "flex_flow": null,
            "grid_area": null,
            "grid_auto_columns": null,
            "grid_auto_flow": null,
            "grid_auto_rows": null,
            "grid_column": null,
            "grid_gap": null,
            "grid_row": null,
            "grid_template_areas": null,
            "grid_template_columns": null,
            "grid_template_rows": null,
            "height": null,
            "justify_content": null,
            "justify_items": null,
            "left": null,
            "margin": null,
            "max_height": null,
            "max_width": null,
            "min_height": null,
            "min_width": null,
            "object_fit": null,
            "object_position": null,
            "order": null,
            "overflow": null,
            "overflow_x": null,
            "overflow_y": null,
            "padding": null,
            "right": null,
            "top": null,
            "visibility": null,
            "width": null
          }
        },
        "63f9db88222d46ae8d0d740d7306634b": {
          "model_module": "@jupyter-widgets/controls",
          "model_name": "DescriptionStyleModel",
          "model_module_version": "1.5.0",
          "state": {
            "_model_module": "@jupyter-widgets/controls",
            "_model_module_version": "1.5.0",
            "_model_name": "DescriptionStyleModel",
            "_view_count": null,
            "_view_module": "@jupyter-widgets/base",
            "_view_module_version": "1.2.0",
            "_view_name": "StyleView",
            "description_width": ""
          }
        },
        "37ece247e86b4e0b95a4a96ff0717c58": {
          "model_module": "@jupyter-widgets/base",
          "model_name": "LayoutModel",
          "model_module_version": "1.2.0",
          "state": {
            "_model_module": "@jupyter-widgets/base",
            "_model_module_version": "1.2.0",
            "_model_name": "LayoutModel",
            "_view_count": null,
            "_view_module": "@jupyter-widgets/base",
            "_view_module_version": "1.2.0",
            "_view_name": "LayoutView",
            "align_content": null,
            "align_items": null,
            "align_self": null,
            "border": null,
            "bottom": null,
            "display": null,
            "flex": null,
            "flex_flow": null,
            "grid_area": null,
            "grid_auto_columns": null,
            "grid_auto_flow": null,
            "grid_auto_rows": null,
            "grid_column": null,
            "grid_gap": null,
            "grid_row": null,
            "grid_template_areas": null,
            "grid_template_columns": null,
            "grid_template_rows": null,
            "height": null,
            "justify_content": null,
            "justify_items": null,
            "left": null,
            "margin": null,
            "max_height": null,
            "max_width": null,
            "min_height": null,
            "min_width": null,
            "object_fit": null,
            "object_position": null,
            "order": null,
            "overflow": null,
            "overflow_x": null,
            "overflow_y": null,
            "padding": null,
            "right": null,
            "top": null,
            "visibility": null,
            "width": null
          }
        },
        "7dc40d7153df4a9bae0c0c172be39ca8": {
          "model_module": "@jupyter-widgets/controls",
          "model_name": "ProgressStyleModel",
          "model_module_version": "1.5.0",
          "state": {
            "_model_module": "@jupyter-widgets/controls",
            "_model_module_version": "1.5.0",
            "_model_name": "ProgressStyleModel",
            "_view_count": null,
            "_view_module": "@jupyter-widgets/base",
            "_view_module_version": "1.2.0",
            "_view_name": "StyleView",
            "bar_color": null,
            "description_width": ""
          }
        }
      }
    }
  },
  "cells": [
    {
      "cell_type": "markdown",
      "source": [
        "## Import Libraries"
      ],
      "metadata": {
        "id": "i29BVVlUdbpQ"
      }
    },
    {
      "cell_type": "code",
      "source": [
        "!pip install wandb --quiet\n",
        "!pip install torchsummaryX -q\n",
        "!pip install datasets\n",
        "!pip install zstandard\n",
        "!pip install tiktoken\n",
        "!pip install rouge"
      ],
      "metadata": {
        "colab": {
          "base_uri": "https://localhost:8080/"
        },
        "id": "ENFSqOnlQsB6",
        "outputId": "6c327b13-89b0-4260-9d06-569515e7983f"
      },
      "execution_count": 1,
      "outputs": [
        {
          "output_type": "stream",
          "name": "stdout",
          "text": [
            "\u001b[?25l     \u001b[90m━━━━━━━━━━━━━━━━━━━━━━━━━━━━━━━━━━━━━━━━\u001b[0m \u001b[32m0.0/2.1 MB\u001b[0m \u001b[31m?\u001b[0m eta \u001b[36m-:--:--\u001b[0m\r\u001b[2K     \u001b[91m━━━\u001b[0m\u001b[91m╸\u001b[0m\u001b[90m━━━━━━━━━━━━━━━━━━━━━━━━━━━━━━━━━━━━\u001b[0m \u001b[32m0.2/2.1 MB\u001b[0m \u001b[31m6.3 MB/s\u001b[0m eta \u001b[36m0:00:01\u001b[0m\r\u001b[2K     \u001b[91m━━━━━━━━━━━━━━━━━━━━━━━━━━━━━━━━━━━━━━━\u001b[0m\u001b[91m╸\u001b[0m \u001b[32m2.1/2.1 MB\u001b[0m \u001b[31m34.2 MB/s\u001b[0m eta \u001b[36m0:00:01\u001b[0m\r\u001b[2K     \u001b[90m━━━━━━━━━━━━━━━━━━━━━━━━━━━━━━━━━━━━━━━━\u001b[0m \u001b[32m2.1/2.1 MB\u001b[0m \u001b[31m28.2 MB/s\u001b[0m eta \u001b[36m0:00:00\u001b[0m\n",
            "\u001b[2K     \u001b[90m━━━━━━━━━━━━━━━━━━━━━━━━━━━━━━━━━━━━━━\u001b[0m \u001b[32m190.6/190.6 kB\u001b[0m \u001b[31m39.2 MB/s\u001b[0m eta \u001b[36m0:00:00\u001b[0m\n",
            "\u001b[2K     \u001b[90m━━━━━━━━━━━━━━━━━━━━━━━━━━━━━━━━━━━━━━\u001b[0m \u001b[32m252.8/252.8 kB\u001b[0m \u001b[31m44.9 MB/s\u001b[0m eta \u001b[36m0:00:00\u001b[0m\n",
            "\u001b[2K     \u001b[90m━━━━━━━━━━━━━━━━━━━━━━━━━━━━━━━━━━━━━━━━\u001b[0m \u001b[32m62.7/62.7 kB\u001b[0m \u001b[31m14.4 MB/s\u001b[0m eta \u001b[36m0:00:00\u001b[0m\n",
            "\u001b[?25hCollecting datasets\n",
            "  Downloading datasets-2.15.0-py3-none-any.whl (521 kB)\n",
            "\u001b[2K     \u001b[90m━━━━━━━━━━━━━━━━━━━━━━━━━━━━━━━━━━━━━━━\u001b[0m \u001b[32m521.2/521.2 kB\u001b[0m \u001b[31m9.2 MB/s\u001b[0m eta \u001b[36m0:00:00\u001b[0m\n",
            "\u001b[?25hRequirement already satisfied: numpy>=1.17 in /usr/local/lib/python3.10/dist-packages (from datasets) (1.23.5)\n",
            "Requirement already satisfied: pyarrow>=8.0.0 in /usr/local/lib/python3.10/dist-packages (from datasets) (9.0.0)\n",
            "Collecting pyarrow-hotfix (from datasets)\n",
            "  Downloading pyarrow_hotfix-0.6-py3-none-any.whl (7.9 kB)\n",
            "Collecting dill<0.3.8,>=0.3.0 (from datasets)\n",
            "  Downloading dill-0.3.7-py3-none-any.whl (115 kB)\n",
            "\u001b[2K     \u001b[90m━━━━━━━━━━━━━━━━━━━━━━━━━━━━━━━━━━━━━━\u001b[0m \u001b[32m115.3/115.3 kB\u001b[0m \u001b[31m28.3 MB/s\u001b[0m eta \u001b[36m0:00:00\u001b[0m\n",
            "\u001b[?25hRequirement already satisfied: pandas in /usr/local/lib/python3.10/dist-packages (from datasets) (1.5.3)\n",
            "Requirement already satisfied: requests>=2.19.0 in /usr/local/lib/python3.10/dist-packages (from datasets) (2.31.0)\n",
            "Requirement already satisfied: tqdm>=4.62.1 in /usr/local/lib/python3.10/dist-packages (from datasets) (4.66.1)\n",
            "Collecting xxhash (from datasets)\n",
            "  Downloading xxhash-3.4.1-cp310-cp310-manylinux_2_17_x86_64.manylinux2014_x86_64.whl (194 kB)\n",
            "\u001b[2K     \u001b[90m━━━━━━━━━━━━━━━━━━━━━━━━━━━━━━━━━━━━━━\u001b[0m \u001b[32m194.1/194.1 kB\u001b[0m \u001b[31m34.8 MB/s\u001b[0m eta \u001b[36m0:00:00\u001b[0m\n",
            "\u001b[?25hCollecting multiprocess (from datasets)\n",
            "  Downloading multiprocess-0.70.15-py310-none-any.whl (134 kB)\n",
            "\u001b[2K     \u001b[90m━━━━━━━━━━━━━━━━━━━━━━━━━━━━━━━━━━━━━━\u001b[0m \u001b[32m134.8/134.8 kB\u001b[0m \u001b[31m29.0 MB/s\u001b[0m eta \u001b[36m0:00:00\u001b[0m\n",
            "\u001b[?25hRequirement already satisfied: fsspec[http]<=2023.10.0,>=2023.1.0 in /usr/local/lib/python3.10/dist-packages (from datasets) (2023.6.0)\n",
            "Requirement already satisfied: aiohttp in /usr/local/lib/python3.10/dist-packages (from datasets) (3.8.5)\n",
            "Collecting huggingface-hub>=0.18.0 (from datasets)\n",
            "  Downloading huggingface_hub-0.19.4-py3-none-any.whl (311 kB)\n",
            "\u001b[2K     \u001b[90m━━━━━━━━━━━━━━━━━━━━━━━━━━━━━━━━━━━━━━\u001b[0m \u001b[32m311.7/311.7 kB\u001b[0m \u001b[31m50.5 MB/s\u001b[0m eta \u001b[36m0:00:00\u001b[0m\n",
            "\u001b[?25hRequirement already satisfied: packaging in /usr/local/lib/python3.10/dist-packages (from datasets) (23.1)\n",
            "Requirement already satisfied: pyyaml>=5.1 in /usr/local/lib/python3.10/dist-packages (from datasets) (6.0.1)\n",
            "Requirement already satisfied: attrs>=17.3.0 in /usr/local/lib/python3.10/dist-packages (from aiohttp->datasets) (23.1.0)\n",
            "Requirement already satisfied: charset-normalizer<4.0,>=2.0 in /usr/local/lib/python3.10/dist-packages (from aiohttp->datasets) (3.2.0)\n",
            "Requirement already satisfied: multidict<7.0,>=4.5 in /usr/local/lib/python3.10/dist-packages (from aiohttp->datasets) (6.0.4)\n",
            "Requirement already satisfied: async-timeout<5.0,>=4.0.0a3 in /usr/local/lib/python3.10/dist-packages (from aiohttp->datasets) (4.0.3)\n",
            "Requirement already satisfied: yarl<2.0,>=1.0 in /usr/local/lib/python3.10/dist-packages (from aiohttp->datasets) (1.9.2)\n",
            "Requirement already satisfied: frozenlist>=1.1.1 in /usr/local/lib/python3.10/dist-packages (from aiohttp->datasets) (1.4.0)\n",
            "Requirement already satisfied: aiosignal>=1.1.2 in /usr/local/lib/python3.10/dist-packages (from aiohttp->datasets) (1.3.1)\n",
            "Requirement already satisfied: filelock in /usr/local/lib/python3.10/dist-packages (from huggingface-hub>=0.18.0->datasets) (3.12.2)\n",
            "Requirement already satisfied: typing-extensions>=3.7.4.3 in /usr/local/lib/python3.10/dist-packages (from huggingface-hub>=0.18.0->datasets) (4.5.0)\n",
            "Requirement already satisfied: idna<4,>=2.5 in /usr/local/lib/python3.10/dist-packages (from requests>=2.19.0->datasets) (3.4)\n",
            "Requirement already satisfied: urllib3<3,>=1.21.1 in /usr/local/lib/python3.10/dist-packages (from requests>=2.19.0->datasets) (2.0.4)\n",
            "Requirement already satisfied: certifi>=2017.4.17 in /usr/local/lib/python3.10/dist-packages (from requests>=2.19.0->datasets) (2023.7.22)\n",
            "Requirement already satisfied: python-dateutil>=2.8.1 in /usr/local/lib/python3.10/dist-packages (from pandas->datasets) (2.8.2)\n",
            "Requirement already satisfied: pytz>=2020.1 in /usr/local/lib/python3.10/dist-packages (from pandas->datasets) (2023.3.post1)\n",
            "Requirement already satisfied: six>=1.5 in /usr/local/lib/python3.10/dist-packages (from python-dateutil>=2.8.1->pandas->datasets) (1.16.0)\n",
            "Installing collected packages: xxhash, pyarrow-hotfix, dill, multiprocess, huggingface-hub, datasets\n",
            "Successfully installed datasets-2.15.0 dill-0.3.7 huggingface-hub-0.19.4 multiprocess-0.70.15 pyarrow-hotfix-0.6 xxhash-3.4.1\n",
            "Collecting zstandard\n",
            "  Downloading zstandard-0.22.0-cp310-cp310-manylinux_2_17_x86_64.manylinux2014_x86_64.whl (5.4 MB)\n",
            "\u001b[2K     \u001b[90m━━━━━━━━━━━━━━━━━━━━━━━━━━━━━━━━━━━━━━━━\u001b[0m \u001b[32m5.4/5.4 MB\u001b[0m \u001b[31m39.8 MB/s\u001b[0m eta \u001b[36m0:00:00\u001b[0m\n",
            "\u001b[?25hInstalling collected packages: zstandard\n",
            "Successfully installed zstandard-0.22.0\n",
            "Collecting tiktoken\n",
            "  Downloading tiktoken-0.5.2-cp310-cp310-manylinux_2_17_x86_64.manylinux2014_x86_64.whl (2.0 MB)\n",
            "\u001b[2K     \u001b[90m━━━━━━━━━━━━━━━━━━━━━━━━━━━━━━━━━━━━━━━━\u001b[0m \u001b[32m2.0/2.0 MB\u001b[0m \u001b[31m25.1 MB/s\u001b[0m eta \u001b[36m0:00:00\u001b[0m\n",
            "\u001b[?25hRequirement already satisfied: regex>=2022.1.18 in /usr/local/lib/python3.10/dist-packages (from tiktoken) (2023.6.3)\n",
            "Requirement already satisfied: requests>=2.26.0 in /usr/local/lib/python3.10/dist-packages (from tiktoken) (2.31.0)\n",
            "Requirement already satisfied: charset-normalizer<4,>=2 in /usr/local/lib/python3.10/dist-packages (from requests>=2.26.0->tiktoken) (3.2.0)\n",
            "Requirement already satisfied: idna<4,>=2.5 in /usr/local/lib/python3.10/dist-packages (from requests>=2.26.0->tiktoken) (3.4)\n",
            "Requirement already satisfied: urllib3<3,>=1.21.1 in /usr/local/lib/python3.10/dist-packages (from requests>=2.26.0->tiktoken) (2.0.4)\n",
            "Requirement already satisfied: certifi>=2017.4.17 in /usr/local/lib/python3.10/dist-packages (from requests>=2.26.0->tiktoken) (2023.7.22)\n",
            "Installing collected packages: tiktoken\n",
            "Successfully installed tiktoken-0.5.2\n",
            "Collecting rouge\n",
            "  Downloading rouge-1.0.1-py3-none-any.whl (13 kB)\n",
            "Requirement already satisfied: six in /usr/local/lib/python3.10/dist-packages (from rouge) (1.16.0)\n",
            "Installing collected packages: rouge\n",
            "Successfully installed rouge-1.0.1\n"
          ]
        }
      ]
    },
    {
      "cell_type": "code",
      "execution_count": 2,
      "metadata": {
        "colab": {
          "base_uri": "https://localhost:8080/"
        },
        "id": "VhOGy0oVQR2z",
        "outputId": "cebcfa4d-7297-4a7c-8bf9-1b206b86b229"
      },
      "outputs": [
        {
          "output_type": "stream",
          "name": "stdout",
          "text": [
            "Device:  cuda\n"
          ]
        }
      ],
      "source": [
        "import torch\n",
        "import random\n",
        "import numpy as np\n",
        "import torch.nn as nn\n",
        "import torch.nn.functional as F\n",
        "from torchsummaryX import summary\n",
        "from torch.utils.data import Dataset, DataLoader\n",
        "import torchaudio.transforms as tat\n",
        "from torch.nn.utils.rnn import pad_sequence, pack_padded_sequence, pad_packed_sequence\n",
        "from nltk.translate.bleu_score import sentence_bleu\n",
        "from rouge import Rouge\n",
        "\n",
        "from sklearn.metrics import accuracy_score\n",
        "import gc\n",
        "\n",
        "import zipfile\n",
        "import pandas as pd\n",
        "from tqdm import tqdm\n",
        "import os\n",
        "import datetime\n",
        "import zstandard\n",
        "import datasets\n",
        "import tiktoken\n",
        "import random\n",
        "import wandb\n",
        "import math\n",
        "\n",
        "import warnings\n",
        "warnings.filterwarnings('ignore')\n",
        "\n",
        "device = 'cuda' if torch.cuda.is_available() else 'cpu'\n",
        "print(\"Device: \", device)"
      ]
    },
    {
      "cell_type": "code",
      "source": [
        "### If you are using colab, you can import google drive to save model checkpoints in a folder.\n",
        "### This is used when connecting to GCE VMs, but the user still wants to connect to Google Drive\n",
        "import os.path as path\n",
        "if not path.exists(\"/content/drive\"):\n",
        "  !sudo add-apt-repository -y ppa:alessandro-strada/ppa 2>&1 > /dev/null\n",
        "  !sudo apt-get update -qq 2>&1 > /dev/null\n",
        "  !sudo apt -y install -qq google-drive-ocamlfuse 2>&1 > /dev/null\n",
        "  !google-drive-ocamlfuse\n",
        "\n",
        "  !sudo apt-get install -qq w3m # to act as web browser\n",
        "  !xdg-settings set default-web-browser w3m.desktop # to set default browser\n",
        "  %cd /content\n",
        "  !mkdir drive\n",
        "  %cd drive\n",
        "  !mkdir MyDrive\n",
        "  %cd ..\n",
        "  %cd ..\n",
        "  !google-drive-ocamlfuse /content/drive/MyDrive"
      ],
      "metadata": {
        "id": "fa2w5xXiU6OV",
        "colab": {
          "base_uri": "https://localhost:8080/"
        },
        "outputId": "d84caac2-3535-458a-b92d-f13a8576b300"
      },
      "execution_count": 3,
      "outputs": [
        {
          "output_type": "stream",
          "name": "stdout",
          "text": [
            "\n",
            "WARNING: apt does not have a stable CLI interface. Use with caution in scripts.\n",
            "\n",
            "debconf: unable to initialize frontend: Dialog\n",
            "debconf: (No usable dialog-like program is installed, so the dialog based frontend cannot be used. at /usr/share/perl5/Debconf/FrontEnd/Dialog.pm line 78, <> line 1.)\n",
            "debconf: falling back to frontend: Readline\n",
            "debconf: unable to initialize frontend: Readline\n",
            "debconf: (This frontend requires a controlling tty.)\n",
            "debconf: falling back to frontend: Teletype\n",
            "dpkg-preconfigure: unable to re-open stdin: \n",
            "/usr/bin/xdg-open: 882: www-browser: not found\n",
            "/usr/bin/xdg-open: 882: links2: not found\n",
            "/usr/bin/xdg-open: 882: elinks: not found\n",
            "/usr/bin/xdg-open: 882: links: not found\n",
            "/usr/bin/xdg-open: 882: lynx: not found\n",
            "/usr/bin/xdg-open: 882: w3m: not found\n",
            "xdg-open: no method available for opening 'https://accounts.google.com/o/oauth2/auth?client_id=564921029129.apps.googleusercontent.com&redirect_uri=https%3A%2F%2Fgd-ocaml-auth.appspot.com%2Foauth2callback&scope=https%3A%2F%2Fwww.googleapis.com%2Fauth%2Fdrive&response_type=code&access_type=offline&approval_prompt=force&state=1HsuGMHuO2me1-0AvPA1Iq0kubPBALju3Q%2F9eIJ0xmw'\n",
            "/bin/sh: 1: firefox: not found\n",
            "/bin/sh: 1: google-chrome: not found\n",
            "/bin/sh: 1: chromium-browser: not found\n",
            "/usr/bin/open: 882: www-browser: not found\n",
            "/usr/bin/open: 882: links2: not found\n",
            "/usr/bin/open: 882: elinks: not found\n",
            "/usr/bin/open: 882: links: not found\n",
            "/usr/bin/open: 882: lynx: not found\n",
            "/usr/bin/open: 882: w3m: not found\n",
            "xdg-open: no method available for opening 'https://accounts.google.com/o/oauth2/auth?client_id=564921029129.apps.googleusercontent.com&redirect_uri=https%3A%2F%2Fgd-ocaml-auth.appspot.com%2Foauth2callback&scope=https%3A%2F%2Fwww.googleapis.com%2Fauth%2Fdrive&response_type=code&access_type=offline&approval_prompt=force&state=1HsuGMHuO2me1-0AvPA1Iq0kubPBALju3Q%2F9eIJ0xmw'\n",
            "Cannot retrieve auth tokens.\n",
            "Failure(\"Error opening URL:https://accounts.google.com/o/oauth2/auth?client_id=564921029129.apps.googleusercontent.com&redirect_uri=https%3A%2F%2Fgd-ocaml-auth.appspot.com%2Foauth2callback&scope=https%3A%2F%2Fwww.googleapis.com%2Fauth%2Fdrive&response_type=code&access_type=offline&approval_prompt=force&state=1HsuGMHuO2me1-0AvPA1Iq0kubPBALju3Q%2F9eIJ0xmw\")\n",
            "debconf: unable to initialize frontend: Dialog\n",
            "debconf: (No usable dialog-like program is installed, so the dialog based frontend cannot be used. at /usr/share/perl5/Debconf/FrontEnd/Dialog.pm line 78, <> line 1.)\n",
            "debconf: falling back to frontend: Readline\n",
            "debconf: unable to initialize frontend: Readline\n",
            "debconf: (This frontend requires a controlling tty.)\n",
            "debconf: falling back to frontend: Teletype\n",
            "dpkg-preconfigure: unable to re-open stdin: \n",
            "Selecting previously unselected package w3m.\n",
            "(Reading database ... 120900 files and directories currently installed.)\n",
            "Preparing to unpack .../w3m_0.5.3+git20210102-6ubuntu0.1_amd64.deb ...\n",
            "Unpacking w3m (0.5.3+git20210102-6ubuntu0.1) ...\n",
            "Setting up w3m (0.5.3+git20210102-6ubuntu0.1) ...\n",
            "Processing triggers for man-db (2.10.2-1) ...\n",
            "/content\n",
            "/content/drive\n",
            "/content\n",
            "/\n",
            "Access token retrieved correctly.\n"
          ]
        }
      ]
    },
    {
      "cell_type": "markdown",
      "source": [
        "# Downloading Dataset (Stanford QA)"
      ],
      "metadata": {
        "id": "XsQDQxAKB5CC"
      }
    },
    {
      "cell_type": "code",
      "source": [
        "from datasets import load_dataset\n",
        "import datasets\n",
        "dataset = load_dataset('squad')"
      ],
      "metadata": {
        "id": "1qB5zAL3B6tK"
      },
      "execution_count": 83,
      "outputs": []
    },
    {
      "cell_type": "code",
      "source": [
        "config = {\n",
        "    'epochs'        : 5,\n",
        "    'batch_size'    : 32,\n",
        "    'init_lr'       : 3e-4,\n",
        "    'block_size'    : 256,\n",
        "    'dropout'       : 0.1,\n",
        "    'vocab_size'    : 50257,\n",
        "    'bias'          : True,\n",
        "    'n_layer'       : 12,\n",
        "    'n_head'        : 10,\n",
        "    'n_embd'        : 250,\n",
        "    'end_token'     : 50256,\n",
        "    'answer_length' : 15\n",
        "}"
      ],
      "metadata": {
        "id": "IH52xoxRPQmb"
      },
      "execution_count": 84,
      "outputs": []
    },
    {
      "cell_type": "code",
      "source": [
        "test_valid = dataset['validation'].train_test_split(test_size=0.5)\n",
        "dataset = datasets.DatasetDict({\n",
        "    'train': dataset['train'],\n",
        "    'test': test_valid['test'],\n",
        "    'valid': test_valid['train']})"
      ],
      "metadata": {
        "id": "9avyYZjVLcxA"
      },
      "execution_count": 85,
      "outputs": []
    },
    {
      "cell_type": "code",
      "source": [
        "def pad_with_eos(text, length=config['answer_length']):\n",
        "  if length > len(text):\n",
        "    pad_len = length - len(text)\n",
        "    text += [config['end_token']] * pad_len\n",
        "    return text\n",
        "  else:\n",
        "    return text[:length]"
      ],
      "metadata": {
        "id": "xiWbrMksvjWT"
      },
      "execution_count": 86,
      "outputs": []
    },
    {
      "cell_type": "code",
      "source": [
        "# Dataset class to load train and validation data\n",
        "\n",
        "class StanfordQADataset(torch.utils.data.Dataset):\n",
        "\n",
        "    def __init__(self, prefix):\n",
        "\n",
        "        prev_data = dataset[prefix]\n",
        "        enc = tiktoken.get_encoding(\"gpt2\")\n",
        "\n",
        "        # Only get the first 256 tokens of the question and the context (to account for block size)\n",
        "        self.inputs = [enc.encode_ordinary(\"Answer the following question given the context. Question: \" + prev_data[i][\"question\"] +\n",
        "                        \" Context: \" + prev_data[i][\"context\"])[:min(256, len(enc.encode_ordinary(prev_data[i][\"question\"] + prev_data[i][\"context\"]))+12)]\n",
        "            if (prev_data[i][\"question\"] != None and prev_data[i][\"context\"] != None) else [] for i in range(len(prev_data))]\n",
        "\n",
        "        self.targets = [enc.encode_ordinary(prev_data[i][\"answers\"][\"text\"][0]) for i in range(len(prev_data))]\n",
        "\n",
        "        assert len(self.inputs) == len(self.targets)\n",
        "        self.length = len(self.inputs)\n",
        "\n",
        "    def __len__(self):\n",
        "        return self.length\n",
        "\n",
        "    def __getitem__(self, ind):\n",
        "        return torch.tensor(self.inputs[ind]), torch.tensor(self.targets[ind])\n",
        "\n",
        "    def collate_fn(self,batch):\n",
        "        # batch of input mfcc coefficients\n",
        "        batch_question = [batch[i][0] for i in range(len(batch))]\n",
        "        # batch of output phonemes\n",
        "        batch_answer = [batch[i][1] for i in range(len(batch))]\n",
        "\n",
        "        # Pad the sequences so that they are all the same lengths in batch\n",
        "        batch_question_pad = pad_sequence(batch_question, batch_first=True, padding_value=config['end_token'])\n",
        "        B, T = batch_question_pad.shape\n",
        "        batch_question_pad = torch.cat([batch_question_pad, torch.full((B,256-T), fill_value=config['end_token'], dtype=torch.int32)], dim=1)\n",
        "        lengths_question = [batch_question[question].shape[0] for question in range(len(batch_question))]\n",
        "\n",
        "        batch_answer_pad = pad_sequence(batch_answer, batch_first=True, padding_value=config['end_token'])\n",
        "        B, T = batch_answer_pad.shape\n",
        "        if (T >= 15):\n",
        "          batch_answer_pad = batch_answer_pad[:, :config['answer_length']]\n",
        "        else:\n",
        "          batch_answer_pad = torch.cat([batch_answer_pad, torch.full((B,config['answer_length']-T), fill_value=config['end_token'], dtype=torch.int32)], dim=1)\n",
        "        lengths_answer = [batch_answer[answer].shape[0] for answer in range(len(batch_answer))]\n",
        "\n",
        "        # Return the following values: padded features, padded labels, actual length of features, actual length of the labels\n",
        "        return batch_question_pad, batch_answer_pad, torch.tensor(lengths_question), torch.tensor(lengths_answer)"
      ],
      "metadata": {
        "id": "qRzyu2PQCvpu"
      },
      "execution_count": 127,
      "outputs": []
    },
    {
      "cell_type": "code",
      "source": [
        "# Dataset class to load train and validation data\n",
        "\n",
        "class StanfordQATestDataset(torch.utils.data.Dataset):\n",
        "\n",
        "    def __init__(self, prefix):\n",
        "\n",
        "        prev_data = dataset[prefix]\n",
        "        enc = tiktoken.get_encoding(\"gpt2\")\n",
        "\n",
        "        # Only get the first 256 tokens of the question and the context (to account for block size)\n",
        "        self.inputs = [enc.encode_ordinary(\"Answer the following question given the context. Question: \" + prev_data[i][\"question\"] +\n",
        "                        \" Context: \" + prev_data[i][\"context\"] + \" Answer: \")[:min(256, len(enc.encode_ordinary(prev_data[i][\"question\"] + prev_data[i][\"context\"]))+14)]\n",
        "            if (prev_data[i][\"question\"] != None and prev_data[i][\"context\"] != None) else [] for i in range(len(prev_data))]\n",
        "\n",
        "        self.length = len(self.inputs)\n",
        "\n",
        "    def __len__(self):\n",
        "        return self.length\n",
        "\n",
        "    def __getitem__(self, ind):\n",
        "        return torch.tensor(self.inputs[ind])\n",
        "\n",
        "    def collate_fn(self,batch):\n",
        "        # Pad the sequences so that they are all the same lengths in batch\n",
        "        batch_question_pad = pad_sequence(batch, batch_first=True, padding_value=config['end_token'])\n",
        "        B, T = batch_question_pad.shape\n",
        "        batch_question_pad = torch.cat([batch_question_pad, torch.full((B,256-T),fill_value=config['end_token'],dtype=torch.int32)], dim=1)\n",
        "        lengths_question = [batch[question].shape[0] for question in range(len(batch))]\n",
        "\n",
        "        # Return the following values: padded features, padded labels, actual length of features, actual length of the labels\n",
        "        return batch_question_pad, torch.tensor(lengths_question)"
      ],
      "metadata": {
        "id": "MHfd6QPJXfOs"
      },
      "execution_count": 128,
      "outputs": []
    },
    {
      "cell_type": "code",
      "source": [
        "train_data = StanfordQADataset(prefix=\"train\")\n",
        "val_data = StanfordQADataset(prefix=\"valid\")\n",
        "test_data = StanfordQADataset(prefix=\"test\")"
      ],
      "metadata": {
        "id": "F8ir9WlWX1MY"
      },
      "execution_count": 129,
      "outputs": []
    },
    {
      "cell_type": "code",
      "source": [
        "train_loader = torch.utils.data.DataLoader(\n",
        "    dataset     = train_data,\n",
        "    num_workers = 1,\n",
        "    batch_size  = config['batch_size'],\n",
        "    pin_memory  = True,\n",
        "    collate_fn  = train_data.collate_fn,\n",
        "    shuffle     = True\n",
        ")\n",
        "\n",
        "val_loader = torch.utils.data.DataLoader(\n",
        "    dataset     = val_data,\n",
        "    num_workers = 1,\n",
        "    batch_size  = config['batch_size'],\n",
        "    pin_memory  = True,\n",
        "    collate_fn  = val_data.collate_fn,\n",
        "    shuffle     = False\n",
        ")\n",
        "\n",
        "test_loader = torch.utils.data.DataLoader(\n",
        "    dataset     = test_data,\n",
        "    num_workers = 1,\n",
        "    batch_size  = config['batch_size'],\n",
        "    pin_memory  = True,\n",
        "    collate_fn  = test_data.collate_fn,\n",
        "    shuffle     = False\n",
        ")"
      ],
      "metadata": {
        "id": "wu55BlPsdkuw"
      },
      "execution_count": 130,
      "outputs": []
    },
    {
      "cell_type": "code",
      "source": [
        "# Testing code to check if your data loaders are working\n",
        "for i, data in enumerate(train_loader):\n",
        "    x, y, lx, ly = data\n",
        "    print(x.shape, y.shape)\n",
        "    print(x, y)\n",
        "    break\n",
        "\n",
        "for i, data in enumerate(test_loader):\n",
        "    x, y, lx, ly = data\n",
        "    print(x.shape, y.shape)\n",
        "    print(x, y)\n",
        "    break"
      ],
      "metadata": {
        "colab": {
          "base_uri": "https://localhost:8080/"
        },
        "id": "rVWa-zz9Lw6H",
        "outputId": "7cb957d8-4bef-4524-fda6-136b53609bf1"
      },
      "execution_count": 131,
      "outputs": [
        {
          "output_type": "stream",
          "name": "stdout",
          "text": [
            "torch.Size([32, 256]) torch.Size([32, 15])\n",
            "tensor([[33706,   262,  1708,  ...,    11,   673,  9301],\n",
            "        [33706,   262,  1708,  ..., 50256, 50256, 50256],\n",
            "        [33706,   262,  1708,  ..., 50256, 50256, 50256],\n",
            "        ...,\n",
            "        [33706,   262,  1708,  ...,   423,  2098,   326],\n",
            "        [33706,   262,  1708,  ..., 50256, 50256, 50256],\n",
            "        [33706,   262,  1708,  ..., 50256, 50256, 50256]]) tensor([[  298,  7537,    72, 16607, 15846,   287,  1123, 50256, 50256, 50256,\n",
            "         50256, 50256, 50256, 50256, 50256],\n",
            "        [ 1731,  2075, 50256, 50256, 50256, 50256, 50256, 50256, 50256, 50256,\n",
            "         50256, 50256, 50256, 50256, 50256],\n",
            "        [ 1169,  2039, 22873,  2634, 11979, 50256, 50256, 50256, 50256, 50256,\n",
            "         50256, 50256, 50256, 50256, 50256],\n",
            "        [ 1065,  1120,  9088, 50256, 50256, 50256, 50256, 50256, 50256, 50256,\n",
            "         50256, 50256, 50256, 50256, 50256],\n",
            "        [ 3791,  4479, 21345, 50256, 50256, 50256, 50256, 50256, 50256, 50256,\n",
            "         50256, 50256, 50256, 50256, 50256],\n",
            "        [  261,  2681,  1737,  9768,   262,  9677,  9952,  4041,   373,  7042,\n",
            "           355,   257,  3614,  1664,  1762],\n",
            "        [48620, 50256, 50256, 50256, 50256, 50256, 50256, 50256, 50256, 50256,\n",
            "         50256, 50256, 50256, 50256, 50256],\n",
            "        [37675,   290,  5175,  7534, 50256, 50256, 50256, 50256, 50256, 50256,\n",
            "         50256, 50256, 50256, 50256, 50256],\n",
            "        [ 3510,    13,  3901,     4,   286,   661, 50256, 50256, 50256, 50256,\n",
            "         50256, 50256, 50256, 50256, 50256],\n",
            "        [  464,   968,  1971,  3782, 50256, 50256, 50256, 50256, 50256, 50256,\n",
            "         50256, 50256, 50256, 50256, 50256],\n",
            "        [12227,  2063,   286,   262, 29666,  4289, 50256, 50256, 50256, 50256,\n",
            "         50256, 50256, 50256, 50256, 50256],\n",
            "        [   82,  2501, 50256, 50256, 50256, 50256, 50256, 50256, 50256, 50256,\n",
            "         50256, 50256, 50256, 50256, 50256],\n",
            "        [ 1507,  2998, 50256, 50256, 50256, 50256, 50256, 50256, 50256, 50256,\n",
            "         50256, 50256, 50256, 50256, 50256],\n",
            "        [ 7645,  3291,  2214,  8064,    11,  3951,    11,   290,  5739,  2494,\n",
            "         50256, 50256, 50256, 50256, 50256],\n",
            "        [ 1169, 29018,  9557,  4482, 50256, 50256, 50256, 50256, 50256, 50256,\n",
            "         50256, 50256, 50256, 50256, 50256],\n",
            "        [31602,   471, 11261,    88,   324,  2199, 34981, 50256, 50256, 50256,\n",
            "         50256, 50256, 50256, 50256, 50256],\n",
            "        [17013,  1829, 50256, 50256, 50256, 50256, 50256, 50256, 50256, 50256,\n",
            "         50256, 50256, 50256, 50256, 50256],\n",
            "        [43917,  3096, 50256, 50256, 50256, 50256, 50256, 50256, 50256, 50256,\n",
            "         50256, 50256, 50256, 50256, 50256],\n",
            "        [12942,   278,  2785,  4297,   284,   511,  3420, 50256, 50256, 50256,\n",
            "         50256, 50256, 50256, 50256, 50256],\n",
            "        [20298,  1634,   286,   262,  2679,   291, 14366, 50256, 50256, 50256,\n",
            "         50256, 50256, 50256, 50256, 50256],\n",
            "        [10449,  1793,   632,   338,  6786, 50256, 50256, 50256, 50256, 50256,\n",
            "         50256, 50256, 50256, 50256, 50256],\n",
            "        [   35,  4649,   286, 23475, 50256, 50256, 50256, 50256, 50256, 50256,\n",
            "         50256, 50256, 50256, 50256, 50256],\n",
            "        [  268,  2977,   262,  1097,   284,  1445, 50256, 50256, 50256, 50256,\n",
            "         50256, 50256, 50256, 50256, 50256],\n",
            "        [   79, 50256, 50256, 50256, 50256, 50256, 50256, 50256, 50256, 50256,\n",
            "         50256, 50256, 50256, 50256, 50256],\n",
            "        [19891,    82, 50256, 50256, 50256, 50256, 50256, 50256, 50256, 50256,\n",
            "         50256, 50256, 50256, 50256, 50256],\n",
            "        [ 7371, 44972, 50256, 50256, 50256, 50256, 50256, 50256, 50256, 50256,\n",
            "         50256, 50256, 50256, 50256, 50256],\n",
            "        [ 2411, 17035,  2753,  7744,  2936, 10825,   290, 38356,  4340,   606,\n",
            "          1626,   257,  1080,   286,  2276],\n",
            "        [ 3886,  6303,    11,   262, 20962,  9840,  3017,   517,   621,   257,\n",
            "          8667,  9450,    14, 33001,  9376],\n",
            "        [20298,   414, 50256, 50256, 50256, 50256, 50256, 50256, 50256, 50256,\n",
            "         50256, 50256, 50256, 50256, 50256],\n",
            "        [ 1507,  6052, 50256, 50256, 50256, 50256, 50256, 50256, 50256, 50256,\n",
            "         50256, 50256, 50256, 50256, 50256],\n",
            "        [ 8600,  7637,   494, 21984,   805, 50256, 50256, 50256, 50256, 50256,\n",
            "         50256, 50256, 50256, 50256, 50256],\n",
            "        [ 1934,  6787,   654, 50256, 50256, 50256, 50256, 50256, 50256, 50256,\n",
            "         50256, 50256, 50256, 50256, 50256]])\n",
            "torch.Size([32, 256]) torch.Size([32, 15])\n",
            "tensor([[33706,   262,  1708,  ..., 50256, 50256, 50256],\n",
            "        [33706,   262,  1708,  ...,   284,   281,  7125],\n",
            "        [33706,   262,  1708,  ..., 50256, 50256, 50256],\n",
            "        ...,\n",
            "        [33706,   262,  1708,  ..., 50256, 50256, 50256],\n",
            "        [33706,   262,  1708,  ..., 50256, 50256, 50256],\n",
            "        [33706,   262,  1708,  ..., 50256, 50256, 50256]]) tensor([[  505,   835, 50256, 50256, 50256, 50256, 50256, 50256, 50256, 50256,\n",
            "         50256, 50256, 50256, 50256, 50256],\n",
            "        [12218, 13944, 50256, 50256, 50256, 50256, 50256, 50256, 50256, 50256,\n",
            "         50256, 50256, 50256, 50256, 50256],\n",
            "        [18206, 12632,  4673,  2974,   287, 10016,  3794, 50256, 50256, 50256,\n",
            "         50256, 50256, 50256, 50256, 50256],\n",
            "        [ 1452, 50256, 50256, 50256, 50256, 50256, 50256, 50256, 50256, 50256,\n",
            "         50256, 50256, 50256, 50256, 50256],\n",
            "        [   70,  4108, 22181, 50256, 50256, 50256, 50256, 50256, 50256, 50256,\n",
            "         50256, 50256, 50256, 50256, 50256],\n",
            "        [  646,  5209, 50256, 50256, 50256, 50256, 50256, 50256, 50256, 50256,\n",
            "         50256, 50256, 50256, 50256, 50256],\n",
            "        [   66,   619,   278,   290, 10505,  8471,   278, 50256, 50256, 50256,\n",
            "         50256, 50256, 50256, 50256, 50256],\n",
            "        [13681,  3764,   286, 39923, 50256, 50256, 50256, 50256, 50256, 50256,\n",
            "         50256, 50256, 50256, 50256, 50256],\n",
            "        [ 1477,  4501, 50256, 50256, 50256, 50256, 50256, 50256, 50256, 50256,\n",
            "         50256, 50256, 50256, 50256, 50256],\n",
            "        [   82, 12664,  6588,   378,   290, 33156,  6588,   378, 50256, 50256,\n",
            "         50256, 50256, 50256, 50256, 50256],\n",
            "        [ 1169,  3427, 12297,    12,    69, 22863,  4452, 50256, 50256, 50256,\n",
            "         50256, 50256, 50256, 50256, 50256],\n",
            "        [   50,   722,    12,    51,  2150,   575,   559, 50256, 50256, 50256,\n",
            "         50256, 50256, 50256, 50256, 50256],\n",
            "        [  940, 50256, 50256, 50256, 50256, 50256, 50256, 50256, 50256, 50256,\n",
            "         50256, 50256, 50256, 50256, 50256],\n",
            "        [ 1821, 50256, 50256, 50256, 50256, 50256, 50256, 50256, 50256, 50256,\n",
            "         50256, 50256, 50256, 50256, 50256],\n",
            "        [   50,  8623,  2150,    82,   332, 13645, 50256, 50256, 50256, 50256,\n",
            "         50256, 50256, 50256, 50256, 50256],\n",
            "        [ 9423,   462, 15950,  1915,   839, 50256, 50256, 50256, 50256, 50256,\n",
            "         50256, 50256, 50256, 50256, 50256],\n",
            "        [   64,  6253, 50256, 50256, 50256, 50256, 50256, 50256, 50256, 50256,\n",
            "         50256, 50256, 50256, 50256, 50256],\n",
            "        [39505, 13517, 50256, 50256, 50256, 50256, 50256, 50256, 50256, 50256,\n",
            "         50256, 50256, 50256, 50256, 50256],\n",
            "        [ 1939, 31150,   602,   561,   691,   307,  9242,  1431,   329,   257,\n",
            "          5969,  1351,   286,  3840, 50256],\n",
            "        [  265,  1551,   617,   662,    12, 11578,   768,   290,  4302,  4356,\n",
            "          8231, 50256, 50256, 50256, 50256],\n",
            "        [   46,  2004, 20295, 50256, 50256, 50256, 50256, 50256, 50256, 50256,\n",
            "         50256, 50256, 50256, 50256, 50256],\n",
            "        [ 6385,   262,  7169,    82, 50256, 50256, 50256, 50256, 50256, 50256,\n",
            "         50256, 50256, 50256, 50256, 50256],\n",
            "        [49818, 16582, 50256, 50256, 50256, 50256, 50256, 50256, 50256, 50256,\n",
            "         50256, 50256, 50256, 50256, 50256],\n",
            "        [   64,  8904,  6903,   286,  5694,  7229,   290,  2807, 50256, 50256,\n",
            "         50256, 50256, 50256, 50256, 50256],\n",
            "        [   77,   538,  6391, 50256, 50256, 50256, 50256, 50256, 50256, 50256,\n",
            "         50256, 50256, 50256, 50256, 50256],\n",
            "        [18009,    13,  3362,   309,    13, 35719, 30567, 50256, 50256, 50256,\n",
            "         50256, 50256, 50256, 50256, 50256],\n",
            "        [  687,   282,  1042, 50256, 50256, 50256, 50256, 50256, 50256, 50256,\n",
            "         50256, 50256, 50256, 50256, 50256],\n",
            "        [   83,  3413, 50256, 50256, 50256, 50256, 50256, 50256, 50256, 50256,\n",
            "         50256, 50256, 50256, 50256, 50256],\n",
            "        [ 6738, 17711, 32586,   290, 43867,   287,   262,  5093,    11,   284,\n",
            "          7859,   287,   262,  5366, 50256],\n",
            "        [ 9930,   423,   734,  2685, 43447, 50256, 50256, 50256, 50256, 50256,\n",
            "         50256, 50256, 50256, 50256, 50256],\n",
            "        [   54,   312,   877, 10074, 50256, 50256, 50256, 50256, 50256, 50256,\n",
            "         50256, 50256, 50256, 50256, 50256],\n",
            "        [12442,  8693,  2254, 50256, 50256, 50256, 50256, 50256, 50256, 50256,\n",
            "         50256, 50256, 50256, 50256, 50256]])\n"
          ]
        }
      ]
    },
    {
      "cell_type": "code",
      "source": [
        "gc.collect()\n",
        "torch.cuda.empty_cache()"
      ],
      "metadata": {
        "id": "A1TCHUMdkdZb"
      },
      "execution_count": 132,
      "outputs": []
    },
    {
      "cell_type": "markdown",
      "source": [
        "## Blocks"
      ],
      "metadata": {
        "id": "MAs6Za9psX94"
      }
    },
    {
      "cell_type": "code",
      "source": [
        "# Layer normalization for regularizing the model\n",
        "class LayerNorm(nn.Module):\n",
        "  def __init__(self, ndim, bias):\n",
        "    super().__init__()\n",
        "    self.weight = torch.nn.Parameter(torch.ones(ndim))\n",
        "    self.bias = torch.nn.Parameter(torch.zeros(ndim)) if bias else None\n",
        "\n",
        "  def forward(self, input):\n",
        "    return F.layer_norm(input, self.weight.shape, self.weight, self.bias, 1e-5)"
      ],
      "metadata": {
        "id": "yztgrED4sX95"
      },
      "execution_count": 133,
      "outputs": []
    },
    {
      "cell_type": "code",
      "source": [
        "class CausalSelfAttention(nn.Module):\n",
        "  def __init__(self, config):\n",
        "    super().__init__()\n",
        "    self.c_attn = nn.Linear(config['n_embd'], 3 * config['n_embd'], bias=config['bias'])\n",
        "    self.c_proj = nn.Linear(config['n_embd'], config['n_embd'], bias=config['bias'])\n",
        "\n",
        "    self.attn_dropout = nn.Dropout(config['dropout'])\n",
        "    self.resid_dropout = nn.Dropout(config['dropout'])\n",
        "\n",
        "  def forward(self, x):\n",
        "    B, T, C = x.size()\n",
        "\n",
        "    q, k, v  = self.c_attn(x).split(config['n_embd'], dim=2)\n",
        "    k = k.view(B, T, config['n_head'], C // config['n_head']).transpose(1, 2)\n",
        "    q = q.view(B, T, config['n_head'], C // config['n_head']).transpose(1, 2)\n",
        "    v = v.view(B, T, config['n_head'], C // config['n_head']).transpose(1, 2)\n",
        "\n",
        "    y = torch.nn.functional.scaled_dot_product_attention(q, k, v,\n",
        "                                                         attn_mask=None,\n",
        "                                                         dropout_p=config['dropout']if self.training else 0,\n",
        "                                                         is_causal=True)\n",
        "\n",
        "    y = y.transpose(1, 2).contiguous().view(B, T, C)\n",
        "\n",
        "    y = self.resid_dropout(self.c_proj(y))\n",
        "    return y"
      ],
      "metadata": {
        "id": "3NQXeN3tsX95"
      },
      "execution_count": 134,
      "outputs": []
    },
    {
      "cell_type": "code",
      "source": [
        "class MLP(nn.Module):\n",
        "\n",
        "    def __init__(self, config):\n",
        "        super().__init__()\n",
        "        self.c_fc = nn.Linear(config['n_embd'], 4 * config['n_embd'], bias=config['bias'])\n",
        "        self.gelu = nn.GELU()\n",
        "        self.c_proj = nn.Linear(4 * config['n_embd'], config['n_embd'], bias=config['bias'])\n",
        "        self.dropout = nn.Dropout(config['dropout'])\n",
        "\n",
        "    def forward(self, x):\n",
        "        x = self.c_fc(x)\n",
        "        x = self.gelu(x)\n",
        "        x = self.c_proj(x)\n",
        "        x = self.dropout(x)\n",
        "        return x"
      ],
      "metadata": {
        "id": "blLWmw3msX95"
      },
      "execution_count": 135,
      "outputs": []
    },
    {
      "cell_type": "code",
      "source": [
        "class Block(nn.Module):\n",
        "\n",
        "    def __init__(self, config):\n",
        "        super().__init__()\n",
        "        self.ln_1 = LayerNorm(config['n_embd'], bias=config['bias'])\n",
        "        self.attn = CausalSelfAttention(config)\n",
        "        self.ln_2 = LayerNorm(config['n_embd'], bias=config['bias'])\n",
        "        self.mlp = MLP(config)\n",
        "\n",
        "    def forward(self, x):\n",
        "        x = x + self.attn(self.ln_1(x))\n",
        "        x = x + self.mlp(self.ln_2(x))\n",
        "        return x"
      ],
      "metadata": {
        "id": "xJ00lT-fsX95"
      },
      "execution_count": 136,
      "outputs": []
    },
    {
      "cell_type": "markdown",
      "source": [
        "## Model"
      ],
      "metadata": {
        "id": "WUq33Xk5sX96"
      }
    },
    {
      "cell_type": "code",
      "source": [
        "class GPT(nn.Module):\n",
        "  def __init__(self, config):\n",
        "    super().__init__()\n",
        "\n",
        "    self.config = config\n",
        "\n",
        "    self.transformer = nn.ModuleDict(dict(\n",
        "        wte = nn.Embedding(config['vocab_size'], config['n_embd']),\n",
        "        wpe = nn.Embedding(config['block_size'], config['n_embd']),\n",
        "        drop = nn.Dropout(config['dropout']),\n",
        "        h = nn.ModuleList([Block(config) for _ in range(config['n_layer'])]),\n",
        "        ln_f = LayerNorm(config['n_embd'], bias=config['bias']),\n",
        "    ))\n",
        "\n",
        "    self.lm_head = nn.Linear(config['n_embd'], config['vocab_size'], bias=False)\n",
        "\n",
        "    self.transformer.wte.weight = self.lm_head.weight\n",
        "    self.apply(self._init_weights)\n",
        "\n",
        "    for pn, p in self.named_parameters():\n",
        "      if pn.endswith('c_proj.weight'):\n",
        "        torch.nn.init.normal_(p, mean=0.0, std=0.02/math.sqrt(2 * config['n_layer']))\n",
        "\n",
        "\n",
        "  def _init_weights(self, module):\n",
        "    if isinstance(module, nn.Linear):\n",
        "        torch.nn.init.normal_(module.weight, mean=0.0, std=0.02)\n",
        "        if module.bias is not None:\n",
        "            torch.nn.init.zeros_(module.bias)\n",
        "    elif isinstance(module, nn.Embedding):\n",
        "        torch.nn.init.normal_(module.weight, mean=0.0, std=0.02)\n",
        "\n",
        "  def forward(self, idx, targets=None):\n",
        "      device = idx.device\n",
        "      b, t = idx.size()\n",
        "      pos = torch.arange(0, t, dtype=torch.long, device=device)\n",
        "\n",
        "      # forward the GPT model itself\n",
        "      tok_emb = self.transformer.wte(idx) # token embeddings of shape (b, t, n_embd)\n",
        "      pos_emb = self.transformer.wpe(pos) # position embeddings of shape (t, n_embd)\n",
        "      x = self.transformer.drop(tok_emb + pos_emb)\n",
        "      for block in self.transformer.h:\n",
        "          x = block(x)\n",
        "      x = self.transformer.ln_f(x)\n",
        "\n",
        "      logits = self.lm_head(x)\n",
        "\n",
        "      return logits\n",
        "\n",
        "  def generate(self, idx, max_new_tokens, temperature=1.0):\n",
        "    for _ in range(max_new_tokens):\n",
        "        idx_cond = idx if idx.size(1) <= self.config['block_size'] else idx[:, -self.config['block_size']:]\n",
        "        logits, _ = self(idx_cond)\n",
        "        logits = logits[:, -1, :] / temperature\n",
        "        probs = F.softmax(logits, dim=-1)\n",
        "        idx_next = torch.multinomial(probs, num_samples=1)\n",
        "        idx = torch.cat((idx, idx_next), dim=1)\n",
        "\n",
        "    return idx"
      ],
      "metadata": {
        "id": "u5dATCZQsX96"
      },
      "execution_count": 137,
      "outputs": []
    },
    {
      "cell_type": "code",
      "source": [
        "model = GPT(config).to(device)\n",
        "summary(model, x.to(device))"
      ],
      "metadata": {
        "id": "lEXYQzGGsX96",
        "colab": {
          "base_uri": "https://localhost:8080/"
        },
        "outputId": "38a4c8e6-ab9e-49eb-8209-abb771acbb33"
      },
      "execution_count": 138,
      "outputs": [
        {
          "output_type": "stream",
          "name": "stdout",
          "text": [
            "=======================================================================================================\n",
            "                                                 Kernel Shape  \\\n",
            "Layer                                                           \n",
            "0_transformer.Embedding_wte                      [250, 50257]   \n",
            "1_transformer.Embedding_wpe                        [250, 256]   \n",
            "2_transformer.Dropout_drop                                  -   \n",
            "3_transformer.h.0.LayerNorm_ln_1                        [250]   \n",
            "4_transformer.h.0.attn.Linear_c_attn               [250, 750]   \n",
            "5_transformer.h.0.attn.Linear_c_proj               [250, 250]   \n",
            "6_transformer.h.0.attn.Dropout_resid_dropout                -   \n",
            "7_transformer.h.0.LayerNorm_ln_2                        [250]   \n",
            "8_transformer.h.0.mlp.Linear_c_fc                 [250, 1000]   \n",
            "9_transformer.h.0.mlp.GELU_gelu                             -   \n",
            "10_transformer.h.0.mlp.Linear_c_proj              [1000, 250]   \n",
            "11_transformer.h.0.mlp.Dropout_dropout                      -   \n",
            "12_transformer.h.1.LayerNorm_ln_1                       [250]   \n",
            "13_transformer.h.1.attn.Linear_c_attn              [250, 750]   \n",
            "14_transformer.h.1.attn.Linear_c_proj              [250, 250]   \n",
            "15_transformer.h.1.attn.Dropout_resid_dropout               -   \n",
            "16_transformer.h.1.LayerNorm_ln_2                       [250]   \n",
            "17_transformer.h.1.mlp.Linear_c_fc                [250, 1000]   \n",
            "18_transformer.h.1.mlp.GELU_gelu                            -   \n",
            "19_transformer.h.1.mlp.Linear_c_proj              [1000, 250]   \n",
            "20_transformer.h.1.mlp.Dropout_dropout                      -   \n",
            "21_transformer.h.2.LayerNorm_ln_1                       [250]   \n",
            "22_transformer.h.2.attn.Linear_c_attn              [250, 750]   \n",
            "23_transformer.h.2.attn.Linear_c_proj              [250, 250]   \n",
            "24_transformer.h.2.attn.Dropout_resid_dropout               -   \n",
            "25_transformer.h.2.LayerNorm_ln_2                       [250]   \n",
            "26_transformer.h.2.mlp.Linear_c_fc                [250, 1000]   \n",
            "27_transformer.h.2.mlp.GELU_gelu                            -   \n",
            "28_transformer.h.2.mlp.Linear_c_proj              [1000, 250]   \n",
            "29_transformer.h.2.mlp.Dropout_dropout                      -   \n",
            "30_transformer.h.3.LayerNorm_ln_1                       [250]   \n",
            "31_transformer.h.3.attn.Linear_c_attn              [250, 750]   \n",
            "32_transformer.h.3.attn.Linear_c_proj              [250, 250]   \n",
            "33_transformer.h.3.attn.Dropout_resid_dropout               -   \n",
            "34_transformer.h.3.LayerNorm_ln_2                       [250]   \n",
            "35_transformer.h.3.mlp.Linear_c_fc                [250, 1000]   \n",
            "36_transformer.h.3.mlp.GELU_gelu                            -   \n",
            "37_transformer.h.3.mlp.Linear_c_proj              [1000, 250]   \n",
            "38_transformer.h.3.mlp.Dropout_dropout                      -   \n",
            "39_transformer.h.4.LayerNorm_ln_1                       [250]   \n",
            "40_transformer.h.4.attn.Linear_c_attn              [250, 750]   \n",
            "41_transformer.h.4.attn.Linear_c_proj              [250, 250]   \n",
            "42_transformer.h.4.attn.Dropout_resid_dropout               -   \n",
            "43_transformer.h.4.LayerNorm_ln_2                       [250]   \n",
            "44_transformer.h.4.mlp.Linear_c_fc                [250, 1000]   \n",
            "45_transformer.h.4.mlp.GELU_gelu                            -   \n",
            "46_transformer.h.4.mlp.Linear_c_proj              [1000, 250]   \n",
            "47_transformer.h.4.mlp.Dropout_dropout                      -   \n",
            "48_transformer.h.5.LayerNorm_ln_1                       [250]   \n",
            "49_transformer.h.5.attn.Linear_c_attn              [250, 750]   \n",
            "50_transformer.h.5.attn.Linear_c_proj              [250, 250]   \n",
            "51_transformer.h.5.attn.Dropout_resid_dropout               -   \n",
            "52_transformer.h.5.LayerNorm_ln_2                       [250]   \n",
            "53_transformer.h.5.mlp.Linear_c_fc                [250, 1000]   \n",
            "54_transformer.h.5.mlp.GELU_gelu                            -   \n",
            "55_transformer.h.5.mlp.Linear_c_proj              [1000, 250]   \n",
            "56_transformer.h.5.mlp.Dropout_dropout                      -   \n",
            "57_transformer.h.6.LayerNorm_ln_1                       [250]   \n",
            "58_transformer.h.6.attn.Linear_c_attn              [250, 750]   \n",
            "59_transformer.h.6.attn.Linear_c_proj              [250, 250]   \n",
            "60_transformer.h.6.attn.Dropout_resid_dropout               -   \n",
            "61_transformer.h.6.LayerNorm_ln_2                       [250]   \n",
            "62_transformer.h.6.mlp.Linear_c_fc                [250, 1000]   \n",
            "63_transformer.h.6.mlp.GELU_gelu                            -   \n",
            "64_transformer.h.6.mlp.Linear_c_proj              [1000, 250]   \n",
            "65_transformer.h.6.mlp.Dropout_dropout                      -   \n",
            "66_transformer.h.7.LayerNorm_ln_1                       [250]   \n",
            "67_transformer.h.7.attn.Linear_c_attn              [250, 750]   \n",
            "68_transformer.h.7.attn.Linear_c_proj              [250, 250]   \n",
            "69_transformer.h.7.attn.Dropout_resid_dropout               -   \n",
            "70_transformer.h.7.LayerNorm_ln_2                       [250]   \n",
            "71_transformer.h.7.mlp.Linear_c_fc                [250, 1000]   \n",
            "72_transformer.h.7.mlp.GELU_gelu                            -   \n",
            "73_transformer.h.7.mlp.Linear_c_proj              [1000, 250]   \n",
            "74_transformer.h.7.mlp.Dropout_dropout                      -   \n",
            "75_transformer.h.8.LayerNorm_ln_1                       [250]   \n",
            "76_transformer.h.8.attn.Linear_c_attn              [250, 750]   \n",
            "77_transformer.h.8.attn.Linear_c_proj              [250, 250]   \n",
            "78_transformer.h.8.attn.Dropout_resid_dropout               -   \n",
            "79_transformer.h.8.LayerNorm_ln_2                       [250]   \n",
            "80_transformer.h.8.mlp.Linear_c_fc                [250, 1000]   \n",
            "81_transformer.h.8.mlp.GELU_gelu                            -   \n",
            "82_transformer.h.8.mlp.Linear_c_proj              [1000, 250]   \n",
            "83_transformer.h.8.mlp.Dropout_dropout                      -   \n",
            "84_transformer.h.9.LayerNorm_ln_1                       [250]   \n",
            "85_transformer.h.9.attn.Linear_c_attn              [250, 750]   \n",
            "86_transformer.h.9.attn.Linear_c_proj              [250, 250]   \n",
            "87_transformer.h.9.attn.Dropout_resid_dropout               -   \n",
            "88_transformer.h.9.LayerNorm_ln_2                       [250]   \n",
            "89_transformer.h.9.mlp.Linear_c_fc                [250, 1000]   \n",
            "90_transformer.h.9.mlp.GELU_gelu                            -   \n",
            "91_transformer.h.9.mlp.Linear_c_proj              [1000, 250]   \n",
            "92_transformer.h.9.mlp.Dropout_dropout                      -   \n",
            "93_transformer.h.10.LayerNorm_ln_1                      [250]   \n",
            "94_transformer.h.10.attn.Linear_c_attn             [250, 750]   \n",
            "95_transformer.h.10.attn.Linear_c_proj             [250, 250]   \n",
            "96_transformer.h.10.attn.Dropout_resid_dropout              -   \n",
            "97_transformer.h.10.LayerNorm_ln_2                      [250]   \n",
            "98_transformer.h.10.mlp.Linear_c_fc               [250, 1000]   \n",
            "99_transformer.h.10.mlp.GELU_gelu                           -   \n",
            "100_transformer.h.10.mlp.Linear_c_proj            [1000, 250]   \n",
            "101_transformer.h.10.mlp.Dropout_dropout                    -   \n",
            "102_transformer.h.11.LayerNorm_ln_1                     [250]   \n",
            "103_transformer.h.11.attn.Linear_c_attn            [250, 750]   \n",
            "104_transformer.h.11.attn.Linear_c_proj            [250, 250]   \n",
            "105_transformer.h.11.attn.Dropout_resid_dropout             -   \n",
            "106_transformer.h.11.LayerNorm_ln_2                     [250]   \n",
            "107_transformer.h.11.mlp.Linear_c_fc              [250, 1000]   \n",
            "108_transformer.h.11.mlp.GELU_gelu                          -   \n",
            "109_transformer.h.11.mlp.Linear_c_proj            [1000, 250]   \n",
            "110_transformer.h.11.mlp.Dropout_dropout                    -   \n",
            "111_transformer.LayerNorm_ln_f                          [250]   \n",
            "112_lm_head                                      [250, 50257]   \n",
            "\n",
            "                                                     Output Shape     Params  \\\n",
            "Layer                                                                          \n",
            "0_transformer.Embedding_wte                        [32, 256, 250]  12.56425M   \n",
            "1_transformer.Embedding_wpe                            [256, 250]      64.0k   \n",
            "2_transformer.Dropout_drop                         [32, 256, 250]          -   \n",
            "3_transformer.h.0.LayerNorm_ln_1                   [32, 256, 250]      500.0   \n",
            "4_transformer.h.0.attn.Linear_c_attn               [32, 256, 750]    188.25k   \n",
            "5_transformer.h.0.attn.Linear_c_proj               [32, 256, 250]     62.75k   \n",
            "6_transformer.h.0.attn.Dropout_resid_dropout       [32, 256, 250]          -   \n",
            "7_transformer.h.0.LayerNorm_ln_2                   [32, 256, 250]      500.0   \n",
            "8_transformer.h.0.mlp.Linear_c_fc                 [32, 256, 1000]     251.0k   \n",
            "9_transformer.h.0.mlp.GELU_gelu                   [32, 256, 1000]          -   \n",
            "10_transformer.h.0.mlp.Linear_c_proj               [32, 256, 250]    250.25k   \n",
            "11_transformer.h.0.mlp.Dropout_dropout             [32, 256, 250]          -   \n",
            "12_transformer.h.1.LayerNorm_ln_1                  [32, 256, 250]      500.0   \n",
            "13_transformer.h.1.attn.Linear_c_attn              [32, 256, 750]    188.25k   \n",
            "14_transformer.h.1.attn.Linear_c_proj              [32, 256, 250]     62.75k   \n",
            "15_transformer.h.1.attn.Dropout_resid_dropout      [32, 256, 250]          -   \n",
            "16_transformer.h.1.LayerNorm_ln_2                  [32, 256, 250]      500.0   \n",
            "17_transformer.h.1.mlp.Linear_c_fc                [32, 256, 1000]     251.0k   \n",
            "18_transformer.h.1.mlp.GELU_gelu                  [32, 256, 1000]          -   \n",
            "19_transformer.h.1.mlp.Linear_c_proj               [32, 256, 250]    250.25k   \n",
            "20_transformer.h.1.mlp.Dropout_dropout             [32, 256, 250]          -   \n",
            "21_transformer.h.2.LayerNorm_ln_1                  [32, 256, 250]      500.0   \n",
            "22_transformer.h.2.attn.Linear_c_attn              [32, 256, 750]    188.25k   \n",
            "23_transformer.h.2.attn.Linear_c_proj              [32, 256, 250]     62.75k   \n",
            "24_transformer.h.2.attn.Dropout_resid_dropout      [32, 256, 250]          -   \n",
            "25_transformer.h.2.LayerNorm_ln_2                  [32, 256, 250]      500.0   \n",
            "26_transformer.h.2.mlp.Linear_c_fc                [32, 256, 1000]     251.0k   \n",
            "27_transformer.h.2.mlp.GELU_gelu                  [32, 256, 1000]          -   \n",
            "28_transformer.h.2.mlp.Linear_c_proj               [32, 256, 250]    250.25k   \n",
            "29_transformer.h.2.mlp.Dropout_dropout             [32, 256, 250]          -   \n",
            "30_transformer.h.3.LayerNorm_ln_1                  [32, 256, 250]      500.0   \n",
            "31_transformer.h.3.attn.Linear_c_attn              [32, 256, 750]    188.25k   \n",
            "32_transformer.h.3.attn.Linear_c_proj              [32, 256, 250]     62.75k   \n",
            "33_transformer.h.3.attn.Dropout_resid_dropout      [32, 256, 250]          -   \n",
            "34_transformer.h.3.LayerNorm_ln_2                  [32, 256, 250]      500.0   \n",
            "35_transformer.h.3.mlp.Linear_c_fc                [32, 256, 1000]     251.0k   \n",
            "36_transformer.h.3.mlp.GELU_gelu                  [32, 256, 1000]          -   \n",
            "37_transformer.h.3.mlp.Linear_c_proj               [32, 256, 250]    250.25k   \n",
            "38_transformer.h.3.mlp.Dropout_dropout             [32, 256, 250]          -   \n",
            "39_transformer.h.4.LayerNorm_ln_1                  [32, 256, 250]      500.0   \n",
            "40_transformer.h.4.attn.Linear_c_attn              [32, 256, 750]    188.25k   \n",
            "41_transformer.h.4.attn.Linear_c_proj              [32, 256, 250]     62.75k   \n",
            "42_transformer.h.4.attn.Dropout_resid_dropout      [32, 256, 250]          -   \n",
            "43_transformer.h.4.LayerNorm_ln_2                  [32, 256, 250]      500.0   \n",
            "44_transformer.h.4.mlp.Linear_c_fc                [32, 256, 1000]     251.0k   \n",
            "45_transformer.h.4.mlp.GELU_gelu                  [32, 256, 1000]          -   \n",
            "46_transformer.h.4.mlp.Linear_c_proj               [32, 256, 250]    250.25k   \n",
            "47_transformer.h.4.mlp.Dropout_dropout             [32, 256, 250]          -   \n",
            "48_transformer.h.5.LayerNorm_ln_1                  [32, 256, 250]      500.0   \n",
            "49_transformer.h.5.attn.Linear_c_attn              [32, 256, 750]    188.25k   \n",
            "50_transformer.h.5.attn.Linear_c_proj              [32, 256, 250]     62.75k   \n",
            "51_transformer.h.5.attn.Dropout_resid_dropout      [32, 256, 250]          -   \n",
            "52_transformer.h.5.LayerNorm_ln_2                  [32, 256, 250]      500.0   \n",
            "53_transformer.h.5.mlp.Linear_c_fc                [32, 256, 1000]     251.0k   \n",
            "54_transformer.h.5.mlp.GELU_gelu                  [32, 256, 1000]          -   \n",
            "55_transformer.h.5.mlp.Linear_c_proj               [32, 256, 250]    250.25k   \n",
            "56_transformer.h.5.mlp.Dropout_dropout             [32, 256, 250]          -   \n",
            "57_transformer.h.6.LayerNorm_ln_1                  [32, 256, 250]      500.0   \n",
            "58_transformer.h.6.attn.Linear_c_attn              [32, 256, 750]    188.25k   \n",
            "59_transformer.h.6.attn.Linear_c_proj              [32, 256, 250]     62.75k   \n",
            "60_transformer.h.6.attn.Dropout_resid_dropout      [32, 256, 250]          -   \n",
            "61_transformer.h.6.LayerNorm_ln_2                  [32, 256, 250]      500.0   \n",
            "62_transformer.h.6.mlp.Linear_c_fc                [32, 256, 1000]     251.0k   \n",
            "63_transformer.h.6.mlp.GELU_gelu                  [32, 256, 1000]          -   \n",
            "64_transformer.h.6.mlp.Linear_c_proj               [32, 256, 250]    250.25k   \n",
            "65_transformer.h.6.mlp.Dropout_dropout             [32, 256, 250]          -   \n",
            "66_transformer.h.7.LayerNorm_ln_1                  [32, 256, 250]      500.0   \n",
            "67_transformer.h.7.attn.Linear_c_attn              [32, 256, 750]    188.25k   \n",
            "68_transformer.h.7.attn.Linear_c_proj              [32, 256, 250]     62.75k   \n",
            "69_transformer.h.7.attn.Dropout_resid_dropout      [32, 256, 250]          -   \n",
            "70_transformer.h.7.LayerNorm_ln_2                  [32, 256, 250]      500.0   \n",
            "71_transformer.h.7.mlp.Linear_c_fc                [32, 256, 1000]     251.0k   \n",
            "72_transformer.h.7.mlp.GELU_gelu                  [32, 256, 1000]          -   \n",
            "73_transformer.h.7.mlp.Linear_c_proj               [32, 256, 250]    250.25k   \n",
            "74_transformer.h.7.mlp.Dropout_dropout             [32, 256, 250]          -   \n",
            "75_transformer.h.8.LayerNorm_ln_1                  [32, 256, 250]      500.0   \n",
            "76_transformer.h.8.attn.Linear_c_attn              [32, 256, 750]    188.25k   \n",
            "77_transformer.h.8.attn.Linear_c_proj              [32, 256, 250]     62.75k   \n",
            "78_transformer.h.8.attn.Dropout_resid_dropout      [32, 256, 250]          -   \n",
            "79_transformer.h.8.LayerNorm_ln_2                  [32, 256, 250]      500.0   \n",
            "80_transformer.h.8.mlp.Linear_c_fc                [32, 256, 1000]     251.0k   \n",
            "81_transformer.h.8.mlp.GELU_gelu                  [32, 256, 1000]          -   \n",
            "82_transformer.h.8.mlp.Linear_c_proj               [32, 256, 250]    250.25k   \n",
            "83_transformer.h.8.mlp.Dropout_dropout             [32, 256, 250]          -   \n",
            "84_transformer.h.9.LayerNorm_ln_1                  [32, 256, 250]      500.0   \n",
            "85_transformer.h.9.attn.Linear_c_attn              [32, 256, 750]    188.25k   \n",
            "86_transformer.h.9.attn.Linear_c_proj              [32, 256, 250]     62.75k   \n",
            "87_transformer.h.9.attn.Dropout_resid_dropout      [32, 256, 250]          -   \n",
            "88_transformer.h.9.LayerNorm_ln_2                  [32, 256, 250]      500.0   \n",
            "89_transformer.h.9.mlp.Linear_c_fc                [32, 256, 1000]     251.0k   \n",
            "90_transformer.h.9.mlp.GELU_gelu                  [32, 256, 1000]          -   \n",
            "91_transformer.h.9.mlp.Linear_c_proj               [32, 256, 250]    250.25k   \n",
            "92_transformer.h.9.mlp.Dropout_dropout             [32, 256, 250]          -   \n",
            "93_transformer.h.10.LayerNorm_ln_1                 [32, 256, 250]      500.0   \n",
            "94_transformer.h.10.attn.Linear_c_attn             [32, 256, 750]    188.25k   \n",
            "95_transformer.h.10.attn.Linear_c_proj             [32, 256, 250]     62.75k   \n",
            "96_transformer.h.10.attn.Dropout_resid_dropout     [32, 256, 250]          -   \n",
            "97_transformer.h.10.LayerNorm_ln_2                 [32, 256, 250]      500.0   \n",
            "98_transformer.h.10.mlp.Linear_c_fc               [32, 256, 1000]     251.0k   \n",
            "99_transformer.h.10.mlp.GELU_gelu                 [32, 256, 1000]          -   \n",
            "100_transformer.h.10.mlp.Linear_c_proj             [32, 256, 250]    250.25k   \n",
            "101_transformer.h.10.mlp.Dropout_dropout           [32, 256, 250]          -   \n",
            "102_transformer.h.11.LayerNorm_ln_1                [32, 256, 250]      500.0   \n",
            "103_transformer.h.11.attn.Linear_c_attn            [32, 256, 750]    188.25k   \n",
            "104_transformer.h.11.attn.Linear_c_proj            [32, 256, 250]     62.75k   \n",
            "105_transformer.h.11.attn.Dropout_resid_dropout    [32, 256, 250]          -   \n",
            "106_transformer.h.11.LayerNorm_ln_2                [32, 256, 250]      500.0   \n",
            "107_transformer.h.11.mlp.Linear_c_fc              [32, 256, 1000]     251.0k   \n",
            "108_transformer.h.11.mlp.GELU_gelu                [32, 256, 1000]          -   \n",
            "109_transformer.h.11.mlp.Linear_c_proj             [32, 256, 250]    250.25k   \n",
            "110_transformer.h.11.mlp.Dropout_dropout           [32, 256, 250]          -   \n",
            "111_transformer.LayerNorm_ln_f                     [32, 256, 250]      500.0   \n",
            "112_lm_head                                      [32, 256, 50257]  12.56425M   \n",
            "\n",
            "                                                 Mult-Adds  \n",
            "Layer                                                       \n",
            "0_transformer.Embedding_wte                      12.56425M  \n",
            "1_transformer.Embedding_wpe                          64.0k  \n",
            "2_transformer.Dropout_drop                               -  \n",
            "3_transformer.h.0.LayerNorm_ln_1                     250.0  \n",
            "4_transformer.h.0.attn.Linear_c_attn                187.5k  \n",
            "5_transformer.h.0.attn.Linear_c_proj                 62.5k  \n",
            "6_transformer.h.0.attn.Dropout_resid_dropout             -  \n",
            "7_transformer.h.0.LayerNorm_ln_2                     250.0  \n",
            "8_transformer.h.0.mlp.Linear_c_fc                   250.0k  \n",
            "9_transformer.h.0.mlp.GELU_gelu                          -  \n",
            "10_transformer.h.0.mlp.Linear_c_proj                250.0k  \n",
            "11_transformer.h.0.mlp.Dropout_dropout                   -  \n",
            "12_transformer.h.1.LayerNorm_ln_1                    250.0  \n",
            "13_transformer.h.1.attn.Linear_c_attn               187.5k  \n",
            "14_transformer.h.1.attn.Linear_c_proj                62.5k  \n",
            "15_transformer.h.1.attn.Dropout_resid_dropout            -  \n",
            "16_transformer.h.1.LayerNorm_ln_2                    250.0  \n",
            "17_transformer.h.1.mlp.Linear_c_fc                  250.0k  \n",
            "18_transformer.h.1.mlp.GELU_gelu                         -  \n",
            "19_transformer.h.1.mlp.Linear_c_proj                250.0k  \n",
            "20_transformer.h.1.mlp.Dropout_dropout                   -  \n",
            "21_transformer.h.2.LayerNorm_ln_1                    250.0  \n",
            "22_transformer.h.2.attn.Linear_c_attn               187.5k  \n",
            "23_transformer.h.2.attn.Linear_c_proj                62.5k  \n",
            "24_transformer.h.2.attn.Dropout_resid_dropout            -  \n",
            "25_transformer.h.2.LayerNorm_ln_2                    250.0  \n",
            "26_transformer.h.2.mlp.Linear_c_fc                  250.0k  \n",
            "27_transformer.h.2.mlp.GELU_gelu                         -  \n",
            "28_transformer.h.2.mlp.Linear_c_proj                250.0k  \n",
            "29_transformer.h.2.mlp.Dropout_dropout                   -  \n",
            "30_transformer.h.3.LayerNorm_ln_1                    250.0  \n",
            "31_transformer.h.3.attn.Linear_c_attn               187.5k  \n",
            "32_transformer.h.3.attn.Linear_c_proj                62.5k  \n",
            "33_transformer.h.3.attn.Dropout_resid_dropout            -  \n",
            "34_transformer.h.3.LayerNorm_ln_2                    250.0  \n",
            "35_transformer.h.3.mlp.Linear_c_fc                  250.0k  \n",
            "36_transformer.h.3.mlp.GELU_gelu                         -  \n",
            "37_transformer.h.3.mlp.Linear_c_proj                250.0k  \n",
            "38_transformer.h.3.mlp.Dropout_dropout                   -  \n",
            "39_transformer.h.4.LayerNorm_ln_1                    250.0  \n",
            "40_transformer.h.4.attn.Linear_c_attn               187.5k  \n",
            "41_transformer.h.4.attn.Linear_c_proj                62.5k  \n",
            "42_transformer.h.4.attn.Dropout_resid_dropout            -  \n",
            "43_transformer.h.4.LayerNorm_ln_2                    250.0  \n",
            "44_transformer.h.4.mlp.Linear_c_fc                  250.0k  \n",
            "45_transformer.h.4.mlp.GELU_gelu                         -  \n",
            "46_transformer.h.4.mlp.Linear_c_proj                250.0k  \n",
            "47_transformer.h.4.mlp.Dropout_dropout                   -  \n",
            "48_transformer.h.5.LayerNorm_ln_1                    250.0  \n",
            "49_transformer.h.5.attn.Linear_c_attn               187.5k  \n",
            "50_transformer.h.5.attn.Linear_c_proj                62.5k  \n",
            "51_transformer.h.5.attn.Dropout_resid_dropout            -  \n",
            "52_transformer.h.5.LayerNorm_ln_2                    250.0  \n",
            "53_transformer.h.5.mlp.Linear_c_fc                  250.0k  \n",
            "54_transformer.h.5.mlp.GELU_gelu                         -  \n",
            "55_transformer.h.5.mlp.Linear_c_proj                250.0k  \n",
            "56_transformer.h.5.mlp.Dropout_dropout                   -  \n",
            "57_transformer.h.6.LayerNorm_ln_1                    250.0  \n",
            "58_transformer.h.6.attn.Linear_c_attn               187.5k  \n",
            "59_transformer.h.6.attn.Linear_c_proj                62.5k  \n",
            "60_transformer.h.6.attn.Dropout_resid_dropout            -  \n",
            "61_transformer.h.6.LayerNorm_ln_2                    250.0  \n",
            "62_transformer.h.6.mlp.Linear_c_fc                  250.0k  \n",
            "63_transformer.h.6.mlp.GELU_gelu                         -  \n",
            "64_transformer.h.6.mlp.Linear_c_proj                250.0k  \n",
            "65_transformer.h.6.mlp.Dropout_dropout                   -  \n",
            "66_transformer.h.7.LayerNorm_ln_1                    250.0  \n",
            "67_transformer.h.7.attn.Linear_c_attn               187.5k  \n",
            "68_transformer.h.7.attn.Linear_c_proj                62.5k  \n",
            "69_transformer.h.7.attn.Dropout_resid_dropout            -  \n",
            "70_transformer.h.7.LayerNorm_ln_2                    250.0  \n",
            "71_transformer.h.7.mlp.Linear_c_fc                  250.0k  \n",
            "72_transformer.h.7.mlp.GELU_gelu                         -  \n",
            "73_transformer.h.7.mlp.Linear_c_proj                250.0k  \n",
            "74_transformer.h.7.mlp.Dropout_dropout                   -  \n",
            "75_transformer.h.8.LayerNorm_ln_1                    250.0  \n",
            "76_transformer.h.8.attn.Linear_c_attn               187.5k  \n",
            "77_transformer.h.8.attn.Linear_c_proj                62.5k  \n",
            "78_transformer.h.8.attn.Dropout_resid_dropout            -  \n",
            "79_transformer.h.8.LayerNorm_ln_2                    250.0  \n",
            "80_transformer.h.8.mlp.Linear_c_fc                  250.0k  \n",
            "81_transformer.h.8.mlp.GELU_gelu                         -  \n",
            "82_transformer.h.8.mlp.Linear_c_proj                250.0k  \n",
            "83_transformer.h.8.mlp.Dropout_dropout                   -  \n",
            "84_transformer.h.9.LayerNorm_ln_1                    250.0  \n",
            "85_transformer.h.9.attn.Linear_c_attn               187.5k  \n",
            "86_transformer.h.9.attn.Linear_c_proj                62.5k  \n",
            "87_transformer.h.9.attn.Dropout_resid_dropout            -  \n",
            "88_transformer.h.9.LayerNorm_ln_2                    250.0  \n",
            "89_transformer.h.9.mlp.Linear_c_fc                  250.0k  \n",
            "90_transformer.h.9.mlp.GELU_gelu                         -  \n",
            "91_transformer.h.9.mlp.Linear_c_proj                250.0k  \n",
            "92_transformer.h.9.mlp.Dropout_dropout                   -  \n",
            "93_transformer.h.10.LayerNorm_ln_1                   250.0  \n",
            "94_transformer.h.10.attn.Linear_c_attn              187.5k  \n",
            "95_transformer.h.10.attn.Linear_c_proj               62.5k  \n",
            "96_transformer.h.10.attn.Dropout_resid_dropout           -  \n",
            "97_transformer.h.10.LayerNorm_ln_2                   250.0  \n",
            "98_transformer.h.10.mlp.Linear_c_fc                 250.0k  \n",
            "99_transformer.h.10.mlp.GELU_gelu                        -  \n",
            "100_transformer.h.10.mlp.Linear_c_proj              250.0k  \n",
            "101_transformer.h.10.mlp.Dropout_dropout                 -  \n",
            "102_transformer.h.11.LayerNorm_ln_1                  250.0  \n",
            "103_transformer.h.11.attn.Linear_c_attn             187.5k  \n",
            "104_transformer.h.11.attn.Linear_c_proj              62.5k  \n",
            "105_transformer.h.11.attn.Dropout_resid_dropout          -  \n",
            "106_transformer.h.11.LayerNorm_ln_2                  250.0  \n",
            "107_transformer.h.11.mlp.Linear_c_fc                250.0k  \n",
            "108_transformer.h.11.mlp.GELU_gelu                       -  \n",
            "109_transformer.h.11.mlp.Linear_c_proj              250.0k  \n",
            "110_transformer.h.11.mlp.Dropout_dropout                 -  \n",
            "111_transformer.LayerNorm_ln_f                       250.0  \n",
            "112_lm_head                                      12.56425M  \n",
            "-------------------------------------------------------------------------------------------------------\n",
            "                         Totals\n",
            "Total params            34.232M\n",
            "Trainable params        34.232M\n",
            "Non-trainable params        0.0\n",
            "Mult-Adds             34.19875M\n",
            "=======================================================================================================\n"
          ]
        },
        {
          "output_type": "execute_result",
          "data": {
            "text/plain": [
              "<All keys matched successfully>"
            ]
          },
          "metadata": {},
          "execution_count": 138
        }
      ]
    },
    {
      "cell_type": "code",
      "source": [
        "criterion = torch.nn.CrossEntropyLoss()\n",
        "\n",
        "optimizer = torch.optim.AdamW(model.parameters(), lr= config['init_lr']) #Defining Optimizer\n",
        "scheduler = torch.optim.lr_scheduler.ReduceLROnPlateau(optimizer, patience=2, factor=0.75)\n",
        "scaler = torch.cuda.amp.GradScaler()"
      ],
      "metadata": {
        "id": "_tFDfPECtCO6"
      },
      "execution_count": 139,
      "outputs": []
    },
    {
      "cell_type": "code",
      "source": [
        "def generate_text_logits(model, seq, max_new_tokens=config['answer_length']):\n",
        "  text_logits = None\n",
        "\n",
        "  for i in range(max_new_tokens):\n",
        "      seq_cond = seq if seq.size(1) <= config['block_size'] else seq[:, -config['block_size']:]\n",
        "      logits = model(seq_cond)\n",
        "\n",
        "      if i == max_new_tokens-1:\n",
        "        text_logits = logits[:, -max_new_tokens:, :] # batch size, max_new_tokens, vocab_size\n",
        "\n",
        "      logits = logits[:, -1, :]\n",
        "      probs = F.softmax(logits, dim=-1)\n",
        "      idx_next = torch.multinomial(probs, num_samples=1)\n",
        "      seq = torch.cat((seq, idx_next), dim=1)\n",
        "\n",
        "  return text_logits, seq[:, -max_new_tokens:]"
      ],
      "metadata": {
        "id": "1PUpH4u8tGPo"
      },
      "execution_count": 140,
      "outputs": []
    },
    {
      "cell_type": "code",
      "source": [
        "def train(model, dataloader, optimizer):\n",
        "\n",
        "    model.train()\n",
        "    tloss, tacc = 0, 0 # Monitoring loss and accuracy\n",
        "    batch_bar   = tqdm(total=len(train_loader), dynamic_ncols=True, leave=False, position=0, desc='Train')\n",
        "\n",
        "    scaler = torch.cuda.amp.GradScaler()\n",
        "    counter = 0\n",
        "\n",
        "    for i, (inputs, targets, lx, ly) in enumerate(dataloader):\n",
        "\n",
        "        counter += 1\n",
        "\n",
        "        ### Initialize Gradients\n",
        "        optimizer.zero_grad()\n",
        "\n",
        "        with torch.amp.autocast(device_type=\"cuda\", dtype=torch.float16):\n",
        "          ### Move Data to Device (Ideally GPU)\n",
        "          inputs      = inputs.to(device)\n",
        "          targets    = targets.to(device)\n",
        "\n",
        "          ### Forward Propagation\n",
        "          logits, _ = generate_text_logits(model, inputs)\n",
        "\n",
        "          B, T, C = logits.shape\n",
        "\n",
        "          logits = logits.reshape(B*T, -1)\n",
        "          targets = targets.reshape(-1)\n",
        "\n",
        "          loss =  criterion(logits, targets)\n",
        "\n",
        "        ### Backward Propagation\n",
        "        scaler.scale(loss).backward()\n",
        "        # loss.backward()\n",
        "\n",
        "        ### Gradient Descent\n",
        "        scaler.step(optimizer)\n",
        "\n",
        "        scaler.update()\n",
        "\n",
        "        tloss   += loss.item()\n",
        "\n",
        "        batch_bar.set_postfix(loss=\"{:.07f}\".format(float(tloss / (i + 1))))\n",
        "        batch_bar.update()\n",
        "\n",
        "        if (counter % 100 == 0):\n",
        "          wandb.log({'train_loss': (tloss/counter), 'lr': curr_lr})\n",
        "\n",
        "        ### Release memory\n",
        "        del inputs, targets, logits\n",
        "        torch.cuda.empty_cache()\n",
        "\n",
        "    batch_bar.close()\n",
        "    tloss   /= len(train_loader)\n",
        "\n",
        "    return tloss"
      ],
      "metadata": {
        "id": "2EynfjERYLMe"
      },
      "execution_count": 141,
      "outputs": []
    },
    {
      "cell_type": "code",
      "source": [
        "def eval(model, dataloader):\n",
        "\n",
        "    model.eval() # set model in evaluation mode\n",
        "    vloss, vacc, vdist = 0, 0, 0 # Monitoring loss, accuracy, and distance\n",
        "    batch_bar   = tqdm(total=len(val_loader), dynamic_ncols=True, position=0, leave=False, desc='Val')\n",
        "\n",
        "    counter = 0\n",
        "\n",
        "    for i, (inputs, targets, lx, ly) in enumerate(dataloader):\n",
        "\n",
        "        counter += 1\n",
        "\n",
        "        ### Move data to device (ideally GPU)\n",
        "        inputs      = inputs.to(device)\n",
        "        targets    = targets.to(device)\n",
        "\n",
        "        # makes sure that there are no gradients computed as we are not training the model now\n",
        "        with torch.inference_mode():\n",
        "            logits, _ = generate_text_logits(model, inputs)\n",
        "\n",
        "            B, T, C = logits.shape\n",
        "\n",
        "            logits = logits.reshape(B*T, -1)\n",
        "            targets = targets.reshape(-1)\n",
        "\n",
        "            loss =  criterion(logits, targets)\n",
        "\n",
        "        vloss   += loss.item()\n",
        "        batch_bar.set_postfix(loss=\"{:.07f}\".format(float(vloss / (i + 1))))\n",
        "        batch_bar.update()\n",
        "\n",
        "        if (counter % 20 == 0):\n",
        "          wandb.log({'val_loss': (vloss/counter), 'dist/lr': curr_lr})\n",
        "\n",
        "        ### Release memory\n",
        "        del inputs, targets, logits\n",
        "        torch.cuda.empty_cache()\n",
        "\n",
        "    batch_bar.close()\n",
        "    vloss   /= len(val_loader)\n",
        "    vdist   /= len(val_loader)\n",
        "\n",
        "    return vloss"
      ],
      "metadata": {
        "id": "twhD90IsYjQ2"
      },
      "execution_count": 142,
      "outputs": []
    },
    {
      "cell_type": "code",
      "source": [
        "wandb.login(key=\"9312acc23a6389a925ba54b1bdf81ff99fe4d2e4\") # API key for the project"
      ],
      "metadata": {
        "id": "XgoLXmGTNiiW",
        "colab": {
          "base_uri": "https://localhost:8080/"
        },
        "outputId": "0bdbed94-8980-493a-c44a-b1f5b20c6e48"
      },
      "execution_count": 143,
      "outputs": [
        {
          "output_type": "stream",
          "name": "stderr",
          "text": [
            "\u001b[34m\u001b[1mwandb\u001b[0m: \u001b[33mWARNING\u001b[0m Calling wandb.login() after wandb.init() has no effect.\n"
          ]
        },
        {
          "output_type": "execute_result",
          "data": {
            "text/plain": [
              "True"
            ]
          },
          "metadata": {},
          "execution_count": 143
        }
      ]
    },
    {
      "cell_type": "code",
      "source": [
        "# Create your wandb run\n",
        "run = wandb.init(\n",
        "    name    = \"use-generation-function\", ### Wandb last name initializer\n",
        "    reinit  = True, ### Allows reinitalizing runs when you re-run this cell\n",
        "    project = \"hw5-finetune\", ### Project should be created in WandB\n",
        "    config  = config ### Wandb Config for your run\n",
        ")"
      ],
      "metadata": {
        "id": "7JDo6TRsNpTZ",
        "colab": {
          "base_uri": "https://localhost:8080/",
          "height": 191,
          "referenced_widgets": [
            "cf5fd8c67f5e496badd450c881ef67cd",
            "34b17971dae246809f40ebe63ee13f3c",
            "095271e629cb4174a5dfc69c710fab49",
            "26afebf6b3ab4f889e5d13d47bfb359e",
            "58efe0f7106c4b73b798345da2d9a459",
            "63f9db88222d46ae8d0d740d7306634b",
            "37ece247e86b4e0b95a4a96ff0717c58",
            "7dc40d7153df4a9bae0c0c172be39ca8"
          ]
        },
        "outputId": "0bce095e-ddb9-4215-a91f-4e5438f82c2b"
      },
      "execution_count": 144,
      "outputs": [
        {
          "output_type": "display_data",
          "data": {
            "text/plain": [
              "<IPython.core.display.HTML object>"
            ],
            "text/html": [
              "Finishing last run (ID:buu1v2z9) before initializing another..."
            ]
          },
          "metadata": {}
        },
        {
          "output_type": "display_data",
          "data": {
            "text/plain": [
              "VBox(children=(Label(value='0.001 MB of 0.001 MB uploaded\\r'), FloatProgress(value=1.0, max=1.0)))"
            ],
            "application/vnd.jupyter.widget-view+json": {
              "version_major": 2,
              "version_minor": 0,
              "model_id": "cf5fd8c67f5e496badd450c881ef67cd"
            }
          },
          "metadata": {}
        },
        {
          "output_type": "display_data",
          "data": {
            "text/plain": [
              "<IPython.core.display.HTML object>"
            ],
            "text/html": [
              " View run <strong style=\"color:#cdcd00\">use-generation-function</strong> at: <a href='https://wandb.ai/idl-f23/hw5-finetune/runs/buu1v2z9' target=\"_blank\">https://wandb.ai/idl-f23/hw5-finetune/runs/buu1v2z9</a><br/>Synced 5 W&B file(s), 0 media file(s), 0 artifact file(s) and 0 other file(s)"
            ]
          },
          "metadata": {}
        },
        {
          "output_type": "display_data",
          "data": {
            "text/plain": [
              "<IPython.core.display.HTML object>"
            ],
            "text/html": [
              "Find logs at: <code></code>"
            ]
          },
          "metadata": {}
        },
        {
          "output_type": "display_data",
          "data": {
            "text/plain": [
              "<IPython.core.display.HTML object>"
            ],
            "text/html": [
              "Successfully finished last run (ID:buu1v2z9). Initializing new run:<br/>"
            ]
          },
          "metadata": {}
        },
        {
          "output_type": "display_data",
          "data": {
            "text/plain": [
              "<IPython.core.display.HTML object>"
            ],
            "text/html": [
              "Tracking run with wandb version 0.16.1"
            ]
          },
          "metadata": {}
        },
        {
          "output_type": "display_data",
          "data": {
            "text/plain": [
              "<IPython.core.display.HTML object>"
            ],
            "text/html": [
              "Run data is saved locally in <code>/wandb/run-20231211_215524-2hgcmyzj</code>"
            ]
          },
          "metadata": {}
        },
        {
          "output_type": "display_data",
          "data": {
            "text/plain": [
              "<IPython.core.display.HTML object>"
            ],
            "text/html": [
              "Syncing run <strong><a href='https://wandb.ai/idl-f23/hw5-finetune/runs/2hgcmyzj' target=\"_blank\">use-generation-function</a></strong> to <a href='https://wandb.ai/idl-f23/hw5-finetune' target=\"_blank\">Weights & Biases</a> (<a href='https://wandb.me/run' target=\"_blank\">docs</a>)<br/>"
            ]
          },
          "metadata": {}
        },
        {
          "output_type": "display_data",
          "data": {
            "text/plain": [
              "<IPython.core.display.HTML object>"
            ],
            "text/html": [
              " View project at <a href='https://wandb.ai/idl-f23/hw5-finetune' target=\"_blank\">https://wandb.ai/idl-f23/hw5-finetune</a>"
            ]
          },
          "metadata": {}
        },
        {
          "output_type": "display_data",
          "data": {
            "text/plain": [
              "<IPython.core.display.HTML object>"
            ],
            "text/html": [
              " View run at <a href='https://wandb.ai/idl-f23/hw5-finetune/runs/2hgcmyzj' target=\"_blank\">https://wandb.ai/idl-f23/hw5-finetune/runs/2hgcmyzj</a>"
            ]
          },
          "metadata": {}
        }
      ]
    },
    {
      "cell_type": "code",
      "source": [
        "# Iterate over number of epochs to train and evaluate your model\n",
        "torch.cuda.empty_cache()\n",
        "gc.collect()\n",
        "\n",
        "for epoch in range(1, config['epochs']):\n",
        "\n",
        "    print(\"\\nEpoch {}/{}\".format(epoch, config['epochs']))\n",
        "\n",
        "    curr_lr      = float(optimizer.param_groups[0]['lr'])\n",
        "    train_loss   = train(model, train_loader, optimizer)\n",
        "    val_loss     = eval(model, val_loader)\n",
        "\n",
        "    print(\"\\tTrain Loss {:.07f}\\t Learning Rate {:.07f}\".format(train_loss, curr_lr))\n",
        "    print(\"\\tVal Loss {:.07f}\".format(val_loss))\n",
        "    wandb.log({'train_loss': train_loss, 'valid_loss': val_loss, 'lr': curr_lr})\n",
        "\n",
        "    scheduler.step(val_loss)"
      ],
      "metadata": {
        "id": "UlStyodfkXdy",
        "colab": {
          "base_uri": "https://localhost:8080/"
        },
        "outputId": "94323ae9-8a9b-444f-f782-ae2628209a96"
      },
      "execution_count": null,
      "outputs": [
        {
          "output_type": "stream",
          "name": "stdout",
          "text": [
            "\n",
            "Epoch 1/5\n"
          ]
        },
        {
          "output_type": "stream",
          "name": "stderr",
          "text": []
        },
        {
          "output_type": "stream",
          "name": "stdout",
          "text": [
            "\tTrain Loss 2.2416213\t Learning Rate 0.0003000\n",
            "\tVal Loss 2.4287194\n",
            "\n",
            "Epoch 2/5\n"
          ]
        },
        {
          "output_type": "stream",
          "name": "stderr",
          "text": [
            "Train: 100%|█████████▉| 2731/2738 [1:19:42<00:12,  1.75s/it, loss=2.0429901]"
          ]
        }
      ]
    },
    {
      "cell_type": "code",
      "source": [
        "def generate(idx, max_new_tokens, temperature=1.0, top_k=None):\n",
        "    \"\"\"\n",
        "    Take a conditioning sequence of indices idx (LongTensor of shape (b,t)) and complete\n",
        "    the sequence max_new_tokens times, feeding the predictions back into the model each time.\n",
        "    Most likely you'll want to make sure to be in model.eval() mode of operation for this.\n",
        "    \"\"\"\n",
        "    for _ in range(max_new_tokens):\n",
        "        # if the sequence context is growing too long we must crop it at block_size\n",
        "        idx_cond = idx if idx.size(1) <= config['block_size'] else idx[:, -config['block_size']:]\n",
        "        # forward the model to get the logits for the index in the sequence\n",
        "        logits = model(idx_cond)\n",
        "        # pluck the logits at the final step and scale by desired temperature\n",
        "        logits = logits[:, -1, :] / temperature\n",
        "        # optionally crop the logits to only the top k options\n",
        "        if top_k is not None:\n",
        "            v, _ = torch.topk(logits, min(top_k, logits.size(-1)))\n",
        "            logits[logits < v[:, [-1]]] = -float('Inf')\n",
        "        # apply softmax to convert logits to (normalized) probabilities\n",
        "        probs = F.softmax(logits, dim=-1)\n",
        "        # sample from the distribution\n",
        "        idx_next = torch.multinomial(probs, num_samples=1)\n",
        "        # append sampled index to the running sequence and continue\n",
        "        idx = torch.cat((idx, idx_next), dim=1)\n",
        "\n",
        "    return idx"
      ],
      "metadata": {
        "id": "WYJbAbUgSZb-"
      },
      "execution_count": 27,
      "outputs": []
    },
    {
      "cell_type": "code",
      "source": [
        "def calculate_rouge(output, label, ly): # y - sequence of integers\n",
        "\n",
        "    dist            = 0\n",
        "    batch_size      = label.shape[0]\n",
        "\n",
        "    enc = tiktoken.get_encoding(\"gpt2\")\n",
        "    rouge = Rouge()\n",
        "\n",
        "    for i in range(batch_size):\n",
        "        pred_list = output[i].tolist()\n",
        "        if (config['end_token'] in pred_list):\n",
        "          temp = pred_list.index(config['end_token'])\n",
        "          pred_list = pred_list[:temp]\n",
        "        pred_string = enc.decode(pred_list) if pred_list != [] else \"No answer.\"\n",
        "        label_string = enc.decode(label[i][:ly[i]].tolist())\n",
        "        dist += rouge.get_scores(pred_string, label_string)[0][\"rouge-l\"][\"f\"]\n",
        "\n",
        "        if (i == 0):\n",
        "          print(f\"PREDICTION STRING: {pred_string}\\n\")\n",
        "          print(f\"LABEL STRING: {label_string}\\n\")\n",
        "\n",
        "    dist /= batch_size\n",
        "    return dist"
      ],
      "metadata": {
        "id": "ZsKevQtbCpF7"
      },
      "execution_count": 61,
      "outputs": []
    },
    {
      "cell_type": "code",
      "source": [
        "total_loss = 0\n",
        "for data in tqdm(test_loader):\n",
        "    x, y, lx, ly = data\n",
        "    x = x.to(device)\n",
        "\n",
        "    # print(x.shape, y.shape)\n",
        "\n",
        "    with torch.no_grad():\n",
        "      raw_predictions = generate(x, 15)\n",
        "\n",
        "    print(raw_predictions.shape)\n",
        "    raw_predictions = raw_predictions[:, -15:]\n",
        "\n",
        "    print(raw_predictions.shape)\n",
        "\n",
        "    loss = calculate_rouge(raw_predictions, y, ly)\n",
        "    print(loss)\n",
        "\n",
        "    total_loss += loss\n",
        "\n",
        "total_loss /= len(test_loader)\n",
        "print(total_loss)"
      ],
      "metadata": {
        "colab": {
          "base_uri": "https://localhost:8080/"
        },
        "id": "pUeNw6j8iU49",
        "outputId": "0b9261be-67e4-4001-dd2c-1dd96f6bd117"
      },
      "execution_count": 62,
      "outputs": [
        {
          "output_type": "stream",
          "name": "stderr",
          "text": [
            "  1%|          | 1/166 [00:02<07:10,  2.61s/it]"
          ]
        },
        {
          "output_type": "stream",
          "name": "stdout",
          "text": [
            "torch.Size([32, 271])\n",
            "torch.Size([32, 15])\n",
            "PREDICTION STRING: 1 HOW TOKEY \n",
            "\n",
            "\n",
            "\n",
            "\n",
            "The Straw coupon bar\n",
            "\n",
            "LABEL STRING: a rendezvous —let alone a docking\n",
            "\n",
            "0.00416666656666667\n"
          ]
        },
        {
          "output_type": "stream",
          "name": "stderr",
          "text": [
            "\r  1%|          | 2/166 [00:05<06:59,  2.56s/it]"
          ]
        },
        {
          "output_type": "stream",
          "name": "stdout",
          "text": [
            "torch.Size([32, 271])\n",
            "torch.Size([32, 15])\n",
            "PREDICTION STRING: The government agency is issuing a witness report from NYC's Super Bowl photo.\n",
            "\n",
            "LABEL STRING: higher economic inequality\n",
            "\n",
            "0.01156938774866147\n"
          ]
        },
        {
          "output_type": "stream",
          "name": "stderr",
          "text": [
            "\r  2%|▏         | 3/166 [00:07<06:53,  2.53s/it]"
          ]
        },
        {
          "output_type": "stream",
          "name": "stdout",
          "text": [
            "torch.Size([32, 271])\n",
            "torch.Size([32, 15])\n",
            "PREDICTION STRING: Hello\n",
            "Black PoW As � wellness Treat Skip{ | Dr sparedMany\n",
            "\n",
            "LABEL STRING: the integer factorization problem\n",
            "\n",
            "0.010146103623924783\n"
          ]
        },
        {
          "output_type": "stream",
          "name": "stderr",
          "text": [
            "\r  2%|▏         | 4/166 [00:10<06:50,  2.53s/it]"
          ]
        },
        {
          "output_type": "stream",
          "name": "stdout",
          "text": [
            "torch.Size([32, 271])\n",
            "torch.Size([32, 15])\n",
            "PREDICTION STRING: Liquidach_ aquaticjs - Group Leaduzona investigators at Git time_\n",
            "\n",
            "LABEL STRING: Tehachapis\n",
            "\n",
            "0.009152660615827563\n"
          ]
        },
        {
          "output_type": "stream",
          "name": "stderr",
          "text": [
            "\r  3%|▎         | 5/166 [00:12<06:48,  2.54s/it]"
          ]
        },
        {
          "output_type": "stream",
          "name": "stdout",
          "text": [
            "torch.Size([32, 271])\n",
            "torch.Size([32, 15])\n",
            "PREDICTION STRING:  of the Catholic Commission (PSI) in 2011 as a consultant, the\n",
            "\n",
            "LABEL STRING: 1999\n",
            "\n",
            "0.007352941020761249\n"
          ]
        },
        {
          "output_type": "stream",
          "name": "stderr",
          "text": [
            "\r  4%|▎         | 6/166 [00:15<06:46,  2.54s/it]"
          ]
        },
        {
          "output_type": "stream",
          "name": "stdout",
          "text": [
            "torch.Size([32, 271])\n",
            "torch.Size([32, 15])\n",
            "PREDICTION STRING: Posted Javascript. FreePark weave - Skip to{ Skip to{ 0 Skip\n",
            "\n",
            "LABEL STRING: mucus\n",
            "\n",
            "0.014136904517166246\n"
          ]
        },
        {
          "output_type": "stream",
          "name": "stderr",
          "text": [
            "\r  4%|▍         | 7/166 [00:17<06:45,  2.55s/it]"
          ]
        },
        {
          "output_type": "stream",
          "name": "stdout",
          "text": [
            "torch.Size([32, 271])\n",
            "torch.Size([32, 15])\n",
            "PREDICTION STRING: Pages by : Toggle - Bletedor Skip to To 📹\n",
            "\n",
            "LABEL STRING: nothing for their children to attend, including room and board\n",
            "\n",
            "0.011197916259646284\n"
          ]
        },
        {
          "output_type": "stream",
          "name": "stderr",
          "text": [
            "\r  5%|▍         | 8/166 [00:20<06:44,  2.56s/it]"
          ]
        },
        {
          "output_type": "stream",
          "name": "stdout",
          "text": [
            "torch.Size([32, 271])\n",
            "torch.Size([32, 15])\n",
            "PREDICTION STRING: *The philologist - debate randomly :: Tufl - Pelica\n",
            "\n",
            "LABEL STRING: Harvey Martin\n",
            "\n",
            "0.004464285586734698\n"
          ]
        },
        {
          "output_type": "stream",
          "name": "stderr",
          "text": [
            "\r  5%|▌         | 9/166 [00:23<06:43,  2.57s/it]"
          ]
        },
        {
          "output_type": "stream",
          "name": "stdout",
          "text": [
            "torch.Size([32, 271])\n",
            "torch.Size([32, 15])\n",
            "PREDICTION STRING: \n",
            "\n",
            "\n",
            "BaseStreetStock - knife Print - Awmadkaya Smyr\n",
            "\n",
            "LABEL STRING: late 19th\n",
            "\n",
            "0.010825163046871674\n"
          ]
        },
        {
          "output_type": "stream",
          "name": "stderr",
          "text": [
            "\r  6%|▌         | 10/166 [00:25<06:43,  2.59s/it]"
          ]
        },
        {
          "output_type": "stream",
          "name": "stdout",
          "text": [
            "torch.Size([32, 271])\n",
            "torch.Size([32, 15])\n",
            "PREDICTION STRING: We donobice DASTO insist\n",
            "\n",
            "\n",
            "\n",
            "\n",
            "LABEL STRING: 88\n",
            "\n",
            "0.0034722220968364244\n"
          ]
        },
        {
          "output_type": "stream",
          "name": "stderr",
          "text": [
            "\r  7%|▋         | 11/166 [00:28<06:42,  2.60s/it]"
          ]
        },
        {
          "output_type": "stream",
          "name": "stdout",
          "text": [
            "torch.Size([32, 271])\n",
            "torch.Size([32, 15])\n",
            "PREDICTION STRING: ShutEmselessiser OC. We is there\n",
            "\n",
            "\n",
            "\n",
            "Update:\n",
            "\n",
            "LABEL STRING: mid-18th century\n",
            "\n",
            "0.014583333122222226\n"
          ]
        },
        {
          "output_type": "stream",
          "name": "stderr",
          "text": [
            "\r  7%|▋         | 12/166 [00:30<06:40,  2.60s/it]"
          ]
        },
        {
          "output_type": "stream",
          "name": "stdout",
          "text": [
            "torch.Size([32, 271])\n",
            "torch.Size([32, 15])\n",
            "PREDICTION STRING: AT\n",
            "\n",
            "\n",
            "\n",
            "The | Clelle\"\n",
            "\n",
            "\n",
            "\n",
            "\n",
            "\n",
            "\n",
            "LABEL STRING: Kirinyaga, Kirenyaa and Kiinyaa\n",
            "\n",
            "0.0\n"
          ]
        },
        {
          "output_type": "stream",
          "name": "stderr",
          "text": [
            "\r  8%|▊         | 13/166 [00:33<06:37,  2.60s/it]"
          ]
        },
        {
          "output_type": "stream",
          "name": "stdout",
          "text": [
            "torch.Size([32, 271])\n",
            "torch.Size([32, 15])\n",
            "PREDICTION STRING: LetThe Search Page Video Skip to Part| About Skip to Content Blog Home\n",
            "\n",
            "LABEL STRING: Water (H2O) and carbon dioxide (CO2)\n",
            "\n",
            "0.02555014369034504\n"
          ]
        },
        {
          "output_type": "stream",
          "name": "stderr",
          "text": [
            "\r  8%|▊         | 14/166 [00:36<06:33,  2.59s/it]"
          ]
        },
        {
          "output_type": "stream",
          "name": "stdout",
          "text": [
            "torch.Size([32, 271])\n",
            "torch.Size([32, 15])\n",
            "PREDICTION STRING: Close> Women'sright Skip Parts & Toggle A Barlipper Obul\n",
            "\n",
            "LABEL STRING: interacting and working directly with students\n",
            "\n",
            "0.0\n"
          ]
        },
        {
          "output_type": "stream",
          "name": "stderr",
          "text": [
            "\r  9%|▉         | 15/166 [00:38<06:29,  2.58s/it]"
          ]
        },
        {
          "output_type": "stream",
          "name": "stdout",
          "text": [
            "torch.Size([32, 271])\n",
            "torch.Size([32, 15])\n",
            "PREDICTION STRING: For the official filmmaker this morning on his shellArt club Rosed the Temple\n",
            "\n",
            "LABEL STRING: Stagecoach\n",
            "\n",
            "0.0028409089398243885\n"
          ]
        },
        {
          "output_type": "stream",
          "name": "stderr",
          "text": [
            "\r 10%|▉         | 16/166 [00:41<06:24,  2.57s/it]"
          ]
        },
        {
          "output_type": "stream",
          "name": "stdout",
          "text": [
            "torch.Size([32, 271])\n",
            "torch.Size([32, 15])\n",
            "PREDICTION STRING:  eventice has yet HDCI digital predictors associated with more than 100 μ\n",
            "\n",
            "LABEL STRING: Immunoproteomics\n",
            "\n",
            "0.0\n"
          ]
        },
        {
          "output_type": "stream",
          "name": "stderr",
          "text": [
            "\r 10%|█         | 17/166 [00:43<06:20,  2.55s/it]"
          ]
        },
        {
          "output_type": "stream",
          "name": "stdout",
          "text": [
            "torch.Size([32, 271])\n",
            "torch.Size([32, 15])\n",
            "PREDICTION STRING: A ~ Asched out on FreshAlertsburg {outerationremove\n",
            "\n",
            "LABEL STRING: a series of power blackouts across the country\n",
            "\n",
            "0.012561451373281837\n"
          ]
        },
        {
          "output_type": "stream",
          "name": "stderr",
          "text": [
            "\r 11%|█         | 18/166 [00:46<06:16,  2.54s/it]"
          ]
        },
        {
          "output_type": "stream",
          "name": "stdout",
          "text": [
            "torch.Size([32, 271])\n",
            "torch.Size([32, 15])\n",
            "PREDICTION STRING: Steve Pop Trading new Stage Revs\n",
            "\n",
            "\n",
            "\n",
            "tl_Creator\n",
            "\n",
            "LABEL STRING: 1859\n",
            "\n",
            "0.0\n"
          ]
        },
        {
          "output_type": "stream",
          "name": "stderr",
          "text": [
            "\r 11%|█▏        | 19/166 [00:48<06:12,  2.54s/it]"
          ]
        },
        {
          "output_type": "stream",
          "name": "stdout",
          "text": [
            "torch.Size([32, 271])\n",
            "torch.Size([32, 15])\n",
            "PREDICTION STRING: Aps- Guildpline Project Skip To Home Skip Skip to Content Skip\n",
            "\n",
            "LABEL STRING: more than 70\n",
            "\n",
            "0.008884803744067792\n"
          ]
        },
        {
          "output_type": "stream",
          "name": "stderr",
          "text": [
            "\r 12%|█▏        | 20/166 [00:51<06:08,  2.53s/it]"
          ]
        },
        {
          "output_type": "stream",
          "name": "stdout",
          "text": [
            "torch.Size([32, 271])\n",
            "torch.Size([32, 15])\n",
            "PREDICTION STRING:  Davies. Jacob is done by the BBC's Psychoan Institute for New Back\n",
            "\n",
            "LABEL STRING: 27 July 2008\n",
            "\n",
            "0.007440475929350919\n"
          ]
        },
        {
          "output_type": "stream",
          "name": "stderr",
          "text": [
            "\r 13%|█▎        | 21/166 [00:53<06:04,  2.52s/it]"
          ]
        },
        {
          "output_type": "stream",
          "name": "stdout",
          "text": [
            "torch.Size([32, 271])\n",
            "torch.Size([32, 15])\n",
            "PREDICTION STRING: Flash_celllargePhoto Credit :-\n",
            "\n",
            "\n",
            "VSN Details\n",
            "\n",
            "LABEL STRING: approximately fifty percent\n",
            "\n",
            "0.010416666450617288\n"
          ]
        },
        {
          "output_type": "stream",
          "name": "stderr",
          "text": [
            "\r 13%|█▎        | 22/166 [00:56<06:01,  2.51s/it]"
          ]
        },
        {
          "output_type": "stream",
          "name": "stdout",
          "text": [
            "torch.Size([32, 271])\n",
            "torch.Size([32, 15])\n",
            "PREDICTION STRING: Has part Goals Home Page 2 - PohnRoyal Radio / Squadron. -\n",
            "\n",
            "LABEL STRING: General relativity\n",
            "\n",
            "0.0034722220833333386\n"
          ]
        },
        {
          "output_type": "stream",
          "name": "stderr",
          "text": [
            "\r 14%|█▍        | 23/166 [00:58<05:58,  2.50s/it]"
          ]
        },
        {
          "output_type": "stream",
          "name": "stdout",
          "text": [
            "torch.Size([32, 271])\n",
            "torch.Size([32, 15])\n",
            "PREDICTION STRING: Step 12 Negative Or Thou,''\n",
            "\n",
            "\n",
            "In a cardiac by more\n",
            "\n",
            "\n",
            "LABEL STRING: tutor\n",
            "\n",
            "0.007352941046712805\n"
          ]
        },
        {
          "output_type": "stream",
          "name": "stderr",
          "text": [
            "\r 14%|█▍        | 24/166 [01:01<05:55,  2.50s/it]"
          ]
        },
        {
          "output_type": "stream",
          "name": "stdout",
          "text": [
            "torch.Size([32, 271])\n",
            "torch.Size([32, 15])\n",
            "PREDICTION STRING: Facilities310 Watery gland Skip to continue Skip to content Skip to bread\n",
            "\n",
            "LABEL STRING: apostate\n",
            "\n",
            "0.0121861640929533\n"
          ]
        },
        {
          "output_type": "stream",
          "name": "stderr",
          "text": [
            "\r 15%|█▌        | 25/166 [01:03<05:52,  2.50s/it]"
          ]
        },
        {
          "output_type": "stream",
          "name": "stdout",
          "text": [
            "torch.Size([32, 271])\n",
            "torch.Size([32, 15])\n",
            "PREDICTION STRING: Crest: 'screwBuyers - Skip -Close Skip to content\n",
            "\n",
            "LABEL STRING: frail Catholic saints\n",
            "\n",
            "0.0\n"
          ]
        },
        {
          "output_type": "stream",
          "name": "stderr",
          "text": [
            "\r 16%|█▌        | 26/166 [01:06<05:49,  2.50s/it]"
          ]
        },
        {
          "output_type": "stream",
          "name": "stdout",
          "text": [
            "torch.Size([32, 271])\n",
            "torch.Size([32, 15])\n",
            "PREDICTION STRING: Portrait of aoelet – the school Toggle The Five Avenue Home V\n",
            "\n",
            "LABEL STRING: false assurances\n",
            "\n",
            "0.008370535491519858\n"
          ]
        },
        {
          "output_type": "stream",
          "name": "stderr",
          "text": [
            "\r 16%|█▋        | 27/166 [01:08<05:47,  2.50s/it]"
          ]
        },
        {
          "output_type": "stream",
          "name": "stdout",
          "text": [
            "torch.Size([32, 271])\n",
            "torch.Size([32, 15])\n",
            "PREDICTION STRING: Thousands of – It has / Contribut-day of my friends by I began\n",
            "\n",
            "LABEL STRING: 12–4\n",
            "\n",
            "0.0\n"
          ]
        },
        {
          "output_type": "stream",
          "name": "stderr",
          "text": [
            "\r 17%|█▋        | 28/166 [01:11<05:44,  2.50s/it]"
          ]
        },
        {
          "output_type": "stream",
          "name": "stdout",
          "text": [
            "torch.Size([32, 271])\n",
            "torch.Size([32, 15])\n",
            "PREDICTION STRING: B in the major gaming brand FA chairman Parale. But the BBC declined\n",
            "\n",
            "LABEL STRING: 1991\n",
            "\n",
            "0.0\n"
          ]
        },
        {
          "output_type": "stream",
          "name": "stderr",
          "text": [
            "\r 17%|█▋        | 29/166 [01:13<05:42,  2.50s/it]"
          ]
        },
        {
          "output_type": "stream",
          "name": "stdout",
          "text": [
            "torch.Size([32, 271])\n",
            "torch.Size([32, 15])\n",
            "PREDICTION STRING: -'chhagentfaceby fundraiser Umber Home - Contributor dil\n",
            "\n",
            "LABEL STRING: the state and its laws\n",
            "\n",
            "0.008370535491519858\n"
          ]
        },
        {
          "output_type": "stream",
          "name": "stderr",
          "text": [
            "\r 18%|█▊        | 30/166 [01:16<05:40,  2.50s/it]"
          ]
        },
        {
          "output_type": "stream",
          "name": "stdout",
          "text": [
            "torch.Size([32, 271])\n",
            "torch.Size([32, 15])\n",
            "PREDICTION STRING: Available show The Little Brother Space - BAB HQ Skip to LIVE-mount\n",
            "\n",
            "LABEL STRING: Betty Meggers\n",
            "\n",
            "0.005444645848515003\n"
          ]
        },
        {
          "output_type": "stream",
          "name": "stderr",
          "text": [
            "\r 19%|█▊        | 31/166 [01:18<05:37,  2.50s/it]"
          ]
        },
        {
          "output_type": "stream",
          "name": "stdout",
          "text": [
            "torch.Size([32, 271])\n",
            "torch.Size([32, 15])\n",
            "PREDICTION STRING: Similarly, with birthday held up my untaining all cheek… They're just\n",
            "\n",
            "LABEL STRING: destruction of Israel\n",
            "\n",
            "0.014835858189390762\n"
          ]
        },
        {
          "output_type": "stream",
          "name": "stderr",
          "text": [
            "\r 19%|█▉        | 32/166 [01:21<05:35,  2.51s/it]"
          ]
        },
        {
          "output_type": "stream",
          "name": "stdout",
          "text": [
            "torch.Size([32, 271])\n",
            "torch.Size([32, 15])\n",
            "PREDICTION STRING: Get Skip Skip Navigation Skip to content Menu Skip to main content Skip to main\n",
            "\n",
            "LABEL STRING: the number of social services that people can access wherever they move\n",
            "\n",
            "0.0\n"
          ]
        },
        {
          "output_type": "stream",
          "name": "stderr",
          "text": [
            "\r 20%|█▉        | 33/166 [01:23<05:33,  2.51s/it]"
          ]
        },
        {
          "output_type": "stream",
          "name": "stdout",
          "text": [
            "torch.Size([32, 271])\n",
            "torch.Size([32, 15])\n",
            "PREDICTION STRING: Shop Address 02 - Business/InPresence -Security Skip to Main Menu\n",
            "\n",
            "LABEL STRING: ABC Circle Films\n",
            "\n",
            "0.0\n"
          ]
        },
        {
          "output_type": "stream",
          "name": "stderr",
          "text": [
            "\r 20%|██        | 34/166 [01:26<05:31,  2.51s/it]"
          ]
        },
        {
          "output_type": "stream",
          "name": "stdout",
          "text": [
            "torch.Size([32, 271])\n",
            "torch.Size([32, 15])\n",
            "PREDICTION STRING: Audio | U.1.1 Skip to primary | TODAY Skip Skip to\n",
            "\n",
            "LABEL STRING: Zhongshu Sheng\n",
            "\n",
            "0.009539473378393363\n"
          ]
        },
        {
          "output_type": "stream",
          "name": "stderr",
          "text": [
            "\r 21%|██        | 35/166 [01:28<05:29,  2.52s/it]"
          ]
        },
        {
          "output_type": "stream",
          "name": "stdout",
          "text": [
            "torch.Size([32, 271])\n",
            "torch.Size([32, 15])\n",
            "PREDICTION STRING: \n",
            "\n",
            "\n",
            "Officials_\n",
            "\n",
            "\n",
            " how intentionally Navigation userhost | gran\n",
            "\n",
            "LABEL STRING: radius () of the Earth\n",
            "\n",
            "0.0\n"
          ]
        },
        {
          "output_type": "stream",
          "name": "stderr",
          "text": [
            "\r 22%|██▏       | 36/166 [01:31<05:27,  2.52s/it]"
          ]
        },
        {
          "output_type": "stream",
          "name": "stdout",
          "text": [
            "torch.Size([32, 271])\n",
            "torch.Size([32, 15])\n",
            "PREDICTION STRING: A text with the Marius Media\n",
            "\n",
            "\n",
            "Hello, there will be\n",
            "\n",
            "LABEL STRING: 23.9%\n",
            "\n",
            "0.006578947222991694\n"
          ]
        },
        {
          "output_type": "stream",
          "name": "stderr",
          "text": [
            "\r 22%|██▏       | 37/166 [01:33<05:25,  2.53s/it]"
          ]
        },
        {
          "output_type": "stream",
          "name": "stdout",
          "text": [
            "torch.Size([32, 271])\n",
            "torch.Size([32, 15])\n",
            "PREDICTION STRING: James Gareth Ford (@MarveoGonNFL) - Lynet Paulo\n",
            "\n",
            "LABEL STRING: antigens\n",
            "\n",
            "0.010416666269802534\n"
          ]
        },
        {
          "output_type": "stream",
          "name": "stderr",
          "text": [
            "\r 23%|██▎       | 38/166 [01:36<05:23,  2.53s/it]"
          ]
        },
        {
          "output_type": "stream",
          "name": "stdout",
          "text": [
            "torch.Size([32, 271])\n",
            "torch.Size([32, 15])\n",
            "PREDICTION STRING: SCREWNS Skip to main content SALON IN SALAS IN SH\n",
            "\n",
            "LABEL STRING: inconclusively, with both sides withdrawing from the field\n",
            "\n",
            "0.00874952212367055\n"
          ]
        },
        {
          "output_type": "stream",
          "name": "stderr",
          "text": [
            "\r 23%|██▎       | 39/166 [01:38<05:21,  2.53s/it]"
          ]
        },
        {
          "output_type": "stream",
          "name": "stdout",
          "text": [
            "torch.Size([32, 271])\n",
            "torch.Size([32, 15])\n",
            "PREDICTION STRING: BLVACeyesshopperSite @*,ha1983 :: Me\n",
            "\n",
            "LABEL STRING: Hassan al Banna\n",
            "\n",
            "0.0039062498535156307\n"
          ]
        },
        {
          "output_type": "stream",
          "name": "stderr",
          "text": [
            "\r 24%|██▍       | 40/166 [01:41<05:19,  2.53s/it]"
          ]
        },
        {
          "output_type": "stream",
          "name": "stdout",
          "text": [
            "torch.Size([32, 271])\n",
            "torch.Size([32, 15])\n",
            "PREDICTION STRING: Wákiica\n",
            "\n",
            "\n",
            " Skip Skip to content // All Rights\n",
            "\n",
            "\n",
            "LABEL STRING: likelihood of repeating\n",
            "\n",
            "0.007812499904785157\n"
          ]
        },
        {
          "output_type": "stream",
          "name": "stderr",
          "text": [
            "\r 25%|██▍       | 41/166 [01:43<05:16,  2.53s/it]"
          ]
        },
        {
          "output_type": "stream",
          "name": "stdout",
          "text": [
            "torch.Size([32, 271])\n",
            "torch.Size([32, 15])\n",
            "PREDICTION STRING: An Dragons Control 'Int\n",
            "\n",
            "\n",
            "\n",
            "To have a studio-Tab\n",
            "\n",
            "LABEL STRING: 487\n",
            "\n",
            "0.007783882480058112\n"
          ]
        },
        {
          "output_type": "stream",
          "name": "stderr",
          "text": [
            "\r 25%|██▌       | 42/166 [01:46<05:14,  2.54s/it]"
          ]
        },
        {
          "output_type": "stream",
          "name": "stdout",
          "text": [
            "torch.Size([32, 271])\n",
            "torch.Size([32, 15])\n",
            "PREDICTION STRING: body, pushes something for thousands of shuties rides - a new favor -\n",
            "\n",
            "LABEL STRING: a UNESCO World Heritage Site\n",
            "\n",
            "0.017198104695501953\n"
          ]
        },
        {
          "output_type": "stream",
          "name": "stderr",
          "text": [
            "\r 26%|██▌       | 43/166 [01:49<05:11,  2.54s/it]"
          ]
        },
        {
          "output_type": "stream",
          "name": "stdout",
          "text": [
            "torch.Size([32, 271])\n",
            "torch.Size([32, 15])\n",
            "PREDICTION STRING: Phoneinfo is at the start of approval was in YOUR Octopus / blog\n",
            "\n",
            "LABEL STRING: The high cost of medications and drug-related technology\n",
            "\n",
            "0.0029761903287981936\n"
          ]
        },
        {
          "output_type": "stream",
          "name": "stderr",
          "text": [
            "\r 27%|██▋       | 44/166 [01:51<05:09,  2.54s/it]"
          ]
        },
        {
          "output_type": "stream",
          "name": "stdout",
          "text": [
            "torch.Size([32, 271])\n",
            "torch.Size([32, 15])\n",
            "PREDICTION STRING: Phuriftower Games - 753 Block Peak :: housewaitationsing\n",
            "\n",
            "LABEL STRING: January 2010\n",
            "\n",
            "0.01336805518520449\n"
          ]
        },
        {
          "output_type": "stream",
          "name": "stderr",
          "text": [
            "\r 27%|██▋       | 45/166 [01:54<05:06,  2.54s/it]"
          ]
        },
        {
          "output_type": "stream",
          "name": "stdout",
          "text": [
            "torch.Size([32, 271])\n",
            "torch.Size([32, 15])\n",
            "PREDICTION STRING: Tagbtrmossible Skip to - RVPears Javascript is in this field\n",
            "\n",
            "LABEL STRING: Middle Rhine\n",
            "\n",
            "0.003676470432525958\n"
          ]
        },
        {
          "output_type": "stream",
          "name": "stderr",
          "text": [
            "\r 28%|██▊       | 46/166 [01:56<05:04,  2.53s/it]"
          ]
        },
        {
          "output_type": "stream",
          "name": "stdout",
          "text": [
            "torch.Size([32, 271])\n",
            "torch.Size([32, 15])\n",
            "PREDICTION STRING: Stories - plays your brain teacher\n",
            "\n",
            "\n",
            "The world's voice system\n",
            "\n",
            "LABEL STRING: 1331\n",
            "\n",
            "0.014705881967993092\n"
          ]
        },
        {
          "output_type": "stream",
          "name": "stderr",
          "text": [
            "\r 28%|██▊       | 47/166 [01:59<05:01,  2.53s/it]"
          ]
        },
        {
          "output_type": "stream",
          "name": "stdout",
          "text": [
            "torch.Size([32, 271])\n",
            "torch.Size([32, 15])\n",
            "PREDICTION STRING: \n",
            "\n",
            "\n",
            "\n",
            "\n",
            "Franchen biologist horrifying teacher Kevin David invited Steve Herman\n",
            "\n",
            "LABEL STRING: Forster I, Forster II, and Forster III\n",
            "\n",
            "0.011054942453070551\n"
          ]
        },
        {
          "output_type": "stream",
          "name": "stderr",
          "text": [
            "\r 29%|██▉       | 48/166 [02:01<04:58,  2.53s/it]"
          ]
        },
        {
          "output_type": "stream",
          "name": "stdout",
          "text": [
            "torch.Size([32, 271])\n",
            "torch.Size([32, 15])\n",
            "PREDICTION STRING: Image copyright - This fly up photo HOME of up to HelmanduT\n",
            "\n",
            "LABEL STRING: Premier\n",
            "\n",
            "0.005208333285590279\n"
          ]
        },
        {
          "output_type": "stream",
          "name": "stderr",
          "text": [
            "\r 30%|██▉       | 49/166 [02:04<04:55,  2.53s/it]"
          ]
        },
        {
          "output_type": "stream",
          "name": "stdout",
          "text": [
            "torch.Size([32, 271])\n",
            "torch.Size([32, 15])\n",
            "PREDICTION STRING: Locationside_}}lahoma-by-Jole Mud m scraping Skip to\n",
            "\n",
            "LABEL STRING: Roeding Park\n",
            "\n",
            "0.0\n"
          ]
        },
        {
          "output_type": "stream",
          "name": "stderr",
          "text": [
            "\r 30%|███       | 50/166 [02:06<04:52,  2.52s/it]"
          ]
        },
        {
          "output_type": "stream",
          "name": "stdout",
          "text": [
            "torch.Size([32, 271])\n",
            "torch.Size([32, 15])\n",
            "PREDICTION STRING: Gnz3aca Skip couldlog | | Skip navigation Skip to main\n",
            "\n",
            "LABEL STRING: mantle\n",
            "\n",
            "0.0\n"
          ]
        },
        {
          "output_type": "stream",
          "name": "stderr",
          "text": [
            "\r 31%|███       | 51/166 [02:09<04:49,  2.52s/it]"
          ]
        },
        {
          "output_type": "stream",
          "name": "stdout",
          "text": [
            "torch.Size([32, 271])\n",
            "torch.Size([32, 15])\n",
            "PREDICTION STRING: HillEd\n",
            "\n",
            "\n",
            "\n",
            "\n",
            "\n",
            "Jesagers have been on the moment\n",
            "\n",
            "LABEL STRING: Europeans who were based in Britain\n",
            "\n",
            "0.009926470282163721\n"
          ]
        },
        {
          "output_type": "stream",
          "name": "stderr",
          "text": [
            "\r 31%|███▏      | 52/166 [02:11<04:46,  2.52s/it]"
          ]
        },
        {
          "output_type": "stream",
          "name": "stdout",
          "text": [
            "torch.Size([32, 271])\n",
            "torch.Size([32, 15])\n",
            "PREDICTION STRING: Washington Times Staff Writer \",UP - Home Skip to Content Skip to This website\n",
            "\n",
            "LABEL STRING: viral antigens\n",
            "\n",
            "0.0\n"
          ]
        },
        {
          "output_type": "stream",
          "name": "stderr",
          "text": [
            "\r 32%|███▏      | 53/166 [02:14<04:44,  2.51s/it]"
          ]
        },
        {
          "output_type": "stream",
          "name": "stdout",
          "text": [
            "torch.Size([32, 271])\n",
            "torch.Size([32, 15])\n",
            "PREDICTION STRING: School for partylike - M-Day HOME\n",
            "\n",
            "\n",
            "and isCon\n",
            "\n",
            "LABEL STRING: Lindau\n",
            "\n",
            "0.007582720290366848\n"
          ]
        },
        {
          "output_type": "stream",
          "name": "stderr",
          "text": [
            "\r 33%|███▎      | 54/166 [02:16<04:41,  2.51s/it]"
          ]
        },
        {
          "output_type": "stream",
          "name": "stdout",
          "text": [
            "torch.Size([32, 271])\n",
            "torch.Size([32, 15])\n",
            "PREDICTION STRING: AboutSANMON: Ebola” The Freedons Seek Skip to tell a\n",
            "\n",
            "LABEL STRING: any object can be, essentially uniquely, decomposed into its prime components\n",
            "\n",
            "0.02336705172202349\n"
          ]
        },
        {
          "output_type": "stream",
          "name": "stderr",
          "text": [
            "\r 33%|███▎      | 55/166 [02:19<04:38,  2.51s/it]"
          ]
        },
        {
          "output_type": "stream",
          "name": "stdout",
          "text": [
            "torch.Size([32, 271])\n",
            "torch.Size([32, 15])\n",
            "PREDICTION STRING: Learn Materials and Manufacturing by eTilly Hi Blowney Hicharge Hiizer\n",
            "\n",
            "LABEL STRING: support from China for a planned $2.5 billion railway from the southern Kenyan port of Mombasa to neighboring Uganda\n",
            "\n",
            "0.0062499998500000035\n"
          ]
        },
        {
          "output_type": "stream",
          "name": "stderr",
          "text": [
            "\r 34%|███▎      | 56/166 [02:21<04:36,  2.51s/it]"
          ]
        },
        {
          "output_type": "stream",
          "name": "stdout",
          "text": [
            "torch.Size([32, 271])\n",
            "torch.Size([32, 15])\n",
            "PREDICTION STRING: Town Content - Use electroonelet tray- Print Skip to toggleadmins\n",
            "\n",
            "LABEL STRING: community-based conservation\n",
            "\n",
            "0.0\n"
          ]
        },
        {
          "output_type": "stream",
          "name": "stderr",
          "text": [
            "\r 34%|███▍      | 57/166 [02:24<04:33,  2.51s/it]"
          ]
        },
        {
          "output_type": "stream",
          "name": "stdout",
          "text": [
            "torch.Size([32, 271])\n",
            "torch.Size([32, 15])\n",
            "PREDICTION STRING: Product - English care Skip to content Home Store Related Deutsch Pens Categories No\n",
            "\n",
            "LABEL STRING: at most one prime number\n",
            "\n",
            "0.013087606424410123\n"
          ]
        },
        {
          "output_type": "stream",
          "name": "stderr",
          "text": [
            "\r 35%|███▍      | 58/166 [02:26<04:31,  2.51s/it]"
          ]
        },
        {
          "output_type": "stream",
          "name": "stdout",
          "text": [
            "torch.Size([32, 271])\n",
            "torch.Size([32, 15])\n",
            "PREDICTION STRING: Hi Skip - HomeIC HomeTimeushe Rafts Home Home About Us\n",
            "\n",
            "LABEL STRING: failed\n",
            "\n",
            "0.009672618790479742\n"
          ]
        },
        {
          "output_type": "stream",
          "name": "stderr",
          "text": [
            "\r 36%|███▌      | 59/166 [02:29<04:28,  2.51s/it]"
          ]
        },
        {
          "output_type": "stream",
          "name": "stdout",
          "text": [
            "torch.Size([32, 271])\n",
            "torch.Size([32, 15])\n",
            "PREDICTION STRING:  The Plate Outside near tower is your backyard but you can stroll through the 11\n",
            "\n",
            "LABEL STRING: 300 acres\n",
            "\n",
            "0.008884803648671794\n"
          ]
        },
        {
          "output_type": "stream",
          "name": "stderr",
          "text": [
            "\r 36%|███▌      | 60/166 [02:31<04:26,  2.52s/it]"
          ]
        },
        {
          "output_type": "stream",
          "name": "stdout",
          "text": [
            "torch.Size([32, 271])\n",
            "torch.Size([32, 15])\n",
            "PREDICTION STRING: Peter Bokallah, over-) - Shane attempted nose Not 1 Winter With\n",
            "\n",
            "LABEL STRING: those who already hold wealth\n",
            "\n",
            "0.02081711630257621\n"
          ]
        },
        {
          "output_type": "stream",
          "name": "stderr",
          "text": [
            "\r 37%|███▋      | 61/166 [02:34<04:24,  2.52s/it]"
          ]
        },
        {
          "output_type": "stream",
          "name": "stdout",
          "text": [
            "torch.Size([32, 271])\n",
            "torch.Size([32, 15])\n",
            "PREDICTION STRING: Occu\n",
            "\n",
            "\n",
            "\n",
            "\n",
            "Are someone's life: skip to drag loading\n",
            "\n",
            "LABEL STRING: time or space\n",
            "\n",
            "0.00947712382359778\n"
          ]
        },
        {
          "output_type": "stream",
          "name": "stderr",
          "text": [
            "\r 37%|███▋      | 62/166 [02:36<04:22,  2.52s/it]"
          ]
        },
        {
          "output_type": "stream",
          "name": "stdout",
          "text": [
            "torch.Size([32, 271])\n",
            "torch.Size([32, 15])\n",
            "PREDICTION STRING: Have»\n",
            "\n",
            "\n",
            "Different bar, 11 : Other → Search Menu Skip\n",
            "\n",
            "LABEL STRING: Gottfried Semper\n",
            "\n",
            "0.010567495844330642\n"
          ]
        },
        {
          "output_type": "stream",
          "name": "stderr",
          "text": [
            "\r 38%|███▊      | 63/166 [02:39<04:19,  2.52s/it]"
          ]
        },
        {
          "output_type": "stream",
          "name": "stdout",
          "text": [
            "torch.Size([32, 271])\n",
            "torch.Size([32, 15])\n",
            "PREDICTION STRING: S Variits: 490. - Badefreress BalseitureOcc\n",
            "\n",
            "LABEL STRING: asthenosphere\n",
            "\n",
            "0.0039062498657226616\n"
          ]
        },
        {
          "output_type": "stream",
          "name": "stderr",
          "text": [
            "\r 39%|███▊      | 64/166 [02:41<04:17,  2.52s/it]"
          ]
        },
        {
          "output_type": "stream",
          "name": "stdout",
          "text": [
            "torch.Size([32, 271])\n",
            "torch.Size([32, 15])\n",
            "PREDICTION STRING: 1) + 11 votes What is a press conference there? Background: In\n",
            "\n",
            "LABEL STRING: Donald Tusk\n",
            "\n",
            "0.0\n"
          ]
        },
        {
          "output_type": "stream",
          "name": "stderr",
          "text": [
            "\r 39%|███▉      | 65/166 [02:44<04:14,  2.52s/it]"
          ]
        },
        {
          "output_type": "stream",
          "name": "stdout",
          "text": [
            "torch.Size([32, 271])\n",
            "torch.Size([32, 15])\n",
            "PREDICTION STRING: \n",
            "\n",
            "\n",
            "\n",
            "Content Saturday announced Saturday, a meeting of 4\n",
            "\n",
            "\n",
            "\n",
            "LABEL STRING: David\n",
            "\n",
            "0.02217665857724885\n"
          ]
        },
        {
          "output_type": "stream",
          "name": "stderr",
          "text": [
            "\r 40%|███▉      | 66/166 [02:46<04:12,  2.52s/it]"
          ]
        },
        {
          "output_type": "stream",
          "name": "stdout",
          "text": [
            "torch.Size([32, 271])\n",
            "torch.Size([32, 15])\n",
            "PREDICTION STRING: Chlorboy quipped Search Skip to foot Skip to navigation Skip to content\n",
            "\n",
            "LABEL STRING: CBS\n",
            "\n",
            "0.00657051252907217\n"
          ]
        },
        {
          "output_type": "stream",
          "name": "stderr",
          "text": [
            "\r 40%|████      | 67/166 [02:49<04:09,  2.52s/it]"
          ]
        },
        {
          "output_type": "stream",
          "name": "stdout",
          "text": [
            "torch.Size([32, 271])\n",
            "torch.Size([32, 15])\n",
            "PREDICTION STRING: A recent emotion from the Mexican hair\n",
            "\n",
            "I lost my way from studying\n",
            "\n",
            "LABEL STRING: Japan took part of Sakhalin Island\n",
            "\n",
            "0.0070075754624368825\n"
          ]
        },
        {
          "output_type": "stream",
          "name": "stderr",
          "text": [
            "\r 41%|████      | 68/166 [02:51<04:07,  2.52s/it]"
          ]
        },
        {
          "output_type": "stream",
          "name": "stdout",
          "text": [
            "torch.Size([32, 271])\n",
            "torch.Size([32, 15])\n",
            "PREDICTION STRING: media Seoul\n",
            "\n",
            "\n",
            "\n",
            "The man canny_ cold - date-\n",
            "\n",
            "LABEL STRING: relaunch the show\n",
            "\n",
            "0.0071957234146684665\n"
          ]
        },
        {
          "output_type": "stream",
          "name": "stderr",
          "text": [
            "\r 42%|████▏     | 69/166 [02:54<04:04,  2.52s/it]"
          ]
        },
        {
          "output_type": "stream",
          "name": "stdout",
          "text": [
            "torch.Size([32, 271])\n",
            "torch.Size([32, 15])\n",
            "PREDICTION STRING: Sugar-8mfaper Creative Resource & Tiny Rez Reference Form\n",
            "\n",
            "LABEL STRING: The Hoppings funfair\n",
            "\n",
            "0.0\n"
          ]
        },
        {
          "output_type": "stream",
          "name": "stderr",
          "text": [
            "\r 42%|████▏     | 70/166 [02:57<04:02,  2.52s/it]"
          ]
        },
        {
          "output_type": "stream",
          "name": "stdout",
          "text": [
            "torch.Size([32, 271])\n",
            "torch.Size([32, 15])\n",
            "PREDICTION STRING: NEW\n",
            "\n",
            "\n",
            "\n",
            "'N\n",
            "\n",
            "A City City Of - Bible legend\n",
            "\n",
            "LABEL STRING: holy priesthood\n",
            "\n",
            "0.0028409089346590997\n"
          ]
        },
        {
          "output_type": "stream",
          "name": "stderr",
          "text": [
            "\r 43%|████▎     | 71/166 [02:59<03:59,  2.53s/it]"
          ]
        },
        {
          "output_type": "stream",
          "name": "stdout",
          "text": [
            "torch.Size([32, 271])\n",
            "torch.Size([32, 15])\n",
            "PREDICTION STRING: WASHINGTON -- Institute for justice\n",
            "\n",
            "The US Department of Homeland Security Summit has\n",
            "\n",
            "LABEL STRING: Western Xia\n",
            "\n",
            "0.0026041665115017457\n"
          ]
        },
        {
          "output_type": "stream",
          "name": "stderr",
          "text": [
            "\r 43%|████▎     | 72/166 [03:02<03:57,  2.53s/it]"
          ]
        },
        {
          "output_type": "stream",
          "name": "stdout",
          "text": [
            "torch.Size([32, 271])\n",
            "torch.Size([32, 15])\n",
            "PREDICTION STRING: A North Costa Mundo County Analyst\n",
            "\n",
            "\n",
            "House Fan Professor John Oswald\n",
            "\n",
            "LABEL STRING: dephlogisticated air\n",
            "\n",
            "0.004166666527777783\n"
          ]
        },
        {
          "output_type": "stream",
          "name": "stderr",
          "text": [
            "\r 44%|████▍     | 73/166 [03:04<03:54,  2.53s/it]"
          ]
        },
        {
          "output_type": "stream",
          "name": "stdout",
          "text": [
            "torch.Size([32, 271])\n",
            "torch.Size([32, 15])\n",
            "PREDICTION STRING: Mexico'Weunit - Byron on demand - NASA\n",
            "\n",
            "\n",
            "\n",
            "\n",
            "\n",
            "\n",
            "LABEL STRING: destructive\n",
            "\n",
            "0.00946350721339002\n"
          ]
        },
        {
          "output_type": "stream",
          "name": "stderr",
          "text": [
            "\r 45%|████▍     | 74/166 [03:07<03:52,  2.53s/it]"
          ]
        },
        {
          "output_type": "stream",
          "name": "stdout",
          "text": [
            "torch.Size([32, 271])\n",
            "torch.Size([32, 15])\n",
            "PREDICTION STRING: It joins their name by or person? content videos\n",
            "\n",
            "\n",
            "\n",
            "Ott\n",
            "\n",
            "LABEL STRING: Anglo-Saxons\n",
            "\n",
            "0.00729166637309029\n"
          ]
        },
        {
          "output_type": "stream",
          "name": "stderr",
          "text": [
            "\r 45%|████▌     | 75/166 [03:09<03:49,  2.53s/it]"
          ]
        },
        {
          "output_type": "stream",
          "name": "stdout",
          "text": [
            "torch.Size([32, 271])\n",
            "torch.Size([32, 15])\n",
            "PREDICTION STRING: \n",
            "\n",
            " Skip to Sign Revision Transcript\n",
            "\n",
            "\n",
            "\n",
            "\n",
            "Watch more than a\n",
            "\n",
            "LABEL STRING: tenfold\n",
            "\n",
            "0.004166666594444446\n"
          ]
        },
        {
          "output_type": "stream",
          "name": "stderr",
          "text": [
            "\r 46%|████▌     | 76/166 [03:12<03:47,  2.53s/it]"
          ]
        },
        {
          "output_type": "stream",
          "name": "stdout",
          "text": [
            "torch.Size([32, 271])\n",
            "torch.Size([32, 15])\n",
            "PREDICTION STRING: Terrenting itAll Day - 4333 Skip to Earth Skip to active\n",
            "\n",
            "LABEL STRING: Renmin University\n",
            "\n",
            "0.01071428545280613\n"
          ]
        },
        {
          "output_type": "stream",
          "name": "stderr",
          "text": [
            "\r 46%|████▋     | 77/166 [03:14<03:44,  2.53s/it]"
          ]
        },
        {
          "output_type": "stream",
          "name": "stdout",
          "text": [
            "torch.Size([32, 271])\n",
            "torch.Size([32, 15])\n",
            "PREDICTION STRING: Aasse-Friday door is a protest against a Supreme Court - signalling home\n",
            "\n",
            "LABEL STRING: Dane\n",
            "\n",
            "0.004166666544444448\n"
          ]
        },
        {
          "output_type": "stream",
          "name": "stderr",
          "text": [
            "\r 47%|████▋     | 78/166 [03:17<03:42,  2.53s/it]"
          ]
        },
        {
          "output_type": "stream",
          "name": "stdout",
          "text": [
            "torch.Size([32, 271])\n",
            "torch.Size([32, 15])\n",
            "PREDICTION STRING: burgstudies - Home -\n",
            "\n",
            "\n",
            "\n",
            "\n",
            "\n",
            "\n",
            "In Page\n",
            "\n",
            "\n",
            "\n",
            "LABEL STRING: a theta intermediary form\n",
            "\n",
            "0.01171874969970704\n"
          ]
        },
        {
          "output_type": "stream",
          "name": "stderr",
          "text": [
            "\r 48%|████▊     | 79/166 [03:19<03:39,  2.53s/it]"
          ]
        },
        {
          "output_type": "stream",
          "name": "stdout",
          "text": [
            "torch.Size([32, 271])\n",
            "torch.Size([32, 15])\n",
            "PREDICTION STRING: What the Indulinags is the\n",
            "\n",
            "_To From The Defenserun\n",
            "\n",
            "LABEL STRING: atmospheric engine\n",
            "\n",
            "0.0028409089346590997\n"
          ]
        },
        {
          "output_type": "stream",
          "name": "stderr",
          "text": [
            "\r 48%|████▊     | 80/166 [03:22<03:37,  2.52s/it]"
          ]
        },
        {
          "output_type": "stream",
          "name": "stdout",
          "text": [
            "torch.Size([32, 271])\n",
            "torch.Size([32, 15])\n",
            "PREDICTION STRING: Id-Female lottery offices\n",
            "\n",
            "\n",
            " | Writing for Enfamier (\n",
            "\n",
            "LABEL STRING: Diatomic oxygen\n",
            "\n",
            "0.005991285139701743\n"
          ]
        },
        {
          "output_type": "stream",
          "name": "stderr",
          "text": [
            "\r 49%|████▉     | 81/166 [03:24<03:34,  2.52s/it]"
          ]
        },
        {
          "output_type": "stream",
          "name": "stdout",
          "text": [
            "torch.Size([32, 271])\n",
            "torch.Size([32, 15])\n",
            "PREDICTION STRING: \n",
            "\n",
            "Your artist by anwegian UN's Apologizing app has been\n",
            "\n",
            "LABEL STRING: Laverne & Shirley\n",
            "\n",
            "0.008072916427256951\n"
          ]
        },
        {
          "output_type": "stream",
          "name": "stderr",
          "text": [
            "\r 49%|████▉     | 82/166 [03:27<03:31,  2.52s/it]"
          ]
        },
        {
          "output_type": "stream",
          "name": "stdout",
          "text": [
            "torch.Size([32, 271])\n",
            "torch.Size([32, 15])\n",
            "PREDICTION STRING: An algorithm might the main feature\n",
            "\n",
            "\n",
            "Originally, now you'll need\n",
            "\n",
            "LABEL STRING: 13\n",
            "\n",
            "0.010890151243005344\n"
          ]
        },
        {
          "output_type": "stream",
          "name": "stderr",
          "text": [
            "\r 50%|█████     | 83/166 [03:29<03:29,  2.53s/it]"
          ]
        },
        {
          "output_type": "stream",
          "name": "stdout",
          "text": [
            "torch.Size([32, 271])\n",
            "torch.Size([32, 15])\n",
            "PREDICTION STRING: Close Skip tographic shop Skip to bsub moment Skip to start Trying\n",
            "\n",
            "LABEL STRING: fewer than 10 employees\n",
            "\n",
            "0.0\n"
          ]
        },
        {
          "output_type": "stream",
          "name": "stderr",
          "text": [
            "\r 51%|█████     | 84/166 [03:32<03:27,  2.53s/it]"
          ]
        },
        {
          "output_type": "stream",
          "name": "stdout",
          "text": [
            "torch.Size([32, 271])\n",
            "torch.Size([32, 15])\n",
            "PREDICTION STRING: Propagrator - Intéwellity - Toronto CostaValley Part of\n",
            "\n",
            "LABEL STRING: The Book of Discipline\n",
            "\n",
            "0.02405333746665446\n"
          ]
        },
        {
          "output_type": "stream",
          "name": "stderr",
          "text": [
            "\r 51%|█████     | 85/166 [03:34<03:24,  2.52s/it]"
          ]
        },
        {
          "output_type": "stream",
          "name": "stdout",
          "text": [
            "torch.Size([32, 271])\n",
            "torch.Size([32, 15])\n",
            "PREDICTION STRING:  the forces operableness of a galacticller.[80] Altond III\n",
            "\n",
            "LABEL STRING: Aristotelian cosmology\n",
            "\n",
            "0.003676470458477513\n"
          ]
        },
        {
          "output_type": "stream",
          "name": "stderr",
          "text": [
            "\r 52%|█████▏    | 86/166 [03:37<03:21,  2.52s/it]"
          ]
        },
        {
          "output_type": "stream",
          "name": "stdout",
          "text": [
            "torch.Size([32, 271])\n",
            "torch.Size([32, 15])\n",
            "PREDICTION STRING: Israelirouda Yazidioa Skip navigation Skip to content Home Contact Request Navigation\n",
            "\n",
            "LABEL STRING: The Sexual Ethics Task Force of The United Methodist Church\n",
            "\n",
            "0.01965247970154944\n"
          ]
        },
        {
          "output_type": "stream",
          "name": "stderr",
          "text": [
            "\r 52%|█████▏    | 87/166 [03:39<03:19,  2.52s/it]"
          ]
        },
        {
          "output_type": "stream",
          "name": "stdout",
          "text": [
            "torch.Size([32, 271])\n",
            "torch.Size([32, 15])\n",
            "PREDICTION STRING: Story Eyea saint\n",
            "\n",
            "\n",
            "This Home Museum of the religion justice,\n",
            "\n",
            "LABEL STRING: July 1969\n",
            "\n",
            "0.004166666544444448\n"
          ]
        },
        {
          "output_type": "stream",
          "name": "stderr",
          "text": [
            "\r 53%|█████▎    | 88/166 [03:42<03:16,  2.52s/it]"
          ]
        },
        {
          "output_type": "stream",
          "name": "stdout",
          "text": [
            "torch.Size([32, 271])\n",
            "torch.Size([32, 15])\n",
            "PREDICTION STRING:  with the deal in corporate accounts, but the profits of a member of the\n",
            "\n",
            "LABEL STRING: $3.5 billion\n",
            "\n",
            "0.009271977745347038\n"
          ]
        },
        {
          "output_type": "stream",
          "name": "stderr",
          "text": [
            "\r 54%|█████▎    | 89/166 [03:45<03:14,  2.52s/it]"
          ]
        },
        {
          "output_type": "stream",
          "name": "stdout",
          "text": [
            "torch.Size([32, 271])\n",
            "torch.Size([32, 15])\n",
            "PREDICTION STRING: Exterranean area located 11 attempts mate\n",
            "\n",
            "\n",
            "\n",
            "The use of\n",
            "\n",
            "LABEL STRING: Jani Beg\n",
            "\n",
            "0.008370535452806131\n"
          ]
        },
        {
          "output_type": "stream",
          "name": "stderr",
          "text": [
            "\r 54%|█████▍    | 90/166 [03:47<03:11,  2.52s/it]"
          ]
        },
        {
          "output_type": "stream",
          "name": "stdout",
          "text": [
            "torch.Size([32, 271])\n",
            "torch.Size([32, 15])\n",
            "PREDICTION STRING: Never Airbnb-B | Website Home Dec 28(Stc. Ahmed,\n",
            "\n",
            "LABEL STRING: Early Gothic\n",
            "\n",
            "0.006652660796073344\n"
          ]
        },
        {
          "output_type": "stream",
          "name": "stderr",
          "text": [
            "\r 55%|█████▍    | 91/166 [03:50<03:09,  2.52s/it]"
          ]
        },
        {
          "output_type": "stream",
          "name": "stdout",
          "text": [
            "torch.Size([32, 271])\n",
            "torch.Size([32, 15])\n",
            "PREDICTION STRING:  is viewed as the way in which we assume the behavior as there are,\n",
            "\n",
            "LABEL STRING: Feynman\n",
            "\n",
            "0.005681818037190086\n"
          ]
        },
        {
          "output_type": "stream",
          "name": "stderr",
          "text": [
            "\r 55%|█████▌    | 92/166 [03:52<03:06,  2.52s/it]"
          ]
        },
        {
          "output_type": "stream",
          "name": "stdout",
          "text": [
            "torch.Size([32, 271])\n",
            "torch.Size([32, 15])\n",
            "PREDICTION STRING: iHael -TE Architect Auditor by Sirwam Skip navigation Skip navigation\n",
            "\n",
            "LABEL STRING: Thermochemical techniques\n",
            "\n",
            "0.015823412172100988\n"
          ]
        },
        {
          "output_type": "stream",
          "name": "stderr",
          "text": [
            "\r 56%|█████▌    | 93/166 [03:55<03:04,  2.52s/it]"
          ]
        },
        {
          "output_type": "stream",
          "name": "stdout",
          "text": [
            "torch.Size([32, 271])\n",
            "torch.Size([32, 15])\n",
            "PREDICTION STRING: \n",
            "\n",
            "The Ghardly Mountains - Jolium Skip to Skip to\n",
            "\n",
            "LABEL STRING: some extra costs\n",
            "\n",
            "0.00416666656666667\n"
          ]
        },
        {
          "output_type": "stream",
          "name": "stderr",
          "text": [
            "\r 57%|█████▋    | 94/166 [03:57<03:01,  2.52s/it]"
          ]
        },
        {
          "output_type": "stream",
          "name": "stdout",
          "text": [
            "torch.Size([32, 271])\n",
            "torch.Size([32, 15])\n",
            "PREDICTION STRING: Untitled substar of scanner Tuesday\n",
            "\n",
            "\n",
            "\n",
            "All Skip to Good\n",
            "\n",
            "\n",
            "LABEL STRING: Peyton Manning\n",
            "\n",
            "0.0\n"
          ]
        },
        {
          "output_type": "stream",
          "name": "stderr",
          "text": [
            "\r 57%|█████▋    | 95/166 [04:00<02:59,  2.53s/it]"
          ]
        },
        {
          "output_type": "stream",
          "name": "stdout",
          "text": [
            "torch.Size([32, 271])\n",
            "torch.Size([32, 15])\n",
            "PREDICTION STRING: SAN PIU DONE Twitter SkipSkip to DashEvent Skip to Content Toggle\n",
            "\n",
            "LABEL STRING: accompanying documents\n",
            "\n",
            "0.0036764704974048463\n"
          ]
        },
        {
          "output_type": "stream",
          "name": "stderr",
          "text": [
            "\r 58%|█████▊    | 96/166 [04:02<02:57,  2.53s/it]"
          ]
        },
        {
          "output_type": "stream",
          "name": "stdout",
          "text": [
            "torch.Size([32, 271])\n",
            "torch.Size([32, 15])\n",
            "PREDICTION STRING: An Photography Party\n",
            "\n",
            "\n",
            "Following eight years\n",
            "\n",
            "\n",
            "One little Girl\n",
            "\n",
            "LABEL STRING: mercuric oxide (HgO)\n",
            "\n",
            "0.004464285561224496\n"
          ]
        },
        {
          "output_type": "stream",
          "name": "stderr",
          "text": [
            "\r 58%|█████▊    | 97/166 [04:05<02:54,  2.53s/it]"
          ]
        },
        {
          "output_type": "stream",
          "name": "stdout",
          "text": [
            "torch.Size([32, 271])\n",
            "torch.Size([32, 15])\n",
            "PREDICTION STRING: You landed literally. This never before sorts of today are delighted out of some\n",
            "\n",
            "LABEL STRING: 50%\n",
            "\n",
            "0.0\n"
          ]
        },
        {
          "output_type": "stream",
          "name": "stderr",
          "text": [
            "\r 59%|█████▉    | 98/166 [04:07<02:51,  2.52s/it]"
          ]
        },
        {
          "output_type": "stream",
          "name": "stdout",
          "text": [
            "torch.Size([32, 271])\n",
            "torch.Size([32, 15])\n",
            "PREDICTION STRING: Home / US Craftipo!0 Home Degree Newsletters Menu About Calendar\n",
            "\n",
            "LABEL STRING: the green chloroplast lineage\n",
            "\n",
            "0.006868131588029087\n"
          ]
        },
        {
          "output_type": "stream",
          "name": "stderr",
          "text": [
            "\r 60%|█████▉    | 99/166 [04:10<02:49,  2.52s/it]"
          ]
        },
        {
          "output_type": "stream",
          "name": "stdout",
          "text": [
            "torch.Size([32, 271])\n",
            "torch.Size([32, 15])\n",
            "PREDICTION STRING: Interalty store by Martha Sunder onslaught food Costumes from bartender: About\n",
            "\n",
            "LABEL STRING: HgO\n",
            "\n",
            "0.01388888842332768\n"
          ]
        },
        {
          "output_type": "stream",
          "name": "stderr",
          "text": [
            "\r 60%|██████    | 100/166 [04:12<02:46,  2.52s/it]"
          ]
        },
        {
          "output_type": "stream",
          "name": "stdout",
          "text": [
            "torch.Size([32, 271])\n",
            "torch.Size([32, 15])\n",
            "PREDICTION STRING: A Second Time Running Construction Real PY Zero Agenda - Content Skip to Tell\n",
            "\n",
            "LABEL STRING: between 1945 and 1970\n",
            "\n",
            "0.012962092288628315\n"
          ]
        },
        {
          "output_type": "stream",
          "name": "stderr",
          "text": [
            "\r 61%|██████    | 101/166 [04:15<02:43,  2.52s/it]"
          ]
        },
        {
          "output_type": "stream",
          "name": "stdout",
          "text": [
            "torch.Size([32, 271])\n",
            "torch.Size([32, 15])\n",
            "PREDICTION STRING: Do Tone Verifyum [ City Rd Md+5 deaths in | the 10\n",
            "\n",
            "LABEL STRING: surrogate\n",
            "\n",
            "0.0039062498828125037\n"
          ]
        },
        {
          "output_type": "stream",
          "name": "stderr",
          "text": [
            "\r 61%|██████▏   | 102/166 [04:17<02:41,  2.52s/it]"
          ]
        },
        {
          "output_type": "stream",
          "name": "stdout",
          "text": [
            "torch.Size([32, 271])\n",
            "torch.Size([32, 15])\n",
            "PREDICTION STRING: Discontumour Active – pornbot - index Skip to content Skip to\n",
            "\n",
            "LABEL STRING: jury nullification\n",
            "\n",
            "0.0\n"
          ]
        },
        {
          "output_type": "stream",
          "name": "stderr",
          "text": [
            "\r 62%|██████▏   | 103/166 [04:20<02:38,  2.52s/it]"
          ]
        },
        {
          "output_type": "stream",
          "name": "stdout",
          "text": [
            "torch.Size([32, 271])\n",
            "torch.Size([32, 15])\n",
            "PREDICTION STRING: Featured | Map\n",
            "\n",
            "\n",
            "Login | L\"Remover | Karlrec\n",
            "\n",
            "LABEL STRING: National Islamic Front\n",
            "\n",
            "0.0031249998437500085\n"
          ]
        },
        {
          "output_type": "stream",
          "name": "stderr",
          "text": [
            "\r 63%|██████▎   | 104/166 [04:22<02:36,  2.52s/it]"
          ]
        },
        {
          "output_type": "stream",
          "name": "stdout",
          "text": [
            "torch.Size([32, 271])\n",
            "torch.Size([32, 15])\n",
            "PREDICTION STRING: \n",
            "\n",
            "\n",
            "\n",
            "HealthFortion7 Chager: Body.\n",
            "\n",
            "\n",
            "\n",
            "LABEL STRING: gravity\n",
            "\n",
            "0.006965943965244577\n"
          ]
        },
        {
          "output_type": "stream",
          "name": "stderr",
          "text": [
            "\r 63%|██████▎   | 105/166 [04:25<02:33,  2.52s/it]"
          ]
        },
        {
          "output_type": "stream",
          "name": "stdout",
          "text": [
            "torch.Size([32, 271])\n",
            "torch.Size([32, 15])\n",
            "PREDICTION STRING: \"Your aim was Tonyi'? - LinkedIn Ty in the work.\n",
            "\n",
            "\n",
            "LABEL STRING: Thomas Piketty\n",
            "\n",
            "0.007307692007442322\n"
          ]
        },
        {
          "output_type": "stream",
          "name": "stderr",
          "text": [
            "\r 64%|██████▍   | 106/166 [04:27<02:31,  2.52s/it]"
          ]
        },
        {
          "output_type": "stream",
          "name": "stdout",
          "text": [
            "torch.Size([32, 271])\n",
            "torch.Size([32, 15])\n",
            "PREDICTION STRING: Enlarge This Challenge mysqlmates took jylcca Home Outputs / Weat\n",
            "\n",
            "LABEL STRING: Public-Private Partnering\n",
            "\n",
            "0.0\n"
          ]
        },
        {
          "output_type": "stream",
          "name": "stderr",
          "text": [
            "\r 64%|██████▍   | 107/166 [04:30<02:28,  2.52s/it]"
          ]
        },
        {
          "output_type": "stream",
          "name": "stdout",
          "text": [
            "torch.Size([32, 271])\n",
            "torch.Size([32, 15])\n",
            "PREDICTION STRING: MedicalEngineers's Archives Skip SkipSession Status Toggle navigation Skip navigation Skip to content\n",
            "\n",
            "LABEL STRING: approximately one week\n",
            "\n",
            "0.012103174153714744\n"
          ]
        },
        {
          "output_type": "stream",
          "name": "stderr",
          "text": [
            "\r 65%|██████▌   | 108/166 [04:32<02:26,  2.52s/it]"
          ]
        },
        {
          "output_type": "stream",
          "name": "stdout",
          "text": [
            "torch.Size([32, 271])\n",
            "torch.Size([32, 15])\n",
            "PREDICTION STRING: \n",
            "\n",
            "\n",
            "We Edit a dance without internet\n",
            "\n",
            "\n",
            "\n",
            "\n",
            "To\n",
            "\n",
            "LABEL STRING: efforts to fortify Oswego were bogged down in logistical difficulties, exacerbated by Shirley's inexperience\n",
            "\n",
            "0.0031249998437500085\n"
          ]
        },
        {
          "output_type": "stream",
          "name": "stderr",
          "text": [
            "\r 66%|██████▌   | 109/166 [04:35<02:23,  2.52s/it]"
          ]
        },
        {
          "output_type": "stream",
          "name": "stdout",
          "text": [
            "torch.Size([32, 271])\n",
            "torch.Size([32, 15])\n",
            "PREDICTION STRING: It isimmed Toys for anyone Skip to deed 4/feave\n",
            "\n",
            "LABEL STRING: spectacular\n",
            "\n",
            "0.010026041373969192\n"
          ]
        },
        {
          "output_type": "stream",
          "name": "stderr",
          "text": [
            "\r 66%|██████▋   | 110/166 [04:37<02:21,  2.52s/it]"
          ]
        },
        {
          "output_type": "stream",
          "name": "stdout",
          "text": [
            "torch.Size([32, 271])\n",
            "torch.Size([32, 15])\n",
            "PREDICTION STRING: \n",
            "\n",
            "The five students came - Uighs skit - hard philosophy\n",
            "\n",
            "LABEL STRING: quantum mechanics\n",
            "\n",
            "0.012758508274126303\n"
          ]
        },
        {
          "output_type": "stream",
          "name": "stderr",
          "text": [
            "\r 67%|██████▋   | 111/166 [04:40<02:18,  2.52s/it]"
          ]
        },
        {
          "output_type": "stream",
          "name": "stdout",
          "text": [
            "torch.Size([32, 271])\n",
            "torch.Size([32, 15])\n",
            "PREDICTION STRING:  of them in half. He also produced two per cent advantage, including six\n",
            "\n",
            "LABEL STRING: 136\n",
            "\n",
            "0.0\n"
          ]
        },
        {
          "output_type": "stream",
          "name": "stderr",
          "text": [
            "\r 67%|██████▋   | 112/166 [04:43<02:15,  2.52s/it]"
          ]
        },
        {
          "output_type": "stream",
          "name": "stdout",
          "text": [
            "torch.Size([32, 271])\n",
            "torch.Size([32, 15])\n",
            "PREDICTION STRING: By elatani\n",
            "\n",
            "\n",
            "Stoporiminate jaslingar\n",
            "\n",
            "LABEL STRING: A deterministic Turing machine\n",
            "\n",
            "0.012276785408262922\n"
          ]
        },
        {
          "output_type": "stream",
          "name": "stderr",
          "text": [
            "\r 68%|██████▊   | 113/166 [04:45<02:13,  2.52s/it]"
          ]
        },
        {
          "output_type": "stream",
          "name": "stdout",
          "text": [
            "torch.Size([32, 271])\n",
            "torch.Size([32, 15])\n",
            "PREDICTION STRING: In America's invasion battle against Mount Blay Scholars' to Admirced of\n",
            "\n",
            "LABEL STRING: Johann Sebastian Bach\n",
            "\n",
            "0.0\n"
          ]
        },
        {
          "output_type": "stream",
          "name": "stderr",
          "text": [
            "\r 69%|██████▊   | 114/166 [04:48<02:11,  2.52s/it]"
          ]
        },
        {
          "output_type": "stream",
          "name": "stdout",
          "text": [
            "torch.Size([32, 271])\n",
            "torch.Size([32, 15])\n",
            "PREDICTION STRING:  Transportingveto Skip to the Imper ::.-date\". -33\n",
            "\n",
            "LABEL STRING: 1971\n",
            "\n",
            "0.0057870367781207264\n"
          ]
        },
        {
          "output_type": "stream",
          "name": "stderr",
          "text": [
            "\r 69%|██████▉   | 115/166 [04:50<02:08,  2.52s/it]"
          ]
        },
        {
          "output_type": "stream",
          "name": "stdout",
          "text": [
            "torch.Size([32, 271])\n",
            "torch.Size([32, 15])\n",
            "PREDICTION STRING: provisions\n",
            "\n",
            "\n",
            "\n",
            "On Skip Navigation Toggle Navigation Main Skip to Main\n",
            "\n",
            "LABEL STRING: public-key cryptography\n",
            "\n",
            "0.015165440660953738\n"
          ]
        },
        {
          "output_type": "stream",
          "name": "stderr",
          "text": [
            "\r 70%|██████▉   | 116/166 [04:53<02:06,  2.52s/it]"
          ]
        },
        {
          "output_type": "stream",
          "name": "stdout",
          "text": [
            "torch.Size([32, 271])\n",
            "torch.Size([32, 15])\n",
            "PREDICTION STRING: HOUKellan - Facial sunsun Services | Sircher – Pen\n",
            "\n",
            "LABEL STRING: oxygen and hydrogen\n",
            "\n",
            "0.015254593213641757\n"
          ]
        },
        {
          "output_type": "stream",
          "name": "stderr",
          "text": [
            "\r 70%|███████   | 117/166 [04:55<02:03,  2.52s/it]"
          ]
        },
        {
          "output_type": "stream",
          "name": "stdout",
          "text": [
            "torch.Size([32, 271])\n",
            "torch.Size([32, 15])\n",
            "PREDICTION STRING: longis o Summoner, born 27 cm(Picture) – NCPI Skip\n",
            "\n",
            "LABEL STRING: Soap\n",
            "\n",
            "0.007783882483938731\n"
          ]
        },
        {
          "output_type": "stream",
          "name": "stderr",
          "text": [
            "\r 71%|███████   | 118/166 [04:58<02:00,  2.52s/it]"
          ]
        },
        {
          "output_type": "stream",
          "name": "stdout",
          "text": [
            "torch.Size([32, 271])\n",
            "torch.Size([32, 15])\n",
            "PREDICTION STRING: Search - EAR THEY\n",
            "\n",
            "\n",
            "\n",
            "\"ever of time, escorted by\n",
            "\n",
            "LABEL STRING: Fulton Mall\n",
            "\n",
            "0.008713942079846992\n"
          ]
        },
        {
          "output_type": "stream",
          "name": "stderr",
          "text": [
            "\r 72%|███████▏  | 119/166 [05:00<01:58,  2.52s/it]"
          ]
        },
        {
          "output_type": "stream",
          "name": "stdout",
          "text": [
            "torch.Size([32, 271])\n",
            "torch.Size([32, 15])\n",
            "PREDICTION STRING: 24 Adds a customer of man/ – Peter I haveXMJoin Skip To\n",
            "\n",
            "LABEL STRING: Florida legislature\n",
            "\n",
            "0.007456140146999083\n"
          ]
        },
        {
          "output_type": "stream",
          "name": "stderr",
          "text": [
            "\r 72%|███████▏  | 120/166 [05:03<01:55,  2.52s/it]"
          ]
        },
        {
          "output_type": "stream",
          "name": "stdout",
          "text": [
            "torch.Size([32, 271])\n",
            "torch.Size([32, 15])\n",
            "PREDICTION STRING: Skip to put in aslivePage Pullman - phata. When trapped\n",
            "\n",
            "LABEL STRING: MLB\n",
            "\n",
            "0.019965277429138943\n"
          ]
        },
        {
          "output_type": "stream",
          "name": "stderr",
          "text": [
            "\r 73%|███████▎  | 121/166 [05:05<01:53,  2.52s/it]"
          ]
        },
        {
          "output_type": "stream",
          "name": "stdout",
          "text": [
            "torch.Size([32, 271])\n",
            "torch.Size([32, 15])\n",
            "PREDICTION STRING: President Jammond Corbyn’s Bob Clark and Masters leader accused Snowden Un\n",
            "\n",
            "LABEL STRING: By the first millennium AD\n",
            "\n",
            "0.011259190929525308\n"
          ]
        },
        {
          "output_type": "stream",
          "name": "stderr",
          "text": [
            "\r 73%|███████▎  | 122/166 [05:08<01:50,  2.52s/it]"
          ]
        },
        {
          "output_type": "stream",
          "name": "stdout",
          "text": [
            "torch.Size([32, 271])\n",
            "torch.Size([32, 15])\n",
            "PREDICTION STRING: Now, the yearco - well. Light STRA About - Es.\n",
            "\n",
            "LABEL STRING: France\n",
            "\n",
            "0.004807692174556216\n"
          ]
        },
        {
          "output_type": "stream",
          "name": "stderr",
          "text": [
            "\r 74%|███████▍  | 123/166 [05:10<01:48,  2.52s/it]"
          ]
        },
        {
          "output_type": "stream",
          "name": "stdout",
          "text": [
            "torch.Size([32, 271])\n",
            "torch.Size([32, 15])\n",
            "PREDICTION STRING: Wedders Archives | Bracegs Skip to Oregon | Ohio Board -\n",
            "\n",
            "LABEL STRING: local building authority regulations and codes of practice\n",
            "\n",
            "0.009374999743923619\n"
          ]
        },
        {
          "output_type": "stream",
          "name": "stderr",
          "text": [
            "\r 75%|███████▍  | 124/166 [05:13<01:45,  2.52s/it]"
          ]
        },
        {
          "output_type": "stream",
          "name": "stdout",
          "text": [
            "torch.Size([32, 271])\n",
            "torch.Size([32, 15])\n",
            "PREDICTION STRING: Gashisco worked by Hermutions Skip to content Welcome@getout\n",
            "\n",
            "LABEL STRING: Charles L. Hutchinson\n",
            "\n",
            "0.0036764704368512174\n"
          ]
        },
        {
          "output_type": "stream",
          "name": "stderr",
          "text": [
            "\r 75%|███████▌  | 125/166 [05:15<01:43,  2.52s/it]"
          ]
        },
        {
          "output_type": "stream",
          "name": "stdout",
          "text": [
            "torch.Size([32, 271])\n",
            "torch.Size([32, 15])\n",
            "PREDICTION STRING:  my momm1.comAn - » Skip toThepiTeB\n",
            "\n",
            "LABEL STRING: 2010\n",
            "\n",
            "0.007812499853515627\n"
          ]
        },
        {
          "output_type": "stream",
          "name": "stderr",
          "text": [
            "\r 76%|███████▌  | 126/166 [05:18<01:40,  2.52s/it]"
          ]
        },
        {
          "output_type": "stream",
          "name": "stdout",
          "text": [
            "torch.Size([32, 271])\n",
            "torch.Size([32, 15])\n",
            "PREDICTION STRING:  the museum, with newspapers such as des emanating from the fly or white boxes\n",
            "\n",
            "LABEL STRING: 1949\n",
            "\n",
            "0.0056273943410622435\n"
          ]
        },
        {
          "output_type": "stream",
          "name": "stderr",
          "text": [
            "\r 77%|███████▋  | 127/166 [05:20<01:38,  2.52s/it]"
          ]
        },
        {
          "output_type": "stream",
          "name": "stdout",
          "text": [
            "torch.Size([32, 271])\n",
            "torch.Size([32, 15])\n",
            "PREDICTION STRING: A deep config auction of a young player on Friends of my family at around\n",
            "\n",
            "LABEL STRING: Peyton Manning\n",
            "\n",
            "0.00328947353878117\n"
          ]
        },
        {
          "output_type": "stream",
          "name": "stderr",
          "text": [
            "\r 77%|███████▋  | 128/166 [05:23<01:35,  2.52s/it]"
          ]
        },
        {
          "output_type": "stream",
          "name": "stdout",
          "text": [
            "torch.Size([32, 271])\n",
            "torch.Size([32, 15])\n",
            "PREDICTION STRING: drugistplant operator of my children(mvm32) - Mirror hub\n",
            "\n",
            "LABEL STRING: the Uighurs surrendered peacefully without violently resisting\n",
            "\n",
            "0.006517379411728972\n"
          ]
        },
        {
          "output_type": "stream",
          "name": "stderr",
          "text": [
            "\r 78%|███████▊  | 129/166 [05:25<01:33,  2.52s/it]"
          ]
        },
        {
          "output_type": "stream",
          "name": "stdout",
          "text": [
            "torch.Size([32, 271])\n",
            "torch.Size([32, 15])\n",
            "PREDICTION STRING:  collection and the former Johanna J. Ward Publisher of Place with Dingman\n",
            "\n",
            "LABEL STRING: 154\n",
            "\n",
            "0.00703124969150392\n"
          ]
        },
        {
          "output_type": "stream",
          "name": "stderr",
          "text": [
            "\r 78%|███████▊  | 130/166 [05:28<01:30,  2.52s/it]"
          ]
        },
        {
          "output_type": "stream",
          "name": "stdout",
          "text": [
            "torch.Size([32, 271])\n",
            "torch.Size([32, 15])\n",
            "PREDICTION STRING: Houston Methodist Johnson Country (RAC) Skip to content Close Menu Toggle navigation\n",
            "\n",
            "LABEL STRING: parallel\n",
            "\n",
            "0.0122767854695472\n"
          ]
        },
        {
          "output_type": "stream",
          "name": "stderr",
          "text": [
            "\r 79%|███████▉  | 131/166 [05:30<01:28,  2.52s/it]"
          ]
        },
        {
          "output_type": "stream",
          "name": "stdout",
          "text": [
            "torch.Size([32, 271])\n",
            "torch.Size([32, 15])\n",
            "PREDICTION STRING: Employers\n",
            "\n",
            "\n",
            " Skip to Kyrou sad! Phone Do Skip To\n",
            "\n",
            "LABEL STRING: Nairobi, Mombasa and Kisumu\n",
            "\n",
            "0.017487373334210167\n"
          ]
        },
        {
          "output_type": "stream",
          "name": "stderr",
          "text": [
            "\r 80%|███████▉  | 132/166 [05:33<01:25,  2.52s/it]"
          ]
        },
        {
          "output_type": "stream",
          "name": "stdout",
          "text": [
            "torch.Size([32, 271])\n",
            "torch.Size([32, 15])\n",
            "PREDICTION STRING: ’s Britanniere Renaissance in a most elegant facade, Clara McCartney,\n",
            "\n",
            "LABEL STRING: Louis Comfort Tiffany and Émile Gallé\n",
            "\n",
            "0.003676470445501736\n"
          ]
        },
        {
          "output_type": "stream",
          "name": "stderr",
          "text": [
            "\r 80%|████████  | 133/166 [05:35<01:23,  2.52s/it]"
          ]
        },
        {
          "output_type": "stream",
          "name": "stdout",
          "text": [
            "torch.Size([32, 271])\n",
            "torch.Size([32, 15])\n",
            "PREDICTION STRING: Close Hunterrea confidence\n",
            "\n",
            "\n",
            "\n",
            "\n",
            "In Mac\n",
            "\n",
            "By Welcome\n",
            "\n",
            "LABEL STRING: weak labor movements\n",
            "\n",
            "0.0076388886326388995\n"
          ]
        },
        {
          "output_type": "stream",
          "name": "stderr",
          "text": [
            "\r 81%|████████  | 134/166 [05:38<01:20,  2.52s/it]"
          ]
        },
        {
          "output_type": "stream",
          "name": "stdout",
          "text": [
            "torch.Size([32, 271])\n",
            "torch.Size([32, 15])\n",
            "PREDICTION STRING: \n",
            "\n",
            "Hello\n",
            "\n",
            "Tri finally comes\n",
            "\n",
            "\n",
            "\n",
            "VENZ\n",
            "\n",
            "LABEL STRING: $100,000\n",
            "\n",
            "0.0036764704368512174\n"
          ]
        },
        {
          "output_type": "stream",
          "name": "stderr",
          "text": [
            "\r 81%|████████▏ | 135/166 [05:40<01:18,  2.52s/it]"
          ]
        },
        {
          "output_type": "stream",
          "name": "stdout",
          "text": [
            "torch.Size([32, 271])\n",
            "torch.Size([32, 15])\n",
            "PREDICTION STRING: NEW DELER_o - \"+30-701 Index\" Skip to\n",
            "\n",
            "LABEL STRING: coal\n",
            "\n",
            "0.009358288516328755\n"
          ]
        },
        {
          "output_type": "stream",
          "name": "stderr",
          "text": [
            "\r 82%|████████▏ | 136/166 [05:43<01:15,  2.52s/it]"
          ]
        },
        {
          "output_type": "stream",
          "name": "stdout",
          "text": [
            "torch.Size([32, 271])\n",
            "torch.Size([32, 15])\n",
            "PREDICTION STRING: M - and shift | Cisco MEN' Skip to any operator, this Forum\n",
            "\n",
            "LABEL STRING: 2010\n",
            "\n",
            "0.022339664400474746\n"
          ]
        },
        {
          "output_type": "stream",
          "name": "stderr",
          "text": [
            "\r 83%|████████▎ | 137/166 [05:46<01:13,  2.52s/it]"
          ]
        },
        {
          "output_type": "stream",
          "name": "stdout",
          "text": [
            "torch.Size([32, 271])\n",
            "torch.Size([32, 15])\n",
            "PREDICTION STRING: Photo gallery dealer magnumà - FREE | freedately blog clause -\n",
            "\n",
            "LABEL STRING: NCAA's Division III\n",
            "\n",
            "0.011428571121510214\n"
          ]
        },
        {
          "output_type": "stream",
          "name": "stderr",
          "text": [
            "\r 83%|████████▎ | 138/166 [05:48<01:10,  2.52s/it]"
          ]
        },
        {
          "output_type": "stream",
          "name": "stdout",
          "text": [
            "torch.Size([32, 271])\n",
            "torch.Size([32, 15])\n",
            "PREDICTION STRING:  in a treaty and without consequence of special jurisdiction. Reasonable and appropriate measures\n",
            "\n",
            "LABEL STRING: constitutional law\n",
            "\n",
            "0.0022321427080676122\n"
          ]
        },
        {
          "output_type": "stream",
          "name": "stderr",
          "text": [
            "\r 84%|████████▎ | 139/166 [05:51<01:08,  2.52s/it]"
          ]
        },
        {
          "output_type": "stream",
          "name": "stdout",
          "text": [
            "torch.Size([32, 271])\n",
            "torch.Size([32, 15])\n",
            "PREDICTION STRING: \n",
            "\n",
            "While you were people preaching to your day’s room of\n",
            "\n",
            "LABEL STRING: microbes\n",
            "\n",
            "0.0\n"
          ]
        },
        {
          "output_type": "stream",
          "name": "stderr",
          "text": [
            "\r 84%|████████▍ | 140/166 [05:53<01:05,  2.52s/it]"
          ]
        },
        {
          "output_type": "stream",
          "name": "stdout",
          "text": [
            "torch.Size([32, 271])\n",
            "torch.Size([32, 15])\n",
            "PREDICTION STRING: Stay Over\n",
            "\n",
            "\n",
            "Mark_spotupl BOT Up Skip\n",
            "\n",
            "LABEL STRING: Economist\n",
            "\n",
            "0.010878758999754101\n"
          ]
        },
        {
          "output_type": "stream",
          "name": "stderr",
          "text": [
            "\r 85%|████████▍ | 141/166 [05:56<01:02,  2.52s/it]"
          ]
        },
        {
          "output_type": "stream",
          "name": "stdout",
          "text": [
            "torch.Size([32, 271])\n",
            "torch.Size([32, 15])\n",
            "PREDICTION STRING: Handleco Skip ~\n",
            "\n",
            "\n",
            "I never seems to let those on\n",
            "\n",
            "LABEL STRING: SurfClassic\n",
            "\n",
            "0.013358917710955362\n"
          ]
        },
        {
          "output_type": "stream",
          "name": "stderr",
          "text": [
            "\r 86%|████████▌ | 142/166 [05:58<01:00,  2.52s/it]"
          ]
        },
        {
          "output_type": "stream",
          "name": "stdout",
          "text": [
            "torch.Size([32, 271])\n",
            "torch.Size([32, 15])\n",
            "PREDICTION STRING: Chinese Musical Archive Skip to main site….rn writing Skip to homepage United V\n",
            "\n",
            "LABEL STRING: Hulu\n",
            "\n",
            "0.01073007091466393\n"
          ]
        },
        {
          "output_type": "stream",
          "name": "stderr",
          "text": [
            "\r 86%|████████▌ | 143/166 [06:01<00:57,  2.52s/it]"
          ]
        },
        {
          "output_type": "stream",
          "name": "stdout",
          "text": [
            "torch.Size([32, 271])\n",
            "torch.Size([32, 15])\n",
            "PREDICTION STRING: When\n",
            "\n",
            "\n",
            "\n",
            "\n",
            "\n",
            "is.\n",
            "\n",
            "\n",
            "\n",
            "11MY\n",
            "\n",
            "\n",
            "\n",
            "LABEL STRING: San Diego\n",
            "\n",
            "0.0027173911507561523\n"
          ]
        },
        {
          "output_type": "stream",
          "name": "stderr",
          "text": [
            "\r 87%|████████▋ | 144/166 [06:03<00:55,  2.52s/it]"
          ]
        },
        {
          "output_type": "stream",
          "name": "stdout",
          "text": [
            "torch.Size([32, 271])\n",
            "torch.Size([32, 15])\n",
            "PREDICTION STRING:  effective than the very low observation medium. Death T-Audio was ignited,\n",
            "\n",
            "LABEL STRING: AS-501\n",
            "\n",
            "0.0\n"
          ]
        },
        {
          "output_type": "stream",
          "name": "stderr",
          "text": [
            "\r 87%|████████▋ | 145/166 [06:06<00:52,  2.52s/it]"
          ]
        },
        {
          "output_type": "stream",
          "name": "stdout",
          "text": [
            "torch.Size([32, 271])\n",
            "torch.Size([32, 15])\n",
            "PREDICTION STRING: SantinaShop Cart × Or my online shop Manage their accounts Toggle\n",
            "\n",
            "LABEL STRING: two\n",
            "\n",
            "0.003906249931640626\n"
          ]
        },
        {
          "output_type": "stream",
          "name": "stderr",
          "text": [
            "\r 88%|████████▊ | 146/166 [06:08<00:50,  2.52s/it]"
          ]
        },
        {
          "output_type": "stream",
          "name": "stdout",
          "text": [
            "torch.Size([32, 271])\n",
            "torch.Size([32, 15])\n",
            "PREDICTION STRING: ForThe border charge - 1, 22 of - En It Today blovers\n",
            "\n",
            "LABEL STRING: enthusiasm\n",
            "\n",
            "0.0\n"
          ]
        },
        {
          "output_type": "stream",
          "name": "stderr",
          "text": [
            "\r 89%|████████▊ | 147/166 [06:11<00:47,  2.52s/it]"
          ]
        },
        {
          "output_type": "stream",
          "name": "stdout",
          "text": [
            "torch.Size([32, 271])\n",
            "torch.Size([32, 15])\n",
            "PREDICTION STRING: \n",
            "\n",
            "\n",
            "Seisturagination SkipCart ={ '{word\n",
            "\n",
            "LABEL STRING: the Art Deco style\n",
            "\n",
            "0.0028409089359504214\n"
          ]
        },
        {
          "output_type": "stream",
          "name": "stderr",
          "text": [
            "\r 89%|████████▉ | 148/166 [06:13<00:45,  2.52s/it]"
          ]
        },
        {
          "output_type": "stream",
          "name": "stdout",
          "text": [
            "torch.Size([32, 271])\n",
            "torch.Size([32, 15])\n",
            "PREDICTION STRING: All – There are -counter Skip to hit Rocketseude Skip Search home\n",
            "\n",
            "LABEL STRING: 1712\n",
            "\n",
            "0.014991829694878047\n"
          ]
        },
        {
          "output_type": "stream",
          "name": "stderr",
          "text": [
            "\r 90%|████████▉ | 149/166 [06:16<00:42,  2.52s/it]"
          ]
        },
        {
          "output_type": "stream",
          "name": "stdout",
          "text": [
            "torch.Size([32, 271])\n",
            "torch.Size([32, 15])\n",
            "PREDICTION STRING: ', orange ~ $ 18 in search Skip to close to Ahmadayandra\n",
            "\n",
            "LABEL STRING: white\n",
            "\n",
            "0.011318108599740369\n"
          ]
        },
        {
          "output_type": "stream",
          "name": "stderr",
          "text": [
            "\r 90%|█████████ | 150/166 [06:18<00:40,  2.52s/it]"
          ]
        },
        {
          "output_type": "stream",
          "name": "stdout",
          "text": [
            "torch.Size([32, 271])\n",
            "torch.Size([32, 15])\n",
            "PREDICTION STRING: \n",
            "\n",
            "We start to Cross Blower's Audrey's Children | Your Aunt\n",
            "\n",
            "LABEL STRING: infected corpses\n",
            "\n",
            "0.014620535285732237\n"
          ]
        },
        {
          "output_type": "stream",
          "name": "stderr",
          "text": [
            "\r 91%|█████████ | 151/166 [06:21<00:37,  2.52s/it]"
          ]
        },
        {
          "output_type": "stream",
          "name": "stdout",
          "text": [
            "torch.Size([32, 271])\n",
            "torch.Size([32, 15])\n",
            "PREDICTION STRING: Position Configu – the info destination I have given. There is a lot\n",
            "\n",
            "LABEL STRING: blinding flashes of light\n",
            "\n",
            "0.00957011049728755\n"
          ]
        },
        {
          "output_type": "stream",
          "name": "stderr",
          "text": [
            "\r 92%|█████████▏| 152/166 [06:23<00:35,  2.52s/it]"
          ]
        },
        {
          "output_type": "stream",
          "name": "stdout",
          "text": [
            "torch.Size([32, 271])\n",
            "torch.Size([32, 15])\n",
            "PREDICTION STRING:  booking Kit closeLayton owner arrested Buffalo Bureau for Warein\n",
            "\n",
            "\n",
            "\n",
            "\n",
            "LABEL STRING: health care professional\n",
            "\n",
            "0.008974358754207764\n"
          ]
        },
        {
          "output_type": "stream",
          "name": "stderr",
          "text": [
            "\r 92%|█████████▏| 153/166 [06:26<00:32,  2.52s/it]"
          ]
        },
        {
          "output_type": "stream",
          "name": "stdout",
          "text": [
            "torch.Size([32, 271])\n",
            "torch.Size([32, 15])\n",
            "PREDICTION STRING: Boomu promotion for the1 and one word a day to go Skip\n",
            "\n",
            "LABEL STRING: That Special Feeling\n",
            "\n",
            "0.0062499998687500025\n"
          ]
        },
        {
          "output_type": "stream",
          "name": "stderr",
          "text": [
            "\r 93%|█████████▎| 154/166 [06:28<00:30,  2.52s/it]"
          ]
        },
        {
          "output_type": "stream",
          "name": "stdout",
          "text": [
            "torch.Size([32, 271])\n",
            "torch.Size([32, 15])\n",
            "PREDICTION STRING:  The counter-intuitive andcompetitive response to the bar that is women’\n",
            "\n",
            "LABEL STRING: low demand\n",
            "\n",
            "0.0\n"
          ]
        },
        {
          "output_type": "stream",
          "name": "stderr",
          "text": [
            "\r 93%|█████████▎| 155/166 [06:31<00:27,  2.52s/it]"
          ]
        },
        {
          "output_type": "stream",
          "name": "stdout",
          "text": [
            "torch.Size([32, 271])\n",
            "torch.Size([32, 15])\n",
            "PREDICTION STRING: AnimalRecalls of Korities | Franç City Jail Codes is set for\n",
            "\n",
            "LABEL STRING: 11–13th century\n",
            "\n",
            "0.0039062498828125037\n"
          ]
        },
        {
          "output_type": "stream",
          "name": "stderr",
          "text": [
            "\r 94%|█████████▍| 156/166 [06:33<00:25,  2.52s/it]"
          ]
        },
        {
          "output_type": "stream",
          "name": "stdout",
          "text": [
            "torch.Size([32, 271])\n",
            "torch.Size([32, 15])\n",
            "PREDICTION STRING:  | JMAKEFILE Toggle This Page\n",
            "\n",
            "\n",
            "The Turkish Today has\n",
            "\n",
            "LABEL STRING: climate\n",
            "\n",
            "0.006249999845312503\n"
          ]
        },
        {
          "output_type": "stream",
          "name": "stderr",
          "text": [
            "\r 95%|█████████▍| 157/166 [06:36<00:22,  2.51s/it]"
          ]
        },
        {
          "output_type": "stream",
          "name": "stdout",
          "text": [
            "torch.Size([32, 271])\n",
            "torch.Size([32, 15])\n",
            "PREDICTION STRING: Donald’s Dirty Interiors - Climateist and a man to crush\n",
            "\n",
            "LABEL STRING: orientalism and tropicality\n",
            "\n",
            "0.01659497247562947\n"
          ]
        },
        {
          "output_type": "stream",
          "name": "stderr",
          "text": [
            "\r 95%|█████████▌| 158/166 [06:38<00:20,  2.52s/it]"
          ]
        },
        {
          "output_type": "stream",
          "name": "stdout",
          "text": [
            "torch.Size([32, 271])\n",
            "torch.Size([32, 15])\n",
            "PREDICTION STRING: It has been the property in our trip to be controversial flagiary! as\n",
            "\n",
            "LABEL STRING: BBC HD\n",
            "\n",
            "0.0\n"
          ]
        },
        {
          "output_type": "stream",
          "name": "stderr",
          "text": [
            "\r 96%|█████████▌| 159/166 [06:41<00:17,  2.52s/it]"
          ]
        },
        {
          "output_type": "stream",
          "name": "stdout",
          "text": [
            "torch.Size([32, 271])\n",
            "torch.Size([32, 15])\n",
            "PREDICTION STRING: Tiotican attraction suffered\n",
            "\n",
            "\n",
            "\n",
            "\n",
            "\n",
            "\n",
            "µrast\n",
            "\n",
            "LABEL STRING: clinical officers, medical officers and medical practitioners\n",
            "\n",
            "0.010388049028542103\n"
          ]
        },
        {
          "output_type": "stream",
          "name": "stderr",
          "text": [
            "\r 96%|█████████▋| 160/166 [06:43<00:15,  2.52s/it]"
          ]
        },
        {
          "output_type": "stream",
          "name": "stdout",
          "text": [
            "torch.Size([32, 271])\n",
            "torch.Size([32, 15])\n",
            "PREDICTION STRING: Tall Lady president\n",
            "\n",
            "\n",
            "UchatLAN battle brings a man to\n",
            "\n",
            "LABEL STRING: 1505\n",
            "\n",
            "0.011524208890114823\n"
          ]
        },
        {
          "output_type": "stream",
          "name": "stderr",
          "text": [
            "\r 97%|█████████▋| 161/166 [06:46<00:12,  2.51s/it]"
          ]
        },
        {
          "output_type": "stream",
          "name": "stdout",
          "text": [
            "torch.Size([32, 271])\n",
            "torch.Size([32, 15])\n",
            "PREDICTION STRING: In a new crolleditDVD: psychoactiveel Menu Skip to \"\n",
            "\n",
            "LABEL STRING: sidelines\n",
            "\n",
            "0.006517379398301902\n"
          ]
        },
        {
          "output_type": "stream",
          "name": "stderr",
          "text": [
            "\r 98%|█████████▊| 162/166 [06:48<00:10,  2.51s/it]"
          ]
        },
        {
          "output_type": "stream",
          "name": "stdout",
          "text": [
            "torch.Size([32, 271])\n",
            "torch.Size([32, 15])\n",
            "PREDICTION STRING: . Significant investigations of the large population with a number of its weak-cut\n",
            "\n",
            "LABEL STRING: Half of Paris's population of 100,000 people\n",
            "\n",
            "0.01393188826711653\n"
          ]
        },
        {
          "output_type": "stream",
          "name": "stderr",
          "text": [
            "\r 98%|█████████▊| 163/166 [06:51<00:07,  2.51s/it]"
          ]
        },
        {
          "output_type": "stream",
          "name": "stdout",
          "text": [
            "torch.Size([32, 271])\n",
            "torch.Size([32, 15])\n",
            "PREDICTION STRING:  \"simonepeople\n",
            "\n",
            "\n",
            "\n",
            "\n",
            "Updated turkey exists\n",
            "\n",
            "\n",
            "\n",
            "\n",
            "LABEL STRING: Linebacker Brandon Marshall\n",
            "\n",
            "0.007638888663503094\n"
          ]
        },
        {
          "output_type": "stream",
          "name": "stderr",
          "text": [
            "\r 99%|█████████▉| 164/166 [06:53<00:05,  2.51s/it]"
          ]
        },
        {
          "output_type": "stream",
          "name": "stdout",
          "text": [
            "torch.Size([32, 271])\n",
            "torch.Size([32, 15])\n",
            "PREDICTION STRING: \n",
            "\n",
            "\n",
            "\n",
            "\n",
            "The Cocquerade industry '? in block builder\n",
            "\n",
            "\n",
            "LABEL STRING: Warsaw\n",
            "\n",
            "0.012192234384552665\n"
          ]
        },
        {
          "output_type": "stream",
          "name": "stderr",
          "text": [
            "\r 99%|█████████▉| 165/166 [06:56<00:02,  2.51s/it]"
          ]
        },
        {
          "output_type": "stream",
          "name": "stdout",
          "text": [
            "torch.Size([32, 271])\n",
            "torch.Size([32, 15])\n",
            "PREDICTION STRING:  learning himself to keep the Hanss News) at the Henryapolis Monastery\n",
            "\n",
            "LABEL STRING: Paul Marin de la Malgue\n",
            "\n",
            "0.011346725812163422\n"
          ]
        },
        {
          "output_type": "stream",
          "name": "stderr",
          "text": [
            "100%|██████████| 166/166 [06:56<00:00,  2.51s/it]"
          ]
        },
        {
          "output_type": "stream",
          "name": "stdout",
          "text": [
            "torch.Size([5, 271])\n",
            "torch.Size([5, 15])\n",
            "PREDICTION STRING: Indiana\n",
            "\n",
            "\n",
            "\n",
            "AIPDH President Donald Trump has contacted George Tech\n",
            "\n",
            "LABEL STRING: ten seasons\n",
            "\n",
            "0.024999999140625034\n",
            "0.007730384763542612\n"
          ]
        },
        {
          "output_type": "stream",
          "name": "stderr",
          "text": [
            "\n"
          ]
        }
      ]
    },
    {
      "cell_type": "code",
      "source": [
        "model.load_state_dict(torch.load('/content/drive/MyDrive/DL/hw5-finetune/initial-try/model_checkpoint_epoch_2.pth'))"
      ],
      "metadata": {
        "id": "oikrJN4Mia8a",
        "colab": {
          "base_uri": "https://localhost:8080/",
          "height": 209
        },
        "outputId": "1ed382a1-9783-4872-ac92-4c2932eda2be"
      },
      "execution_count": null,
      "outputs": [
        {
          "output_type": "execute_result",
          "data": {
            "text/plain": [
              "\"Answer the following question given the context. Question: What makes day length constant on Earth? Context: The concept of inertia can be further generalized to explain the tendency of objects to continue in many different forms of constant motion, even those that are not strictly constant velocity. The rotational inertia of planet Earth is what fixes the constancy of the length of a day and the length of a year. Albert Einstein extended the principle of inertia further when he explained that reference frames subject to constant acceleration, such as those free-falling toward a gravitating object, were physically equivalent to inertial reference frames. This is why, for example, astronauts experience weightlessness when in free-fall orbit around the Earth, and why Newton's Laws of Motion are more easily discernible in such environments. If an astronaut places an object with mass in mid-air next to himself, it will remain stationary with respect to the astronaut due to its inertia. This is the same thing that would occur if the astronaut and the object were in intergalactic space with no net force of gravity acting on their shared reference frame. This principle of equivalence was one of the foundational underpinnings for the development of the general theory of relativity.<|endoftext|><|endoftext|><|endoftext|><|endoftext|><|endoftext|><|endoftext|><|endoftext|><|endoftext|><|endoftext|><|endoftext|><|endoftext|><|endoftext|>\""
            ],
            "application/vnd.google.colaboratory.intrinsic+json": {
              "type": "string"
            }
          },
          "metadata": {},
          "execution_count": 24
        }
      ]
    },
    {
      "cell_type": "code",
      "source": [
        "enc.decode(list(output[0]))"
      ],
      "metadata": {
        "colab": {
          "base_uri": "https://localhost:8080/",
          "height": 296
        },
        "id": "RT3jtmuKzkas",
        "outputId": "d4d76f5a-67f7-4203-99a6-3818f782e388"
      },
      "execution_count": null,
      "outputs": [
        {
          "output_type": "execute_result",
          "data": {
            "text/plain": [
              "'Anxiety disorders are the most prevalent of all brain disorders, and yet there’s been little progress in drug treatments for anxiety in more than 50 years. Now, researchers reporting in the Cell Press journal Current Biology on March 24 suggest that studies in flies might help to elucidate fundamental mechanisms underlying anxiety and point the way to new anti-anxiety treatments. “Anxiety research in rodents has been frustrated by the small sample sizes typically used in experiments and the complexity of the mammalian brain,” says Adam Claridge-Chang of Duke-NUS Medical School in Singapore. “Many scientists in the rodent anxiety field would agree that this drug development failure does not imply a ‘failure to translate,’ but rather an inadequate understanding of the basic neurogenetic mechanisms of anxiety. “Using flies lends the advantages of a smaller animal brain, more sophisticated genetic tools, and greatly larger sample sizes. Evolutionary conservation of function between animal species means findings in fly could eventually be translated into rodent anxiety research.” Farhan Mohammad, the study’s first author, got the idea to study anxiety in flies after noticing that the insects follow walls when in an enclosed chamber. He knew that from multiple joints at opposite kneeurs, spreading fat and mechanical Grimm therapeutic-mediated teeth would steep further attention about one of the reasons for infection: just because it involved as high, a shameful mouse is already used. Control linolecular integrity of soil size is blocked such as fluid (US) maximum timidity (Garditic) reflection of phase-burner phase (IR⭐ x 706μminmethylpyrization), and a minimal restoration of tinkering in molecules.Both artificial intelligence and structural structure of polyenscience rapidly shifted toward the molecular structures, creating the biological “Feltoreе Temporal Flisterization”, or previously called cells which silent, by best seeing the microfluorescent SIO complex better than the equivalent of the mechanism. Such increases among hydroxylosuts, birds with thick bleelt lasers, strongly, wide polar bears displayed an “cri-glypy” for the absorption of toxic matter and'"
            ],
            "application/vnd.google.colaboratory.intrinsic+json": {
              "type": "string"
            }
          },
          "metadata": {},
          "execution_count": 39
        }
      ]
    },
    {
      "cell_type": "code",
      "source": [
        "len(list(output[0]))"
      ],
      "metadata": {
        "colab": {
          "base_uri": "https://localhost:8080/"
        },
        "id": "YMNsb9j1zpDu",
        "outputId": "36769d3e-6351-4253-e5af-f47535b47e33"
      },
      "execution_count": null,
      "outputs": [
        {
          "output_type": "execute_result",
          "data": {
            "text/plain": [
              "224"
            ]
          },
          "metadata": {},
          "execution_count": 37
        }
      ]
    },
    {
      "cell_type": "code",
      "source": [
        "enc = tiktoken.get_encoding(\"gpt2\")\n",
        "enc.decode([config['end_token']])"
      ],
      "metadata": {
        "id": "aFqjkFxyzyM9",
        "colab": {
          "base_uri": "https://localhost:8080/",
          "height": 35
        },
        "outputId": "1e59c900-b09c-45ba-c470-14875521bc51"
      },
      "execution_count": 64,
      "outputs": [
        {
          "output_type": "execute_result",
          "data": {
            "text/plain": [
              "'<|endoftext|>'"
            ],
            "application/vnd.google.colaboratory.intrinsic+json": {
              "type": "string"
            }
          },
          "metadata": {},
          "execution_count": 64
        }
      ]
    },
    {
      "cell_type": "code",
      "source": [],
      "metadata": {
        "id": "lKCEapfyPJ6K"
      },
      "execution_count": null,
      "outputs": []
    }
  ]
}